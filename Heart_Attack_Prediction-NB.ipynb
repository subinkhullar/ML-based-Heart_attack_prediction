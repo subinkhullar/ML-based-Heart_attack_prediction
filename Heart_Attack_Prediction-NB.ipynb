{
 "cells": [
  {
   "cell_type": "markdown",
   "id": "de398813",
   "metadata": {},
   "source": [
    "# Setup\n",
    "\n",
    "First, let's import a few common modules, ensure MatplotLib plots figures inline and prepare a function to save the figures. We also check that Python 3.5 or later is installed (although Python 2.x may work, it is deprecated, so we use Python 3 instead), as well as Scikit-Learn ≥0.20."
   ]
  },
  {
   "cell_type": "code",
   "execution_count": 1,
   "id": "424502cd",
   "metadata": {},
   "outputs": [],
   "source": [
    "# Python ≥3.5 is required\n",
    "import sys\n",
    "assert sys.version_info >= (3, 5)\n",
    "\n",
    "# Scikit-Learn ≥0.20 is required\n",
    "import sklearn\n",
    "assert sklearn.__version__ >= \"0.20\"\n",
    "\n",
    "# Common imports\n",
    "import numpy as np\n",
    "import os\n",
    "\n",
    "# To plot pretty figures\n",
    "%matplotlib inline\n",
    "import matplotlib as mpl\n",
    "import matplotlib.pyplot as plt\n",
    "mpl.rc('axes', labelsize=14)\n",
    "mpl.rc('xtick', labelsize=12)\n",
    "mpl.rc('ytick', labelsize=12)\n",
    "\n",
    "# Where to save the figures\n",
    "PROJECT_ROOT_DIR = \".\"\n",
    "CHAPTER_ID = \"end_to_end_project\"\n",
    "IMAGES_PATH = os.path.join(PROJECT_ROOT_DIR, \"images\", CHAPTER_ID)\n",
    "os.makedirs(IMAGES_PATH, exist_ok=True)\n",
    "\n",
    "def save_fig(fig_id, tight_layout=True, fig_extension=\"png\", resolution=300):\n",
    "    path = os.path.join(IMAGES_PATH, fig_id + \".\" + fig_extension)\n",
    "    print(\"Saving figure\", fig_id)\n",
    "    if tight_layout:\n",
    "        plt.tight_layout()\n",
    "    plt.savefig(path, format=fig_extension, dpi=resolution)\n",
    "\n",
    "# Ignore useless warnings (see SciPy issue #5998)\n",
    "import warnings\n",
    "warnings.filterwarnings(action=\"ignore\", message=\"^internal gelsd\")"
   ]
  },
  {
   "cell_type": "markdown",
   "id": "36fbabfd",
   "metadata": {},
   "source": [
    "# Get the data"
   ]
  },
  {
   "cell_type": "code",
   "execution_count": 50,
   "id": "77ef15b5",
   "metadata": {},
   "outputs": [],
   "source": [
    "import os\n",
    "import pandas as pd\n",
    "\n",
    "DATASET_PATH = os.path.join(\"datasets\", \"heart_attack_ds\")\n",
    "\n",
    "def load_data(path=DATASET_PATH):\n",
    "    csv_path = os.path.join(path, \"Heart_Attack_Analysis_Data.csv\")\n",
    "    return pd.read_csv(csv_path)"
   ]
  },
  {
   "cell_type": "code",
   "execution_count": 260,
   "id": "5ee12c8c",
   "metadata": {},
   "outputs": [
    {
     "data": {
      "text/html": [
       "<div>\n",
       "<style scoped>\n",
       "    .dataframe tbody tr th:only-of-type {\n",
       "        vertical-align: middle;\n",
       "    }\n",
       "\n",
       "    .dataframe tbody tr th {\n",
       "        vertical-align: top;\n",
       "    }\n",
       "\n",
       "    .dataframe thead th {\n",
       "        text-align: right;\n",
       "    }\n",
       "</style>\n",
       "<table border=\"1\" class=\"dataframe\">\n",
       "  <thead>\n",
       "    <tr style=\"text-align: right;\">\n",
       "      <th></th>\n",
       "      <th>Age</th>\n",
       "      <th>Sex</th>\n",
       "      <th>CP_Type</th>\n",
       "      <th>BloodPressure</th>\n",
       "      <th>Cholestrol</th>\n",
       "      <th>BloodSugar</th>\n",
       "      <th>ECG</th>\n",
       "      <th>MaxHeartRate</th>\n",
       "      <th>ExerciseAngina</th>\n",
       "      <th>FamilyHistory</th>\n",
       "      <th>Target</th>\n",
       "    </tr>\n",
       "  </thead>\n",
       "  <tbody>\n",
       "    <tr>\n",
       "      <th>0</th>\n",
       "      <td>63</td>\n",
       "      <td>1</td>\n",
       "      <td>3</td>\n",
       "      <td>145</td>\n",
       "      <td>233</td>\n",
       "      <td>1</td>\n",
       "      <td>0</td>\n",
       "      <td>150</td>\n",
       "      <td>0</td>\n",
       "      <td>2</td>\n",
       "      <td>1</td>\n",
       "    </tr>\n",
       "    <tr>\n",
       "      <th>1</th>\n",
       "      <td>37</td>\n",
       "      <td>1</td>\n",
       "      <td>2</td>\n",
       "      <td>130</td>\n",
       "      <td>250</td>\n",
       "      <td>0</td>\n",
       "      <td>1</td>\n",
       "      <td>187</td>\n",
       "      <td>0</td>\n",
       "      <td>1</td>\n",
       "      <td>1</td>\n",
       "    </tr>\n",
       "    <tr>\n",
       "      <th>2</th>\n",
       "      <td>41</td>\n",
       "      <td>0</td>\n",
       "      <td>1</td>\n",
       "      <td>130</td>\n",
       "      <td>204</td>\n",
       "      <td>0</td>\n",
       "      <td>0</td>\n",
       "      <td>172</td>\n",
       "      <td>0</td>\n",
       "      <td>0</td>\n",
       "      <td>1</td>\n",
       "    </tr>\n",
       "    <tr>\n",
       "      <th>3</th>\n",
       "      <td>56</td>\n",
       "      <td>1</td>\n",
       "      <td>1</td>\n",
       "      <td>120</td>\n",
       "      <td>236</td>\n",
       "      <td>0</td>\n",
       "      <td>1</td>\n",
       "      <td>178</td>\n",
       "      <td>0</td>\n",
       "      <td>1</td>\n",
       "      <td>1</td>\n",
       "    </tr>\n",
       "    <tr>\n",
       "      <th>4</th>\n",
       "      <td>57</td>\n",
       "      <td>0</td>\n",
       "      <td>0</td>\n",
       "      <td>120</td>\n",
       "      <td>354</td>\n",
       "      <td>0</td>\n",
       "      <td>1</td>\n",
       "      <td>163</td>\n",
       "      <td>1</td>\n",
       "      <td>0</td>\n",
       "      <td>1</td>\n",
       "    </tr>\n",
       "  </tbody>\n",
       "</table>\n",
       "</div>"
      ],
      "text/plain": [
       "   Age  Sex  CP_Type  BloodPressure  Cholestrol  BloodSugar  ECG  \\\n",
       "0   63    1        3            145         233           1    0   \n",
       "1   37    1        2            130         250           0    1   \n",
       "2   41    0        1            130         204           0    0   \n",
       "3   56    1        1            120         236           0    1   \n",
       "4   57    0        0            120         354           0    1   \n",
       "\n",
       "   MaxHeartRate  ExerciseAngina  FamilyHistory  Target  \n",
       "0           150               0              2       1  \n",
       "1           187               0              1       1  \n",
       "2           172               0              0       1  \n",
       "3           178               0              1       1  \n",
       "4           163               1              0       1  "
      ]
     },
     "execution_count": 260,
     "metadata": {},
     "output_type": "execute_result"
    }
   ],
   "source": [
    "heart_condition = load_data()\n",
    "heart_condition.head()"
   ]
  },
  {
   "cell_type": "code",
   "execution_count": 142,
   "id": "d0a91f15",
   "metadata": {},
   "outputs": [
    {
     "name": "stdout",
     "output_type": "stream",
     "text": [
      "<class 'pandas.core.frame.DataFrame'>\n",
      "RangeIndex: 303 entries, 0 to 302\n",
      "Data columns (total 11 columns):\n",
      " #   Column          Non-Null Count  Dtype\n",
      "---  ------          --------------  -----\n",
      " 0   Age             303 non-null    int64\n",
      " 1   Sex             303 non-null    int64\n",
      " 2   CP_Type         303 non-null    int64\n",
      " 3   BloodPressure   303 non-null    int64\n",
      " 4   Cholestrol      303 non-null    int64\n",
      " 5   BloodSugar      303 non-null    int64\n",
      " 6   ECG             303 non-null    int64\n",
      " 7   MaxHeartRate    303 non-null    int64\n",
      " 8   ExerciseAngina  303 non-null    int64\n",
      " 9   FamilyHistory   303 non-null    int64\n",
      " 10  Target          303 non-null    int64\n",
      "dtypes: int64(11)\n",
      "memory usage: 26.2 KB\n"
     ]
    }
   ],
   "source": [
    "heart_condition.info()"
   ]
  },
  {
   "cell_type": "code",
   "execution_count": 143,
   "id": "1e7225ba",
   "metadata": {},
   "outputs": [
    {
     "data": {
      "text/html": [
       "<div>\n",
       "<style scoped>\n",
       "    .dataframe tbody tr th:only-of-type {\n",
       "        vertical-align: middle;\n",
       "    }\n",
       "\n",
       "    .dataframe tbody tr th {\n",
       "        vertical-align: top;\n",
       "    }\n",
       "\n",
       "    .dataframe thead th {\n",
       "        text-align: right;\n",
       "    }\n",
       "</style>\n",
       "<table border=\"1\" class=\"dataframe\">\n",
       "  <thead>\n",
       "    <tr style=\"text-align: right;\">\n",
       "      <th></th>\n",
       "      <th>Age</th>\n",
       "      <th>Sex</th>\n",
       "      <th>CP_Type</th>\n",
       "      <th>BloodPressure</th>\n",
       "      <th>Cholestrol</th>\n",
       "      <th>BloodSugar</th>\n",
       "      <th>ECG</th>\n",
       "      <th>MaxHeartRate</th>\n",
       "      <th>ExerciseAngina</th>\n",
       "      <th>FamilyHistory</th>\n",
       "      <th>Target</th>\n",
       "    </tr>\n",
       "  </thead>\n",
       "  <tbody>\n",
       "    <tr>\n",
       "      <th>count</th>\n",
       "      <td>303.000000</td>\n",
       "      <td>303.000000</td>\n",
       "      <td>303.000000</td>\n",
       "      <td>303.000000</td>\n",
       "      <td>303.000000</td>\n",
       "      <td>303.000000</td>\n",
       "      <td>303.000000</td>\n",
       "      <td>303.000000</td>\n",
       "      <td>303.000000</td>\n",
       "      <td>303.000000</td>\n",
       "      <td>303.000000</td>\n",
       "    </tr>\n",
       "    <tr>\n",
       "      <th>mean</th>\n",
       "      <td>54.366337</td>\n",
       "      <td>0.683168</td>\n",
       "      <td>0.966997</td>\n",
       "      <td>131.623762</td>\n",
       "      <td>246.264026</td>\n",
       "      <td>0.148515</td>\n",
       "      <td>0.528053</td>\n",
       "      <td>149.646865</td>\n",
       "      <td>0.326733</td>\n",
       "      <td>1.204620</td>\n",
       "      <td>0.544554</td>\n",
       "    </tr>\n",
       "    <tr>\n",
       "      <th>std</th>\n",
       "      <td>9.082101</td>\n",
       "      <td>0.466011</td>\n",
       "      <td>1.032052</td>\n",
       "      <td>17.538143</td>\n",
       "      <td>51.830751</td>\n",
       "      <td>0.356198</td>\n",
       "      <td>0.525860</td>\n",
       "      <td>22.905161</td>\n",
       "      <td>0.469794</td>\n",
       "      <td>1.096825</td>\n",
       "      <td>0.498835</td>\n",
       "    </tr>\n",
       "    <tr>\n",
       "      <th>min</th>\n",
       "      <td>29.000000</td>\n",
       "      <td>0.000000</td>\n",
       "      <td>0.000000</td>\n",
       "      <td>94.000000</td>\n",
       "      <td>126.000000</td>\n",
       "      <td>0.000000</td>\n",
       "      <td>0.000000</td>\n",
       "      <td>71.000000</td>\n",
       "      <td>0.000000</td>\n",
       "      <td>0.000000</td>\n",
       "      <td>0.000000</td>\n",
       "    </tr>\n",
       "    <tr>\n",
       "      <th>25%</th>\n",
       "      <td>47.500000</td>\n",
       "      <td>0.000000</td>\n",
       "      <td>0.000000</td>\n",
       "      <td>120.000000</td>\n",
       "      <td>211.000000</td>\n",
       "      <td>0.000000</td>\n",
       "      <td>0.000000</td>\n",
       "      <td>133.500000</td>\n",
       "      <td>0.000000</td>\n",
       "      <td>0.000000</td>\n",
       "      <td>0.000000</td>\n",
       "    </tr>\n",
       "    <tr>\n",
       "      <th>50%</th>\n",
       "      <td>55.000000</td>\n",
       "      <td>1.000000</td>\n",
       "      <td>1.000000</td>\n",
       "      <td>130.000000</td>\n",
       "      <td>240.000000</td>\n",
       "      <td>0.000000</td>\n",
       "      <td>1.000000</td>\n",
       "      <td>153.000000</td>\n",
       "      <td>0.000000</td>\n",
       "      <td>1.000000</td>\n",
       "      <td>1.000000</td>\n",
       "    </tr>\n",
       "    <tr>\n",
       "      <th>75%</th>\n",
       "      <td>61.000000</td>\n",
       "      <td>1.000000</td>\n",
       "      <td>2.000000</td>\n",
       "      <td>140.000000</td>\n",
       "      <td>274.500000</td>\n",
       "      <td>0.000000</td>\n",
       "      <td>1.000000</td>\n",
       "      <td>166.000000</td>\n",
       "      <td>1.000000</td>\n",
       "      <td>2.000000</td>\n",
       "      <td>1.000000</td>\n",
       "    </tr>\n",
       "    <tr>\n",
       "      <th>max</th>\n",
       "      <td>77.000000</td>\n",
       "      <td>1.000000</td>\n",
       "      <td>3.000000</td>\n",
       "      <td>200.000000</td>\n",
       "      <td>564.000000</td>\n",
       "      <td>1.000000</td>\n",
       "      <td>2.000000</td>\n",
       "      <td>202.000000</td>\n",
       "      <td>1.000000</td>\n",
       "      <td>5.000000</td>\n",
       "      <td>1.000000</td>\n",
       "    </tr>\n",
       "  </tbody>\n",
       "</table>\n",
       "</div>"
      ],
      "text/plain": [
       "              Age         Sex     CP_Type  BloodPressure  Cholestrol  \\\n",
       "count  303.000000  303.000000  303.000000     303.000000  303.000000   \n",
       "mean    54.366337    0.683168    0.966997     131.623762  246.264026   \n",
       "std      9.082101    0.466011    1.032052      17.538143   51.830751   \n",
       "min     29.000000    0.000000    0.000000      94.000000  126.000000   \n",
       "25%     47.500000    0.000000    0.000000     120.000000  211.000000   \n",
       "50%     55.000000    1.000000    1.000000     130.000000  240.000000   \n",
       "75%     61.000000    1.000000    2.000000     140.000000  274.500000   \n",
       "max     77.000000    1.000000    3.000000     200.000000  564.000000   \n",
       "\n",
       "       BloodSugar         ECG  MaxHeartRate  ExerciseAngina  FamilyHistory  \\\n",
       "count  303.000000  303.000000    303.000000      303.000000     303.000000   \n",
       "mean     0.148515    0.528053    149.646865        0.326733       1.204620   \n",
       "std      0.356198    0.525860     22.905161        0.469794       1.096825   \n",
       "min      0.000000    0.000000     71.000000        0.000000       0.000000   \n",
       "25%      0.000000    0.000000    133.500000        0.000000       0.000000   \n",
       "50%      0.000000    1.000000    153.000000        0.000000       1.000000   \n",
       "75%      0.000000    1.000000    166.000000        1.000000       2.000000   \n",
       "max      1.000000    2.000000    202.000000        1.000000       5.000000   \n",
       "\n",
       "           Target  \n",
       "count  303.000000  \n",
       "mean     0.544554  \n",
       "std      0.498835  \n",
       "min      0.000000  \n",
       "25%      0.000000  \n",
       "50%      1.000000  \n",
       "75%      1.000000  \n",
       "max      1.000000  "
      ]
     },
     "execution_count": 143,
     "metadata": {},
     "output_type": "execute_result"
    }
   ],
   "source": [
    "heart_condition.describe()"
   ]
  },
  {
   "cell_type": "markdown",
   "id": "e5ab3598",
   "metadata": {},
   "source": [
    "# Data Pre-processing\n",
    "We perform the following steps:\n",
    "1. Determine number of null values in the dataset.\n",
    "2. ECG value '2' is an wrong value. Change it to '1', as ECG is a binary categorical variable.\n",
    "2. Convert Sex, CP_Type, BloodSugar, ECG, ExerciseAngina into categorical type from int type.\n",
    "3. Perform One Hot Encoding on the column CP_Type\n",
    "4. Remove duplicate rows"
   ]
  },
  {
   "cell_type": "code",
   "execution_count": 144,
   "id": "e1b0edbb",
   "metadata": {},
   "outputs": [
    {
     "data": {
      "text/plain": [
       "Age               0\n",
       "Sex               0\n",
       "CP_Type           0\n",
       "BloodPressure     0\n",
       "Cholestrol        0\n",
       "BloodSugar        0\n",
       "ECG               0\n",
       "MaxHeartRate      0\n",
       "ExerciseAngina    0\n",
       "FamilyHistory     0\n",
       "Target            0\n",
       "dtype: int64"
      ]
     },
     "execution_count": 144,
     "metadata": {},
     "output_type": "execute_result"
    }
   ],
   "source": [
    "# 1. Count of null values in dataset\n",
    "heart_condition.isnull().sum()"
   ]
  },
  {
   "cell_type": "code",
   "execution_count": 261,
   "id": "afe8bcc7",
   "metadata": {},
   "outputs": [
    {
     "data": {
      "text/html": [
       "<div>\n",
       "<style scoped>\n",
       "    .dataframe tbody tr th:only-of-type {\n",
       "        vertical-align: middle;\n",
       "    }\n",
       "\n",
       "    .dataframe tbody tr th {\n",
       "        vertical-align: top;\n",
       "    }\n",
       "\n",
       "    .dataframe thead th {\n",
       "        text-align: right;\n",
       "    }\n",
       "</style>\n",
       "<table border=\"1\" class=\"dataframe\">\n",
       "  <thead>\n",
       "    <tr style=\"text-align: right;\">\n",
       "      <th></th>\n",
       "      <th>Age</th>\n",
       "      <th>Sex</th>\n",
       "      <th>CP_Type</th>\n",
       "      <th>BloodPressure</th>\n",
       "      <th>Cholestrol</th>\n",
       "      <th>BloodSugar</th>\n",
       "      <th>ECG</th>\n",
       "      <th>MaxHeartRate</th>\n",
       "      <th>ExerciseAngina</th>\n",
       "      <th>FamilyHistory</th>\n",
       "      <th>Target</th>\n",
       "    </tr>\n",
       "  </thead>\n",
       "  <tbody>\n",
       "    <tr>\n",
       "      <th>count</th>\n",
       "      <td>303.000000</td>\n",
       "      <td>303.000000</td>\n",
       "      <td>303.000000</td>\n",
       "      <td>303.000000</td>\n",
       "      <td>303.000000</td>\n",
       "      <td>303.000000</td>\n",
       "      <td>303.000000</td>\n",
       "      <td>303.000000</td>\n",
       "      <td>303.000000</td>\n",
       "      <td>303.000000</td>\n",
       "      <td>303.000000</td>\n",
       "    </tr>\n",
       "    <tr>\n",
       "      <th>mean</th>\n",
       "      <td>54.366337</td>\n",
       "      <td>0.683168</td>\n",
       "      <td>0.966997</td>\n",
       "      <td>131.623762</td>\n",
       "      <td>246.264026</td>\n",
       "      <td>0.148515</td>\n",
       "      <td>0.514851</td>\n",
       "      <td>149.646865</td>\n",
       "      <td>0.326733</td>\n",
       "      <td>1.204620</td>\n",
       "      <td>0.544554</td>\n",
       "    </tr>\n",
       "    <tr>\n",
       "      <th>std</th>\n",
       "      <td>9.082101</td>\n",
       "      <td>0.466011</td>\n",
       "      <td>1.032052</td>\n",
       "      <td>17.538143</td>\n",
       "      <td>51.830751</td>\n",
       "      <td>0.356198</td>\n",
       "      <td>0.500606</td>\n",
       "      <td>22.905161</td>\n",
       "      <td>0.469794</td>\n",
       "      <td>1.096825</td>\n",
       "      <td>0.498835</td>\n",
       "    </tr>\n",
       "    <tr>\n",
       "      <th>min</th>\n",
       "      <td>29.000000</td>\n",
       "      <td>0.000000</td>\n",
       "      <td>0.000000</td>\n",
       "      <td>94.000000</td>\n",
       "      <td>126.000000</td>\n",
       "      <td>0.000000</td>\n",
       "      <td>0.000000</td>\n",
       "      <td>71.000000</td>\n",
       "      <td>0.000000</td>\n",
       "      <td>0.000000</td>\n",
       "      <td>0.000000</td>\n",
       "    </tr>\n",
       "    <tr>\n",
       "      <th>25%</th>\n",
       "      <td>47.500000</td>\n",
       "      <td>0.000000</td>\n",
       "      <td>0.000000</td>\n",
       "      <td>120.000000</td>\n",
       "      <td>211.000000</td>\n",
       "      <td>0.000000</td>\n",
       "      <td>0.000000</td>\n",
       "      <td>133.500000</td>\n",
       "      <td>0.000000</td>\n",
       "      <td>0.000000</td>\n",
       "      <td>0.000000</td>\n",
       "    </tr>\n",
       "    <tr>\n",
       "      <th>50%</th>\n",
       "      <td>55.000000</td>\n",
       "      <td>1.000000</td>\n",
       "      <td>1.000000</td>\n",
       "      <td>130.000000</td>\n",
       "      <td>240.000000</td>\n",
       "      <td>0.000000</td>\n",
       "      <td>1.000000</td>\n",
       "      <td>153.000000</td>\n",
       "      <td>0.000000</td>\n",
       "      <td>1.000000</td>\n",
       "      <td>1.000000</td>\n",
       "    </tr>\n",
       "    <tr>\n",
       "      <th>75%</th>\n",
       "      <td>61.000000</td>\n",
       "      <td>1.000000</td>\n",
       "      <td>2.000000</td>\n",
       "      <td>140.000000</td>\n",
       "      <td>274.500000</td>\n",
       "      <td>0.000000</td>\n",
       "      <td>1.000000</td>\n",
       "      <td>166.000000</td>\n",
       "      <td>1.000000</td>\n",
       "      <td>2.000000</td>\n",
       "      <td>1.000000</td>\n",
       "    </tr>\n",
       "    <tr>\n",
       "      <th>max</th>\n",
       "      <td>77.000000</td>\n",
       "      <td>1.000000</td>\n",
       "      <td>3.000000</td>\n",
       "      <td>200.000000</td>\n",
       "      <td>564.000000</td>\n",
       "      <td>1.000000</td>\n",
       "      <td>1.000000</td>\n",
       "      <td>202.000000</td>\n",
       "      <td>1.000000</td>\n",
       "      <td>5.000000</td>\n",
       "      <td>1.000000</td>\n",
       "    </tr>\n",
       "  </tbody>\n",
       "</table>\n",
       "</div>"
      ],
      "text/plain": [
       "              Age         Sex     CP_Type  BloodPressure  Cholestrol  \\\n",
       "count  303.000000  303.000000  303.000000     303.000000  303.000000   \n",
       "mean    54.366337    0.683168    0.966997     131.623762  246.264026   \n",
       "std      9.082101    0.466011    1.032052      17.538143   51.830751   \n",
       "min     29.000000    0.000000    0.000000      94.000000  126.000000   \n",
       "25%     47.500000    0.000000    0.000000     120.000000  211.000000   \n",
       "50%     55.000000    1.000000    1.000000     130.000000  240.000000   \n",
       "75%     61.000000    1.000000    2.000000     140.000000  274.500000   \n",
       "max     77.000000    1.000000    3.000000     200.000000  564.000000   \n",
       "\n",
       "       BloodSugar         ECG  MaxHeartRate  ExerciseAngina  FamilyHistory  \\\n",
       "count  303.000000  303.000000    303.000000      303.000000     303.000000   \n",
       "mean     0.148515    0.514851    149.646865        0.326733       1.204620   \n",
       "std      0.356198    0.500606     22.905161        0.469794       1.096825   \n",
       "min      0.000000    0.000000     71.000000        0.000000       0.000000   \n",
       "25%      0.000000    0.000000    133.500000        0.000000       0.000000   \n",
       "50%      0.000000    1.000000    153.000000        0.000000       1.000000   \n",
       "75%      0.000000    1.000000    166.000000        1.000000       2.000000   \n",
       "max      1.000000    1.000000    202.000000        1.000000       5.000000   \n",
       "\n",
       "           Target  \n",
       "count  303.000000  \n",
       "mean     0.544554  \n",
       "std      0.498835  \n",
       "min      0.000000  \n",
       "25%      0.000000  \n",
       "50%      1.000000  \n",
       "75%      1.000000  \n",
       "max      1.000000  "
      ]
     },
     "execution_count": 261,
     "metadata": {},
     "output_type": "execute_result"
    }
   ],
   "source": [
    "# Changing ECG=2 to ECG=1\n",
    "heart_condition.loc[heart_condition['ECG'] == 2, 'ECG'] = 1\n",
    "heart_condition.describe()"
   ]
  },
  {
   "cell_type": "code",
   "execution_count": 262,
   "id": "418dbfaf",
   "metadata": {},
   "outputs": [
    {
     "data": {
      "text/plain": [
       "Age                  int64\n",
       "Sex               category\n",
       "CP_Type           category\n",
       "BloodPressure        int64\n",
       "Cholestrol           int64\n",
       "BloodSugar        category\n",
       "ECG               category\n",
       "MaxHeartRate         int64\n",
       "ExerciseAngina    category\n",
       "FamilyHistory        int64\n",
       "Target               int64\n",
       "dtype: object"
      ]
     },
     "execution_count": 262,
     "metadata": {},
     "output_type": "execute_result"
    }
   ],
   "source": [
    "# 2. Typecast to Categorical columns in pandas\n",
    "heart_condition['Sex'] = pd.Categorical(heart_condition.Sex)\n",
    "heart_condition['CP_Type'] = pd.Categorical(heart_condition.CP_Type)\n",
    "heart_condition['BloodSugar'] = pd.Categorical(heart_condition.BloodSugar)\n",
    "heart_condition['ECG'] = pd.Categorical(heart_condition.ECG)\n",
    "heart_condition['ExerciseAngina'] = pd.Categorical(heart_condition.ExerciseAngina)\n",
    "heart_condition.dtypes"
   ]
  },
  {
   "cell_type": "code",
   "execution_count": 263,
   "id": "7c3bae84",
   "metadata": {},
   "outputs": [
    {
     "name": "stdout",
     "output_type": "stream",
     "text": [
      "     Age Sex  BloodPressure  Cholestrol BloodSugar ECG  MaxHeartRate  \\\n",
      "0     63   1            145         233          1   0           150   \n",
      "1     37   1            130         250          0   1           187   \n",
      "2     41   0            130         204          0   0           172   \n",
      "3     56   1            120         236          0   1           178   \n",
      "4     57   0            120         354          0   1           163   \n",
      "..   ...  ..            ...         ...        ...  ..           ...   \n",
      "298   57   0            140         241          0   1           123   \n",
      "299   45   1            110         264          0   1           132   \n",
      "300   68   1            144         193          1   1           141   \n",
      "301   57   1            130         131          0   1           115   \n",
      "302   57   0            130         236          0   0           174   \n",
      "\n",
      "    ExerciseAngina  FamilyHistory  Target  CP_Type_0  CP_Type_1  CP_Type_2  \\\n",
      "0                0              2       1          0          0          0   \n",
      "1                0              1       1          0          0          1   \n",
      "2                0              0       1          0          1          0   \n",
      "3                0              1       1          0          1          0   \n",
      "4                1              0       1          1          0          0   \n",
      "..             ...            ...     ...        ...        ...        ...   \n",
      "298              1              0       0          1          0          0   \n",
      "299              0              0       0          0          0          0   \n",
      "300              0              0       0          1          0          0   \n",
      "301              1              0       0          1          0          0   \n",
      "302              0              0       0          0          1          0   \n",
      "\n",
      "     CP_Type_3  \n",
      "0            1  \n",
      "1            0  \n",
      "2            0  \n",
      "3            0  \n",
      "4            0  \n",
      "..         ...  \n",
      "298          0  \n",
      "299          1  \n",
      "300          0  \n",
      "301          0  \n",
      "302          0  \n",
      "\n",
      "[303 rows x 14 columns]\n"
     ]
    }
   ],
   "source": [
    "# 3. One hot encoding of CP_Type\n",
    "one_hot_encoded_data=pd.get_dummies(heart_condition, columns=['CP_Type'])\n",
    "print(one_hot_encoded_data)\n",
    "heart_condition=one_hot_encoded_data"
   ]
  },
  {
   "cell_type": "code",
   "execution_count": 264,
   "id": "62f67433",
   "metadata": {},
   "outputs": [
    {
     "name": "stdout",
     "output_type": "stream",
     "text": [
      "<class 'pandas.core.frame.DataFrame'>\n",
      "RangeIndex: 303 entries, 0 to 302\n",
      "Data columns (total 14 columns):\n",
      " #   Column          Non-Null Count  Dtype   \n",
      "---  ------          --------------  -----   \n",
      " 0   Age             303 non-null    int64   \n",
      " 1   Sex             303 non-null    category\n",
      " 2   BloodPressure   303 non-null    int64   \n",
      " 3   Cholestrol      303 non-null    int64   \n",
      " 4   BloodSugar      303 non-null    category\n",
      " 5   ECG             303 non-null    category\n",
      " 6   MaxHeartRate    303 non-null    int64   \n",
      " 7   ExerciseAngina  303 non-null    category\n",
      " 8   FamilyHistory   303 non-null    int64   \n",
      " 9   Target          303 non-null    category\n",
      " 10  CP_Type_0       303 non-null    category\n",
      " 11  CP_Type_1       303 non-null    category\n",
      " 12  CP_Type_2       303 non-null    category\n",
      " 13  CP_Type_3       303 non-null    category\n",
      "dtypes: category(9), int64(5)\n",
      "memory usage: 15.7 KB\n"
     ]
    }
   ],
   "source": [
    "heart_condition['CP_Type_0'] = pd.Categorical(heart_condition.CP_Type_0)\n",
    "heart_condition['CP_Type_1'] = pd.Categorical(heart_condition.CP_Type_1)\n",
    "heart_condition['CP_Type_2'] = pd.Categorical(heart_condition.CP_Type_2)\n",
    "heart_condition['CP_Type_3'] = pd.Categorical(heart_condition.CP_Type_3)\n",
    "heart_condition['Target'] = pd.Categorical(heart_condition.Target)\n",
    "heart_condition.drop_duplicates()\n",
    "heart_condition.info()"
   ]
  },
  {
   "cell_type": "markdown",
   "id": "57e45473",
   "metadata": {},
   "source": [
    "# Data Summarization\n",
    "We summarize the normalized data for insights using describe() function, outlier determination, and data aggregation functions"
   ]
  },
  {
   "cell_type": "code",
   "execution_count": 265,
   "id": "aacd7cbb",
   "metadata": {},
   "outputs": [
    {
     "data": {
      "text/html": [
       "<div>\n",
       "<style scoped>\n",
       "    .dataframe tbody tr th:only-of-type {\n",
       "        vertical-align: middle;\n",
       "    }\n",
       "\n",
       "    .dataframe tbody tr th {\n",
       "        vertical-align: top;\n",
       "    }\n",
       "\n",
       "    .dataframe thead th {\n",
       "        text-align: right;\n",
       "    }\n",
       "</style>\n",
       "<table border=\"1\" class=\"dataframe\">\n",
       "  <thead>\n",
       "    <tr style=\"text-align: right;\">\n",
       "      <th></th>\n",
       "      <th>Age</th>\n",
       "      <th>BloodPressure</th>\n",
       "      <th>Cholestrol</th>\n",
       "      <th>MaxHeartRate</th>\n",
       "      <th>FamilyHistory</th>\n",
       "    </tr>\n",
       "  </thead>\n",
       "  <tbody>\n",
       "    <tr>\n",
       "      <th>count</th>\n",
       "      <td>303.000000</td>\n",
       "      <td>303.000000</td>\n",
       "      <td>303.000000</td>\n",
       "      <td>303.000000</td>\n",
       "      <td>303.000000</td>\n",
       "    </tr>\n",
       "    <tr>\n",
       "      <th>mean</th>\n",
       "      <td>54.366337</td>\n",
       "      <td>131.623762</td>\n",
       "      <td>246.264026</td>\n",
       "      <td>149.646865</td>\n",
       "      <td>1.204620</td>\n",
       "    </tr>\n",
       "    <tr>\n",
       "      <th>std</th>\n",
       "      <td>9.082101</td>\n",
       "      <td>17.538143</td>\n",
       "      <td>51.830751</td>\n",
       "      <td>22.905161</td>\n",
       "      <td>1.096825</td>\n",
       "    </tr>\n",
       "    <tr>\n",
       "      <th>min</th>\n",
       "      <td>29.000000</td>\n",
       "      <td>94.000000</td>\n",
       "      <td>126.000000</td>\n",
       "      <td>71.000000</td>\n",
       "      <td>0.000000</td>\n",
       "    </tr>\n",
       "    <tr>\n",
       "      <th>25%</th>\n",
       "      <td>47.500000</td>\n",
       "      <td>120.000000</td>\n",
       "      <td>211.000000</td>\n",
       "      <td>133.500000</td>\n",
       "      <td>0.000000</td>\n",
       "    </tr>\n",
       "    <tr>\n",
       "      <th>50%</th>\n",
       "      <td>55.000000</td>\n",
       "      <td>130.000000</td>\n",
       "      <td>240.000000</td>\n",
       "      <td>153.000000</td>\n",
       "      <td>1.000000</td>\n",
       "    </tr>\n",
       "    <tr>\n",
       "      <th>75%</th>\n",
       "      <td>61.000000</td>\n",
       "      <td>140.000000</td>\n",
       "      <td>274.500000</td>\n",
       "      <td>166.000000</td>\n",
       "      <td>2.000000</td>\n",
       "    </tr>\n",
       "    <tr>\n",
       "      <th>max</th>\n",
       "      <td>77.000000</td>\n",
       "      <td>200.000000</td>\n",
       "      <td>564.000000</td>\n",
       "      <td>202.000000</td>\n",
       "      <td>5.000000</td>\n",
       "    </tr>\n",
       "  </tbody>\n",
       "</table>\n",
       "</div>"
      ],
      "text/plain": [
       "              Age  BloodPressure  Cholestrol  MaxHeartRate  FamilyHistory\n",
       "count  303.000000     303.000000  303.000000    303.000000     303.000000\n",
       "mean    54.366337     131.623762  246.264026    149.646865       1.204620\n",
       "std      9.082101      17.538143   51.830751     22.905161       1.096825\n",
       "min     29.000000      94.000000  126.000000     71.000000       0.000000\n",
       "25%     47.500000     120.000000  211.000000    133.500000       0.000000\n",
       "50%     55.000000     130.000000  240.000000    153.000000       1.000000\n",
       "75%     61.000000     140.000000  274.500000    166.000000       2.000000\n",
       "max     77.000000     200.000000  564.000000    202.000000       5.000000"
      ]
     },
     "execution_count": 265,
     "metadata": {},
     "output_type": "execute_result"
    }
   ],
   "source": [
    "# Summarization of normalized data\n",
    "heart_condition.describe()"
   ]
  },
  {
   "cell_type": "code",
   "execution_count": 266,
   "id": "e5648356",
   "metadata": {},
   "outputs": [
    {
     "name": "stdout",
     "output_type": "stream",
     "text": [
      "Cholestrol IQR = 63.5\n",
      "Values of Cholestrol outside the range ( 115.75 , 306.25 ) are outliers\n",
      "MaxHeartRate IQR = 32.5\n",
      "Values of MaxHeartRate outside the range ( 84.75 , 182.25 ) are outliers\n"
     ]
    }
   ],
   "source": [
    "#Cholestrol Outliers\n",
    "Chol_Q1=heart_condition['Cholestrol'].quantile(0.25)\n",
    "Chol_Q3=heart_condition['Cholestrol'].quantile(0.75)\n",
    "Chol_IQR=Chol_Q3-Chol_Q1\n",
    "print(\"Cholestrol IQR =\",Chol_IQR)\n",
    "Outlier_Low=Chol_Q1-1.5*Chol_IQR\n",
    "Outlier_High=Chol_Q1+1.5*Chol_IQR                                                \n",
    "print(\"Values of Cholestrol outside the range (\",Outlier_Low,\",\",Outlier_High,\") are outliers\")                                                \n",
    "\n",
    "#MaxHeartRate Outliers\n",
    "MHR_Q1=heart_condition['MaxHeartRate'].quantile(0.25)\n",
    "MHR_Q3=heart_condition['MaxHeartRate'].quantile(0.75)\n",
    "MHR_IQR=MHR_Q3-MHR_Q1\n",
    "print(\"MaxHeartRate IQR =\",MHR_IQR)\n",
    "Outlier_Low=MHR_Q1-1.5*MHR_IQR\n",
    "Outlier_High=MHR_Q1+1.5*MHR_IQR                                                \n",
    "print(\"Values of MaxHeartRate outside the range (\",Outlier_Low,\",\",Outlier_High,\") are outliers\")                                 "
   ]
  },
  {
   "cell_type": "code",
   "execution_count": 267,
   "id": "f50145ab",
   "metadata": {},
   "outputs": [
    {
     "data": {
      "text/html": [
       "<div>\n",
       "<style scoped>\n",
       "    .dataframe tbody tr th:only-of-type {\n",
       "        vertical-align: middle;\n",
       "    }\n",
       "\n",
       "    .dataframe tbody tr th {\n",
       "        vertical-align: top;\n",
       "    }\n",
       "\n",
       "    .dataframe thead th {\n",
       "        text-align: right;\n",
       "    }\n",
       "</style>\n",
       "<table border=\"1\" class=\"dataframe\">\n",
       "  <thead>\n",
       "    <tr style=\"text-align: right;\">\n",
       "      <th></th>\n",
       "      <th></th>\n",
       "      <th>Age</th>\n",
       "      <th>BloodPressure</th>\n",
       "      <th>Cholestrol</th>\n",
       "      <th>FamilyHistory</th>\n",
       "      <th>MaxHeartRate</th>\n",
       "    </tr>\n",
       "    <tr>\n",
       "      <th>Sex</th>\n",
       "      <th>Target</th>\n",
       "      <th></th>\n",
       "      <th></th>\n",
       "      <th></th>\n",
       "      <th></th>\n",
       "      <th></th>\n",
       "    </tr>\n",
       "  </thead>\n",
       "  <tbody>\n",
       "    <tr>\n",
       "      <th rowspan=\"2\" valign=\"top\">0</th>\n",
       "      <th>0</th>\n",
       "      <td>59.041667</td>\n",
       "      <td>146.125000</td>\n",
       "      <td>274.958333</td>\n",
       "      <td>1.041667</td>\n",
       "      <td>142.416667</td>\n",
       "    </tr>\n",
       "    <tr>\n",
       "      <th>1</th>\n",
       "      <td>54.555556</td>\n",
       "      <td>128.736111</td>\n",
       "      <td>256.750000</td>\n",
       "      <td>1.277778</td>\n",
       "      <td>154.027778</td>\n",
       "    </tr>\n",
       "    <tr>\n",
       "      <th rowspan=\"2\" valign=\"top\">1</th>\n",
       "      <th>0</th>\n",
       "      <td>56.087719</td>\n",
       "      <td>131.929825</td>\n",
       "      <td>246.061404</td>\n",
       "      <td>1.280702</td>\n",
       "      <td>138.403509</td>\n",
       "    </tr>\n",
       "    <tr>\n",
       "      <th>1</th>\n",
       "      <td>50.903226</td>\n",
       "      <td>129.741935</td>\n",
       "      <td>230.989247</td>\n",
       "      <td>1.096774</td>\n",
       "      <td>161.903226</td>\n",
       "    </tr>\n",
       "  </tbody>\n",
       "</table>\n",
       "</div>"
      ],
      "text/plain": [
       "                  Age  BloodPressure  Cholestrol  FamilyHistory  MaxHeartRate\n",
       "Sex Target                                                                   \n",
       "0   0       59.041667     146.125000  274.958333       1.041667    142.416667\n",
       "    1       54.555556     128.736111  256.750000       1.277778    154.027778\n",
       "1   0       56.087719     131.929825  246.061404       1.280702    138.403509\n",
       "    1       50.903226     129.741935  230.989247       1.096774    161.903226"
      ]
     },
     "execution_count": 267,
     "metadata": {},
     "output_type": "execute_result"
    }
   ],
   "source": [
    "# Multi-index pivot table\n",
    "table=pd.pivot_table(heart_condition,index=['Sex', 'Target'])\n",
    "table"
   ]
  },
  {
   "cell_type": "markdown",
   "id": "d327678c",
   "metadata": {},
   "source": [
    "## Observations from summarized data\n",
    "1. There are no null values in the dataset.\n",
    "2. The average age of subjects is 54 years, minimum age is 29 years and maximum age is 77 years.\n",
    "3. There is a large variance of Cholestrol values of subjects, as maximum is 564 and minimum is 126. \n",
    "4. The mean Cholestrol value is 246.26 units, while the standard deviation Cholestrol value is 51.83 units.\n",
    "5. IQR for Cholestrol is 63.5 units. Values of Cholestrol outside the range (115.75, 306.25) are outliers.\n",
    "6. IQR for MaxHeartRate is 32.5 bpm. Values of MaxHeartRate outside the range (84.75, 182.25) are outliers."
   ]
  },
  {
   "cell_type": "markdown",
   "id": "aaf952c5",
   "metadata": {},
   "source": [
    "# Attribute selection for model building\n",
    "Identification of relevant, irrelevant attributes for building model"
   ]
  },
  {
   "cell_type": "code",
   "execution_count": 268,
   "id": "26bf32b8",
   "metadata": {},
   "outputs": [
    {
     "name": "stdout",
     "output_type": "stream",
     "text": [
      "<class 'pandas.core.frame.DataFrame'>\n",
      "RangeIndex: 303 entries, 0 to 302\n",
      "Data columns (total 14 columns):\n",
      " #   Column          Non-Null Count  Dtype   \n",
      "---  ------          --------------  -----   \n",
      " 0   Age             303 non-null    int64   \n",
      " 1   Sex             303 non-null    category\n",
      " 2   BloodPressure   303 non-null    int64   \n",
      " 3   Cholestrol      303 non-null    int64   \n",
      " 4   BloodSugar      303 non-null    category\n",
      " 5   ECG             303 non-null    category\n",
      " 6   MaxHeartRate    303 non-null    int64   \n",
      " 7   ExerciseAngina  303 non-null    category\n",
      " 8   FamilyHistory   303 non-null    int64   \n",
      " 9   Target          303 non-null    category\n",
      " 10  CP_Type_0       303 non-null    category\n",
      " 11  CP_Type_1       303 non-null    category\n",
      " 12  CP_Type_2       303 non-null    category\n",
      " 13  CP_Type_3       303 non-null    category\n",
      "dtypes: category(9), int64(5)\n",
      "memory usage: 15.7 KB\n"
     ]
    }
   ],
   "source": [
    "heart_condition.info()"
   ]
  },
  {
   "cell_type": "markdown",
   "id": "1c434ec3",
   "metadata": {},
   "source": [
    "## For numerical features and categorical output (Target), we use ANOVA. \n",
    "The numerical features include:\n",
    "1. Age\n",
    "2. BloodPressure\n",
    "3. Cholestrol\n",
    "4. MaxHeartRate\n",
    "5. FamilyHistory"
   ]
  },
  {
   "cell_type": "code",
   "execution_count": 177,
   "id": "be733060",
   "metadata": {},
   "outputs": [
    {
     "name": "stdout",
     "output_type": "stream",
     "text": [
      "Defaulting to user installation because normal site-packages is not writeable\n",
      "Requirement already satisfied: researchpy in c:\\users\\subin khullar\\appdata\\roaming\\python\\python39\\site-packages (0.3.2)\n",
      "Requirement already satisfied: pandas in c:\\users\\subin khullar\\appdata\\roaming\\python\\python39\\site-packages (from researchpy) (1.3.5)\n",
      "Requirement already satisfied: statsmodels in c:\\users\\subin khullar\\appdata\\roaming\\python\\python39\\site-packages (from researchpy) (0.13.2)\n",
      "Requirement already satisfied: patsy in c:\\users\\subin khullar\\appdata\\roaming\\python\\python39\\site-packages (from researchpy) (0.5.2)\n",
      "Requirement already satisfied: scipy in c:\\users\\subin khullar\\appdata\\roaming\\python\\python39\\site-packages (from researchpy) (1.7.3)\n",
      "Requirement already satisfied: numpy in c:\\users\\subin khullar\\appdata\\roaming\\python\\python39\\site-packages (from researchpy) (1.21.5)\n",
      "Requirement already satisfied: python-dateutil>=2.7.3 in c:\\users\\subin khullar\\appdata\\roaming\\python\\python39\\site-packages (from pandas->researchpy) (2.8.2)\n",
      "Requirement already satisfied: pytz>=2017.3 in c:\\users\\subin khullar\\appdata\\roaming\\python\\python39\\site-packages (from pandas->researchpy) (2021.3)\n",
      "Requirement already satisfied: six in c:\\users\\subin khullar\\appdata\\roaming\\python\\python39\\site-packages (from patsy->researchpy) (1.16.0)\n",
      "Requirement already satisfied: packaging>=21.3 in c:\\users\\subin khullar\\appdata\\roaming\\python\\python39\\site-packages (from statsmodels->researchpy) (21.3)\n",
      "Requirement already satisfied: pyparsing!=3.0.5,>=2.0.2 in c:\\users\\subin khullar\\appdata\\roaming\\python\\python39\\site-packages (from packaging>=21.3->statsmodels->researchpy) (3.0.6)\n"
     ]
    },
    {
     "name": "stderr",
     "output_type": "stream",
     "text": [
      "WARNING: You are using pip version 21.3.1; however, version 22.0.4 is available.\n",
      "You should consider upgrading via the 'c:\\program files\\python39\\python.exe -m pip install --upgrade pip' command.\n"
     ]
    }
   ],
   "source": [
    "!pip install researchpy"
   ]
  },
  {
   "cell_type": "code",
   "execution_count": 269,
   "id": "414aec9f",
   "metadata": {},
   "outputs": [
    {
     "name": "stdout",
     "output_type": "stream",
     "text": [
      "<class 'pandas.core.frame.DataFrame'>\n",
      "RangeIndex: 303 entries, 0 to 302\n",
      "Data columns (total 14 columns):\n",
      " #   Column          Non-Null Count  Dtype   \n",
      "---  ------          --------------  -----   \n",
      " 0   Age             303 non-null    int64   \n",
      " 1   Sex             303 non-null    category\n",
      " 2   BloodPressure   303 non-null    int64   \n",
      " 3   Cholestrol      303 non-null    int64   \n",
      " 4   BloodSugar      303 non-null    category\n",
      " 5   ECG             303 non-null    category\n",
      " 6   MaxHeartRate    303 non-null    int64   \n",
      " 7   ExerciseAngina  303 non-null    category\n",
      " 8   FamilyHistory   303 non-null    int64   \n",
      " 9   Target          303 non-null    object  \n",
      " 10  CP_Type_0       303 non-null    category\n",
      " 11  CP_Type_1       303 non-null    category\n",
      " 12  CP_Type_2       303 non-null    category\n",
      " 13  CP_Type_3       303 non-null    category\n",
      "dtypes: category(8), int64(5), object(1)\n",
      "memory usage: 17.7+ KB\n"
     ]
    }
   ],
   "source": [
    "#ANOVA for numerical features vs Target:\n",
    "import researchpy as rp\n",
    "heart_condition['Target'].replace({0: 'LESS CHANCE', 1: 'MORE CHANCE'}, inplace= True)\n",
    "heart_condition.info()"
   ]
  },
  {
   "cell_type": "code",
   "execution_count": 181,
   "id": "9d0ab536",
   "metadata": {},
   "outputs": [
    {
     "name": "stdout",
     "output_type": "stream",
     "text": [
      "\n",
      "\n"
     ]
    },
    {
     "data": {
      "text/html": [
       "<div>\n",
       "<style scoped>\n",
       "    .dataframe tbody tr th:only-of-type {\n",
       "        vertical-align: middle;\n",
       "    }\n",
       "\n",
       "    .dataframe tbody tr th {\n",
       "        vertical-align: top;\n",
       "    }\n",
       "\n",
       "    .dataframe thead th {\n",
       "        text-align: right;\n",
       "    }\n",
       "</style>\n",
       "<table border=\"1\" class=\"dataframe\">\n",
       "  <thead>\n",
       "    <tr style=\"text-align: right;\">\n",
       "      <th></th>\n",
       "      <th>Variable</th>\n",
       "      <th>N</th>\n",
       "      <th>Mean</th>\n",
       "      <th>SD</th>\n",
       "      <th>SE</th>\n",
       "      <th>95% Conf.</th>\n",
       "      <th>Interval</th>\n",
       "    </tr>\n",
       "  </thead>\n",
       "  <tbody>\n",
       "    <tr>\n",
       "      <th>0</th>\n",
       "      <td>Age</td>\n",
       "      <td>303.0</td>\n",
       "      <td>54.3663</td>\n",
       "      <td>9.0821</td>\n",
       "      <td>0.5218</td>\n",
       "      <td>53.3396</td>\n",
       "      <td>55.3931</td>\n",
       "    </tr>\n",
       "  </tbody>\n",
       "</table>\n",
       "</div>"
      ],
      "text/plain": [
       "  Variable      N     Mean      SD      SE  95% Conf.  Interval\n",
       "0      Age  303.0  54.3663  9.0821  0.5218    53.3396   55.3931"
      ]
     },
     "execution_count": 181,
     "metadata": {},
     "output_type": "execute_result"
    }
   ],
   "source": [
    "rp.summary_cont(heart_condition['Age'])"
   ]
  },
  {
   "cell_type": "code",
   "execution_count": 182,
   "id": "1c73d8fa",
   "metadata": {},
   "outputs": [
    {
     "name": "stdout",
     "output_type": "stream",
     "text": [
      "\n",
      "\n"
     ]
    },
    {
     "data": {
      "text/html": [
       "<div>\n",
       "<style scoped>\n",
       "    .dataframe tbody tr th:only-of-type {\n",
       "        vertical-align: middle;\n",
       "    }\n",
       "\n",
       "    .dataframe tbody tr th {\n",
       "        vertical-align: top;\n",
       "    }\n",
       "\n",
       "    .dataframe thead th {\n",
       "        text-align: right;\n",
       "    }\n",
       "</style>\n",
       "<table border=\"1\" class=\"dataframe\">\n",
       "  <thead>\n",
       "    <tr style=\"text-align: right;\">\n",
       "      <th></th>\n",
       "      <th>N</th>\n",
       "      <th>Mean</th>\n",
       "      <th>SD</th>\n",
       "      <th>SE</th>\n",
       "      <th>95% Conf.</th>\n",
       "      <th>Interval</th>\n",
       "    </tr>\n",
       "    <tr>\n",
       "      <th>Target</th>\n",
       "      <th></th>\n",
       "      <th></th>\n",
       "      <th></th>\n",
       "      <th></th>\n",
       "      <th></th>\n",
       "      <th></th>\n",
       "    </tr>\n",
       "  </thead>\n",
       "  <tbody>\n",
       "    <tr>\n",
       "      <th>LESS CHANCE</th>\n",
       "      <td>138</td>\n",
       "      <td>56.6014</td>\n",
       "      <td>7.9621</td>\n",
       "      <td>0.6778</td>\n",
       "      <td>55.2612</td>\n",
       "      <td>57.9417</td>\n",
       "    </tr>\n",
       "    <tr>\n",
       "      <th>MORE CHANCE</th>\n",
       "      <td>165</td>\n",
       "      <td>52.4970</td>\n",
       "      <td>9.5507</td>\n",
       "      <td>0.7435</td>\n",
       "      <td>51.0289</td>\n",
       "      <td>53.9651</td>\n",
       "    </tr>\n",
       "  </tbody>\n",
       "</table>\n",
       "</div>"
      ],
      "text/plain": [
       "               N     Mean      SD      SE  95% Conf.  Interval\n",
       "Target                                                        \n",
       "LESS CHANCE  138  56.6014  7.9621  0.6778    55.2612   57.9417\n",
       "MORE CHANCE  165  52.4970  9.5507  0.7435    51.0289   53.9651"
      ]
     },
     "execution_count": 182,
     "metadata": {},
     "output_type": "execute_result"
    }
   ],
   "source": [
    "rp.summary_cont(heart_condition['Age'].groupby(heart_condition['Target']))"
   ]
  },
  {
   "cell_type": "code",
   "execution_count": 270,
   "id": "4aa4e88d",
   "metadata": {},
   "outputs": [
    {
     "data": {
      "text/plain": [
       "F_onewayResult(statistic=16.116699823188288, pvalue=7.524801303442268e-05)"
      ]
     },
     "execution_count": 270,
     "metadata": {},
     "output_type": "execute_result"
    }
   ],
   "source": [
    "import scipy.stats as stats\n",
    "\n",
    "stats.f_oneway(heart_condition['Age'][heart_condition['Target'] == 'LESS CHANCE'],\n",
    "               heart_condition['Age'][heart_condition['Target'] == 'MORE CHANCE'])"
   ]
  },
  {
   "cell_type": "markdown",
   "id": "b39040cf",
   "metadata": {},
   "source": [
    "### Age is a relevant attribute\n",
    "Hypothesis\n",
    "H0: Means of both distributions (less chance/more chance of heart attack) are same; \n",
    "H1: Means of both distributions (less chance/more chance of heart attack) are significantly different\n",
    "\n",
    "As p-value is less than 0.05 (for 95% confidence), H0 is rejected and H1 is accepted.\n",
    "There is a statistically significant difference between the groups (less chance/more chance of heart attack) and their effects due to the variable age as, F= 16.116699823188288, pvalue=7.524801303442268e-05.\n",
    "\n",
    "Thus, age is a relevant attribute."
   ]
  },
  {
   "cell_type": "code",
   "execution_count": 185,
   "id": "fe655bb2",
   "metadata": {},
   "outputs": [
    {
     "name": "stdout",
     "output_type": "stream",
     "text": [
      "\n",
      "\n"
     ]
    },
    {
     "data": {
      "text/html": [
       "<div>\n",
       "<style scoped>\n",
       "    .dataframe tbody tr th:only-of-type {\n",
       "        vertical-align: middle;\n",
       "    }\n",
       "\n",
       "    .dataframe tbody tr th {\n",
       "        vertical-align: top;\n",
       "    }\n",
       "\n",
       "    .dataframe thead th {\n",
       "        text-align: right;\n",
       "    }\n",
       "</style>\n",
       "<table border=\"1\" class=\"dataframe\">\n",
       "  <thead>\n",
       "    <tr style=\"text-align: right;\">\n",
       "      <th></th>\n",
       "      <th>Variable</th>\n",
       "      <th>N</th>\n",
       "      <th>Mean</th>\n",
       "      <th>SD</th>\n",
       "      <th>SE</th>\n",
       "      <th>95% Conf.</th>\n",
       "      <th>Interval</th>\n",
       "    </tr>\n",
       "  </thead>\n",
       "  <tbody>\n",
       "    <tr>\n",
       "      <th>0</th>\n",
       "      <td>BloodPressure</td>\n",
       "      <td>303.0</td>\n",
       "      <td>131.6238</td>\n",
       "      <td>17.5381</td>\n",
       "      <td>1.0075</td>\n",
       "      <td>129.6411</td>\n",
       "      <td>133.6065</td>\n",
       "    </tr>\n",
       "  </tbody>\n",
       "</table>\n",
       "</div>"
      ],
      "text/plain": [
       "        Variable      N      Mean       SD      SE  95% Conf.  Interval\n",
       "0  BloodPressure  303.0  131.6238  17.5381  1.0075   129.6411  133.6065"
      ]
     },
     "execution_count": 185,
     "metadata": {},
     "output_type": "execute_result"
    }
   ],
   "source": [
    "rp.summary_cont(heart_condition['BloodPressure'])"
   ]
  },
  {
   "cell_type": "code",
   "execution_count": 186,
   "id": "66b6c3f2",
   "metadata": {},
   "outputs": [
    {
     "data": {
      "text/plain": [
       "F_onewayResult(statistic=6.458168674005333, pvalue=0.011546059200233376)"
      ]
     },
     "execution_count": 186,
     "metadata": {},
     "output_type": "execute_result"
    }
   ],
   "source": [
    "stats.f_oneway(heart_condition['BloodPressure'][heart_condition['Target'] == 'LESS CHANCE'],\n",
    "               heart_condition['BloodPressure'][heart_condition['Target'] == 'MORE CHANCE'])"
   ]
  },
  {
   "cell_type": "markdown",
   "id": "0e95815a",
   "metadata": {},
   "source": [
    "### BloodPressure is a relevant attribute\n",
    "Hypothesis H0: Means of both distributions (less chance/more chance of heart attack) are same; \n",
    "H1: Means of both distributions (less chance/more chance of heart attack) are significantly different\n",
    "\n",
    "As p-value is less than 0.05 (for 95% confidence), H0 is rejected and H1 is accepted.\n",
    "There is a statistically significant difference between the groups (less chance/more chance of heart attack) and their effects due to the variable BloodPressure as, F= 6.458168674005333, pvalue=0.011546059200233376.\n",
    "\n",
    "Thus, BloodPressure is a relevant attribute."
   ]
  },
  {
   "cell_type": "code",
   "execution_count": 187,
   "id": "4eebe74d",
   "metadata": {},
   "outputs": [
    {
     "name": "stdout",
     "output_type": "stream",
     "text": [
      "\n",
      "\n"
     ]
    },
    {
     "data": {
      "text/html": [
       "<div>\n",
       "<style scoped>\n",
       "    .dataframe tbody tr th:only-of-type {\n",
       "        vertical-align: middle;\n",
       "    }\n",
       "\n",
       "    .dataframe tbody tr th {\n",
       "        vertical-align: top;\n",
       "    }\n",
       "\n",
       "    .dataframe thead th {\n",
       "        text-align: right;\n",
       "    }\n",
       "</style>\n",
       "<table border=\"1\" class=\"dataframe\">\n",
       "  <thead>\n",
       "    <tr style=\"text-align: right;\">\n",
       "      <th></th>\n",
       "      <th>Variable</th>\n",
       "      <th>N</th>\n",
       "      <th>Mean</th>\n",
       "      <th>SD</th>\n",
       "      <th>SE</th>\n",
       "      <th>95% Conf.</th>\n",
       "      <th>Interval</th>\n",
       "    </tr>\n",
       "  </thead>\n",
       "  <tbody>\n",
       "    <tr>\n",
       "      <th>0</th>\n",
       "      <td>Cholestrol</td>\n",
       "      <td>303.0</td>\n",
       "      <td>246.264</td>\n",
       "      <td>51.8308</td>\n",
       "      <td>2.9776</td>\n",
       "      <td>240.4046</td>\n",
       "      <td>252.1235</td>\n",
       "    </tr>\n",
       "  </tbody>\n",
       "</table>\n",
       "</div>"
      ],
      "text/plain": [
       "     Variable      N     Mean       SD      SE  95% Conf.  Interval\n",
       "0  Cholestrol  303.0  246.264  51.8308  2.9776   240.4046  252.1235"
      ]
     },
     "execution_count": 187,
     "metadata": {},
     "output_type": "execute_result"
    }
   ],
   "source": [
    "rp.summary_cont(heart_condition['Cholestrol'])"
   ]
  },
  {
   "cell_type": "code",
   "execution_count": 188,
   "id": "e50fbe4e",
   "metadata": {},
   "outputs": [
    {
     "data": {
      "text/plain": [
       "F_onewayResult(statistic=2.2029834463803746, pvalue=0.1387903269560108)"
      ]
     },
     "execution_count": 188,
     "metadata": {},
     "output_type": "execute_result"
    }
   ],
   "source": [
    "stats.f_oneway(heart_condition['Cholestrol'][heart_condition['Target'] == 'LESS CHANCE'],\n",
    "               heart_condition['Cholestrol'][heart_condition['Target'] == 'MORE CHANCE'])"
   ]
  },
  {
   "cell_type": "markdown",
   "id": "0bc29a28",
   "metadata": {},
   "source": [
    "### Cholestrol is an irrelevant attribute\n",
    "Hypothesis \n",
    "H0: Means of both distributions (less chance/more chance of heart attack) are same; \n",
    "H1: Means of both distributions (less chance/more chance of heart attack) are significantly different\n",
    "\n",
    "As p-value is greater than 0.05 (for 95% confidence), H0 is accepted and H1 is rejected. There is no statistically significant difference between the groups (less chance/more chance of heart attack) and their effects due to the variable cholestrol as, F= 2.2029834463803746, pvalue=0.1387903269560108.\n",
    "\n",
    "Thus, Cholestrol is an irrelevant attribute."
   ]
  },
  {
   "cell_type": "code",
   "execution_count": 189,
   "id": "3752a885",
   "metadata": {},
   "outputs": [
    {
     "name": "stdout",
     "output_type": "stream",
     "text": [
      "\n",
      "\n"
     ]
    },
    {
     "data": {
      "text/html": [
       "<div>\n",
       "<style scoped>\n",
       "    .dataframe tbody tr th:only-of-type {\n",
       "        vertical-align: middle;\n",
       "    }\n",
       "\n",
       "    .dataframe tbody tr th {\n",
       "        vertical-align: top;\n",
       "    }\n",
       "\n",
       "    .dataframe thead th {\n",
       "        text-align: right;\n",
       "    }\n",
       "</style>\n",
       "<table border=\"1\" class=\"dataframe\">\n",
       "  <thead>\n",
       "    <tr style=\"text-align: right;\">\n",
       "      <th></th>\n",
       "      <th>Variable</th>\n",
       "      <th>N</th>\n",
       "      <th>Mean</th>\n",
       "      <th>SD</th>\n",
       "      <th>SE</th>\n",
       "      <th>95% Conf.</th>\n",
       "      <th>Interval</th>\n",
       "    </tr>\n",
       "  </thead>\n",
       "  <tbody>\n",
       "    <tr>\n",
       "      <th>0</th>\n",
       "      <td>MaxHeartRate</td>\n",
       "      <td>303.0</td>\n",
       "      <td>149.6469</td>\n",
       "      <td>22.9052</td>\n",
       "      <td>1.3159</td>\n",
       "      <td>147.0574</td>\n",
       "      <td>152.2363</td>\n",
       "    </tr>\n",
       "  </tbody>\n",
       "</table>\n",
       "</div>"
      ],
      "text/plain": [
       "       Variable      N      Mean       SD      SE  95% Conf.  Interval\n",
       "0  MaxHeartRate  303.0  149.6469  22.9052  1.3159   147.0574  152.2363"
      ]
     },
     "execution_count": 189,
     "metadata": {},
     "output_type": "execute_result"
    }
   ],
   "source": [
    "rp.summary_cont(heart_condition['MaxHeartRate'])"
   ]
  },
  {
   "cell_type": "code",
   "execution_count": 190,
   "id": "df8224ca",
   "metadata": {},
   "outputs": [
    {
     "data": {
      "text/plain": [
       "F_onewayResult(statistic=65.12010440125097, pvalue=1.6973376386560805e-14)"
      ]
     },
     "execution_count": 190,
     "metadata": {},
     "output_type": "execute_result"
    }
   ],
   "source": [
    "stats.f_oneway(heart_condition['MaxHeartRate'][heart_condition['Target'] == 'LESS CHANCE'],\n",
    "               heart_condition['MaxHeartRate'][heart_condition['Target'] == 'MORE CHANCE'])"
   ]
  },
  {
   "cell_type": "markdown",
   "id": "76ea841d",
   "metadata": {},
   "source": [
    "### MaxHeartRate is a relevant attribute\n",
    "Hypothesis \n",
    "H0: Means of both distributions (less chance/more chance of heart attack) are same; \n",
    "H1: Means of both distributions (less chance/more chance of heart attack) are significantly different\n",
    "\n",
    "As p-value is less than 0.05 (for 95% confidence), H0 is accepted and H1 is rejected. There is statistically significant difference between the groups (less chance/more chance of heart attack) and their effects due to the variable MaxHeartRate as, F= 65.12010440125097, pvalue=1.6973376386560805e-14.\n",
    "\n",
    "Thus, MaxHeartRate is a relevant attribute."
   ]
  },
  {
   "cell_type": "code",
   "execution_count": 191,
   "id": "6ead7094",
   "metadata": {},
   "outputs": [
    {
     "name": "stdout",
     "output_type": "stream",
     "text": [
      "\n",
      "\n"
     ]
    },
    {
     "data": {
      "text/html": [
       "<div>\n",
       "<style scoped>\n",
       "    .dataframe tbody tr th:only-of-type {\n",
       "        vertical-align: middle;\n",
       "    }\n",
       "\n",
       "    .dataframe tbody tr th {\n",
       "        vertical-align: top;\n",
       "    }\n",
       "\n",
       "    .dataframe thead th {\n",
       "        text-align: right;\n",
       "    }\n",
       "</style>\n",
       "<table border=\"1\" class=\"dataframe\">\n",
       "  <thead>\n",
       "    <tr style=\"text-align: right;\">\n",
       "      <th></th>\n",
       "      <th>Variable</th>\n",
       "      <th>N</th>\n",
       "      <th>Mean</th>\n",
       "      <th>SD</th>\n",
       "      <th>SE</th>\n",
       "      <th>95% Conf.</th>\n",
       "      <th>Interval</th>\n",
       "    </tr>\n",
       "  </thead>\n",
       "  <tbody>\n",
       "    <tr>\n",
       "      <th>0</th>\n",
       "      <td>FamilyHistory</td>\n",
       "      <td>303.0</td>\n",
       "      <td>1.2046</td>\n",
       "      <td>1.0968</td>\n",
       "      <td>0.063</td>\n",
       "      <td>1.0806</td>\n",
       "      <td>1.3286</td>\n",
       "    </tr>\n",
       "  </tbody>\n",
       "</table>\n",
       "</div>"
      ],
      "text/plain": [
       "        Variable      N    Mean      SD     SE  95% Conf.  Interval\n",
       "0  FamilyHistory  303.0  1.2046  1.0968  0.063     1.0806    1.3286"
      ]
     },
     "execution_count": 191,
     "metadata": {},
     "output_type": "execute_result"
    }
   ],
   "source": [
    "rp.summary_cont(heart_condition['FamilyHistory'])"
   ]
  },
  {
   "cell_type": "code",
   "execution_count": 192,
   "id": "53d75313",
   "metadata": {},
   "outputs": [
    {
     "data": {
      "text/plain": [
       "F_onewayResult(statistic=0.25024928475305025, pvalue=0.6172651404419242)"
      ]
     },
     "execution_count": 192,
     "metadata": {},
     "output_type": "execute_result"
    }
   ],
   "source": [
    "stats.f_oneway(heart_condition['FamilyHistory'][heart_condition['Target'] == 'LESS CHANCE'],\n",
    "               heart_condition['FamilyHistory'][heart_condition['Target'] == 'MORE CHANCE'])"
   ]
  },
  {
   "cell_type": "markdown",
   "id": "0b677502",
   "metadata": {},
   "source": [
    "### FamilyHistory is an irrelevant attribute\n",
    "Hypothesis\n",
    "H0: Means of both distributions (less chance/more chance of heart attack) are same;\n",
    "H1: Means of both distributions (less chance/more chance of heart attack) are significantly different\n",
    "\n",
    "As p-value is greater than 0.05 (for 95% confidence), H0 is accepted and H1 is rejected. There is no statistically significant difference between the groups (less chance/more chance of heart attack) and their effects due to the variable familyhistory as, F= 0.25024928475305025, pvalue=0.6172651404419242.\n",
    "\n",
    "Thus, FamilyHistory is an irrelevant attribute."
   ]
  },
  {
   "cell_type": "markdown",
   "id": "dfb304e2",
   "metadata": {},
   "source": [
    "## For categorical features and categorical output (Target), we  to convert the categorical features into numerical features and find correlation using Pearson's correlation. \n",
    "The categorical features** include:\n",
    "1. Sex\n",
    "2. BloodSugar\n",
    "3. ECG\n",
    "4. ExerciseAngina\n",
    "5. CP_Type_0\n",
    "6. CP_Type_1\n",
    "7. CP_Type_2\n",
    "8. CP_Type_3\n",
    "\n",
    "**All these features are binary categorical features with 0 or 1 values."
   ]
  },
  {
   "cell_type": "code",
   "execution_count": 273,
   "id": "f2624289",
   "metadata": {},
   "outputs": [
    {
     "name": "stdout",
     "output_type": "stream",
     "text": [
      "Pearson's Correlation for Sex and Target: -0.2809365755017673\n"
     ]
    }
   ],
   "source": [
    "import numpy as np\n",
    "from scipy.stats import pearsonr\n",
    "\n",
    "heart_condition['Target'].replace({'LESS CHANCE':0, 'MORE CHANCE':1}, inplace= True)\n",
    "heart_condition['Sex'].replace({'0':0, '1':1}, inplace= True)\n",
    "corr,_=pearsonr(heart_condition['Target'],heart_condition['Sex'])\n",
    "print(\"Pearson's Correlation for Sex and Target:\", corr)"
   ]
  },
  {
   "cell_type": "code",
   "execution_count": 274,
   "id": "ba8938cc",
   "metadata": {},
   "outputs": [
    {
     "name": "stdout",
     "output_type": "stream",
     "text": [
      "Pearson's Correlation for BloodSugar and Target: -0.02804576027271287\n"
     ]
    }
   ],
   "source": [
    "heart_condition['BloodSugar'].replace({'0':0, '1':1}, inplace= True)\n",
    "corr,_=pearsonr(heart_condition['Target'],heart_condition['BloodSugar'])\n",
    "print(\"Pearson's Correlation for BloodSugar and Target:\", corr)"
   ]
  },
  {
   "cell_type": "code",
   "execution_count": 275,
   "id": "2a15a6de",
   "metadata": {},
   "outputs": [
    {
     "name": "stdout",
     "output_type": "stream",
     "text": [
      "Pearson's Correlation for ECG and Target: 0.15977519309753516\n"
     ]
    }
   ],
   "source": [
    "heart_condition['ECG'].replace({'0':0, '1':1}, inplace= True)\n",
    "corr,_=pearsonr(heart_condition['Target'],heart_condition['ECG'])\n",
    "print(\"Pearson's Correlation for ECG and Target:\", corr)"
   ]
  },
  {
   "cell_type": "code",
   "execution_count": 276,
   "id": "a241bb8e",
   "metadata": {},
   "outputs": [
    {
     "name": "stdout",
     "output_type": "stream",
     "text": [
      "Pearson's Correlation for ExerciseAngina and Target: -0.4367570833533035\n"
     ]
    }
   ],
   "source": [
    "heart_condition['ExerciseAngina'].replace({'0':0, '1':1}, inplace= True)\n",
    "corr,_=pearsonr(heart_condition['Target'],heart_condition['ExerciseAngina'])\n",
    "print(\"Pearson's Correlation for ExerciseAngina and Target:\", corr)"
   ]
  },
  {
   "cell_type": "code",
   "execution_count": 277,
   "id": "a51f3f5f",
   "metadata": {},
   "outputs": [
    {
     "name": "stdout",
     "output_type": "stream",
     "text": [
      "Pearson's Correlation for CP_Type_0 and Target: -0.5160146415680599\n"
     ]
    }
   ],
   "source": [
    "heart_condition['CP_Type_0'].replace({'0':0, '1':1}, inplace= True)\n",
    "corr,_=pearsonr(heart_condition['Target'],heart_condition['CP_Type_0'])\n",
    "print(\"Pearson's Correlation for CP_Type_0 and Target:\", corr)"
   ]
  },
  {
   "cell_type": "code",
   "execution_count": 279,
   "id": "7d295eff",
   "metadata": {},
   "outputs": [
    {
     "name": "stdout",
     "output_type": "stream",
     "text": [
      "Pearson's Correlation for CP_Type_1 and Target: 0.24587909539147906\n"
     ]
    }
   ],
   "source": [
    "heart_condition['CP_Type_1'].replace({'0':0, '1':1}, inplace= True)\n",
    "corr,_=pearsonr(heart_condition['Target'],heart_condition['CP_Type_1'])\n",
    "print(\"Pearson's Correlation for CP_Type_1 and Target:\", corr)"
   ]
  },
  {
   "cell_type": "code",
   "execution_count": 280,
   "id": "90ab8d6e",
   "metadata": {},
   "outputs": [
    {
     "name": "stdout",
     "output_type": "stream",
     "text": [
      "Pearson's Correlation for CP_Type_0 and Target: 0.3167421581955403\n"
     ]
    }
   ],
   "source": [
    "heart_condition['CP_Type_2'].replace({'0':0, '1':1}, inplace= True)\n",
    "corr,_=pearsonr(heart_condition['Target'],heart_condition['CP_Type_2'])\n",
    "print(\"Pearson's Correlation for CP_Type_0 and Target:\", corr)"
   ]
  },
  {
   "cell_type": "code",
   "execution_count": 281,
   "id": "faf14bf9",
   "metadata": {},
   "outputs": [
    {
     "name": "stdout",
     "output_type": "stream",
     "text": [
      "Pearson's Correlation for CP_Type_0 and Target: 0.08695687464637601\n"
     ]
    }
   ],
   "source": [
    "heart_condition['CP_Type_3'].replace({'0':0, '1':1}, inplace= True)\n",
    "corr,_=pearsonr(heart_condition['Target'],heart_condition['CP_Type_3'])\n",
    "print(\"Pearson's Correlation for CP_Type_0 and Target:\", corr)"
   ]
  },
  {
   "cell_type": "markdown",
   "id": "c44bf36a",
   "metadata": {},
   "source": [
    "### Based on the Pearson's correlation scores the following categorical feature(s) is/are selected:\n",
    "CP_Type_0 (as its absolute score is greater than 0.5) and\n",
    "ExerciseAngina (as its absolute score is close to 0.5)\n",
    "\n",
    "The following features are not relevant:\n",
    "Sex, BloodSugar, ECG, CP_Type_1, CP_Type_2, and CP_Type_3"
   ]
  },
  {
   "cell_type": "markdown",
   "id": "b349e390",
   "metadata": {},
   "source": [
    "# List of selected features\n",
    "1. Age\n",
    "2. BloodPressure\n",
    "3. MaxHeartRate\n",
    "4. CP_Type_0\n",
    "5. ExerciseAngina"
   ]
  },
  {
   "cell_type": "markdown",
   "id": "9f0a96ee",
   "metadata": {},
   "source": [
    "# Data Visualization "
   ]
  },
  {
   "cell_type": "code",
   "execution_count": 282,
   "id": "9a3913d9",
   "metadata": {},
   "outputs": [
    {
     "name": "stdout",
     "output_type": "stream",
     "text": [
      "Saving figure attribute_histogram_plots\n"
     ]
    },
    {
     "data": {
      "image/png": "[encoded data removed]",
      "text/plain": [
       "<Figure size 1440x1080 with 6 Axes>"
      ]
     },
     "metadata": {
      "needs_background": "light"
     },
     "output_type": "display_data"
    }
   ],
   "source": [
    "%matplotlib inline\n",
    "import matplotlib.pyplot as plt\n",
    "heart_condition.hist(bins=50, figsize=(20,15))\n",
    "save_fig(\"attribute_histogram_plots\")\n",
    "plt.show()"
   ]
  },
  {
   "cell_type": "code",
   "execution_count": 283,
   "id": "bd524a39",
   "metadata": {},
   "outputs": [
    {
     "data": {
      "image/png": "[encoded data removed]",
      "text/plain": [
       "<Figure size 432x288 with 1 Axes>"
      ]
     },
     "metadata": {
      "needs_background": "light"
     },
     "output_type": "display_data"
    }
   ],
   "source": [
    "H = heart_condition[heart_condition.Target == 1]\n",
    "L = heart_condition[heart_condition.Target == 0]\n",
    "plt.title(\"High Risk vs Low Risk of Heart Attack\")\n",
    "plt.xlabel(\"Age\")\n",
    "plt.ylabel(\"Blood Pressure\")\n",
    "plt.scatter(H.Age, H.BloodPressure, color = \"red\", label = \"High Risk\", alpha = 0.3)\n",
    "plt.scatter(L.Age, L.BloodPressure, color = \"lime\", label = \"Low Risk\", alpha = 0.3)\n",
    "plt.legend()\n",
    "plt.show()"
   ]
  },
  {
   "cell_type": "code",
   "execution_count": 284,
   "id": "61b02fad",
   "metadata": {},
   "outputs": [
    {
     "data": {
      "image/png": "[encoded data removed]",
      "text/plain": [
       "<Figure size 432x288 with 1 Axes>"
      ]
     },
     "metadata": {
      "needs_background": "light"
     },
     "output_type": "display_data"
    }
   ],
   "source": [
    "plt.title(\"High Risk vs Low Risk of Heart Attack\")\n",
    "plt.xlabel(\"Age\")\n",
    "plt.ylabel(\"Max Heart Rate\")\n",
    "plt.scatter(H.Age, H.MaxHeartRate, color = \"red\", label = \"High Risk\", alpha = 0.3)\n",
    "plt.scatter(L.Age, L.MaxHeartRate, color = \"lime\", label = \"Low Risk\", alpha = 0.3)\n",
    "plt.legend()\n",
    "plt.show()"
   ]
  },
  {
   "cell_type": "code",
   "execution_count": 285,
   "id": "b428de4b",
   "metadata": {},
   "outputs": [
    {
     "data": {
      "image/png": "[encoded data removed]",
      "text/plain": [
       "<Figure size 432x288 with 1 Axes>"
      ]
     },
     "metadata": {
      "needs_background": "light"
     },
     "output_type": "display_data"
    }
   ],
   "source": [
    "plt.title(\"High Risk vs Low Risk of Heart Attack\")\n",
    "plt.xlabel(\"Blood Pressure\")\n",
    "plt.ylabel(\"Max Heart Rate\")\n",
    "plt.scatter(H.BloodPressure, H.MaxHeartRate, color = \"red\", label = \"High Risk\", alpha = 0.3)\n",
    "plt.scatter(L.BloodPressure, L.MaxHeartRate, color = \"lime\", label = \"Low Risk\", alpha = 0.3)\n",
    "plt.legend()\n",
    "plt.show()"
   ]
  },
  {
   "cell_type": "markdown",
   "id": "13712ddc",
   "metadata": {},
   "source": [
    "## Observations\n",
    "1. Age, Cholestrol, and MaxHeartRate appear to be normally distributed.\n",
    "2. Age appears to be a symmetric distribution with a mean of approximately 55 years.\n",
    "3. Cholestrol also appears to be symmetrically distributed.\n",
    "4. Outliers of Cholestrol appear to lie 350 units and beyond.\n",
    "5. MaxHeartRate appears to be left tailed with outliers less than 120 units.\n",
    "6. BloodPressure appears to have outliers beyond 160 units.\n",
    "7. Scatter-plots for high risk vs low risk of heart attack are shown for various groups of selected variables. Some observations from the scatter-plots include:\n",
    "\n",
    "    a. High risk in subjects of 40-50 age group with blood pressure of 120-140.\n",
    "    \n",
    "    b. Higher the max heart rate higher the risk.\n",
    "    \n",
    "    c. Aged subjects have a high risk even for lower values of max heart rate.\n",
    "    \n",
    "    d. Higher blood pressure combined with high max heart rate increases the risk."
   ]
  },
  {
   "cell_type": "markdown",
   "id": "5b7913b2",
   "metadata": {},
   "source": [
    "# Model Building and Analytics"
   ]
  },
  {
   "cell_type": "code",
   "execution_count": 286,
   "id": "5e5603d0",
   "metadata": {},
   "outputs": [
    {
     "data": {
      "text/html": [
       "<div>\n",
       "<style scoped>\n",
       "    .dataframe tbody tr th:only-of-type {\n",
       "        vertical-align: middle;\n",
       "    }\n",
       "\n",
       "    .dataframe tbody tr th {\n",
       "        vertical-align: top;\n",
       "    }\n",
       "\n",
       "    .dataframe thead th {\n",
       "        text-align: right;\n",
       "    }\n",
       "</style>\n",
       "<table border=\"1\" class=\"dataframe\">\n",
       "  <thead>\n",
       "    <tr style=\"text-align: right;\">\n",
       "      <th></th>\n",
       "      <th>Age</th>\n",
       "      <th>Sex</th>\n",
       "      <th>BloodPressure</th>\n",
       "      <th>Cholestrol</th>\n",
       "      <th>BloodSugar</th>\n",
       "      <th>ECG</th>\n",
       "      <th>MaxHeartRate</th>\n",
       "      <th>ExerciseAngina</th>\n",
       "      <th>FamilyHistory</th>\n",
       "      <th>Target</th>\n",
       "      <th>CP_Type_0</th>\n",
       "      <th>CP_Type_1</th>\n",
       "      <th>CP_Type_2</th>\n",
       "      <th>CP_Type_3</th>\n",
       "    </tr>\n",
       "  </thead>\n",
       "  <tbody>\n",
       "    <tr>\n",
       "      <th>0</th>\n",
       "      <td>0.708333</td>\n",
       "      <td>1.0</td>\n",
       "      <td>0.481132</td>\n",
       "      <td>0.244292</td>\n",
       "      <td>1.0</td>\n",
       "      <td>0.0</td>\n",
       "      <td>0.603053</td>\n",
       "      <td>0.0</td>\n",
       "      <td>0.4</td>\n",
       "      <td>1.0</td>\n",
       "      <td>0.0</td>\n",
       "      <td>0.0</td>\n",
       "      <td>0.0</td>\n",
       "      <td>1.0</td>\n",
       "    </tr>\n",
       "    <tr>\n",
       "      <th>1</th>\n",
       "      <td>0.166667</td>\n",
       "      <td>1.0</td>\n",
       "      <td>0.339623</td>\n",
       "      <td>0.283105</td>\n",
       "      <td>0.0</td>\n",
       "      <td>1.0</td>\n",
       "      <td>0.885496</td>\n",
       "      <td>0.0</td>\n",
       "      <td>0.2</td>\n",
       "      <td>1.0</td>\n",
       "      <td>0.0</td>\n",
       "      <td>0.0</td>\n",
       "      <td>1.0</td>\n",
       "      <td>0.0</td>\n",
       "    </tr>\n",
       "    <tr>\n",
       "      <th>2</th>\n",
       "      <td>0.250000</td>\n",
       "      <td>0.0</td>\n",
       "      <td>0.339623</td>\n",
       "      <td>0.178082</td>\n",
       "      <td>0.0</td>\n",
       "      <td>0.0</td>\n",
       "      <td>0.770992</td>\n",
       "      <td>0.0</td>\n",
       "      <td>0.0</td>\n",
       "      <td>1.0</td>\n",
       "      <td>0.0</td>\n",
       "      <td>1.0</td>\n",
       "      <td>0.0</td>\n",
       "      <td>0.0</td>\n",
       "    </tr>\n",
       "    <tr>\n",
       "      <th>3</th>\n",
       "      <td>0.562500</td>\n",
       "      <td>1.0</td>\n",
       "      <td>0.245283</td>\n",
       "      <td>0.251142</td>\n",
       "      <td>0.0</td>\n",
       "      <td>1.0</td>\n",
       "      <td>0.816794</td>\n",
       "      <td>0.0</td>\n",
       "      <td>0.2</td>\n",
       "      <td>1.0</td>\n",
       "      <td>0.0</td>\n",
       "      <td>1.0</td>\n",
       "      <td>0.0</td>\n",
       "      <td>0.0</td>\n",
       "    </tr>\n",
       "    <tr>\n",
       "      <th>4</th>\n",
       "      <td>0.583333</td>\n",
       "      <td>0.0</td>\n",
       "      <td>0.245283</td>\n",
       "      <td>0.520548</td>\n",
       "      <td>0.0</td>\n",
       "      <td>1.0</td>\n",
       "      <td>0.702290</td>\n",
       "      <td>1.0</td>\n",
       "      <td>0.0</td>\n",
       "      <td>1.0</td>\n",
       "      <td>1.0</td>\n",
       "      <td>0.0</td>\n",
       "      <td>0.0</td>\n",
       "      <td>0.0</td>\n",
       "    </tr>\n",
       "  </tbody>\n",
       "</table>\n",
       "</div>"
      ],
      "text/plain": [
       "        Age  Sex  BloodPressure  Cholestrol  BloodSugar  ECG  MaxHeartRate  \\\n",
       "0  0.708333  1.0       0.481132    0.244292         1.0  0.0      0.603053   \n",
       "1  0.166667  1.0       0.339623    0.283105         0.0  1.0      0.885496   \n",
       "2  0.250000  0.0       0.339623    0.178082         0.0  0.0      0.770992   \n",
       "3  0.562500  1.0       0.245283    0.251142         0.0  1.0      0.816794   \n",
       "4  0.583333  0.0       0.245283    0.520548         0.0  1.0      0.702290   \n",
       "\n",
       "   ExerciseAngina  FamilyHistory  Target  CP_Type_0  CP_Type_1  CP_Type_2  \\\n",
       "0             0.0            0.4     1.0        0.0        0.0        0.0   \n",
       "1             0.0            0.2     1.0        0.0        0.0        1.0   \n",
       "2             0.0            0.0     1.0        0.0        1.0        0.0   \n",
       "3             0.0            0.2     1.0        0.0        1.0        0.0   \n",
       "4             1.0            0.0     1.0        1.0        0.0        0.0   \n",
       "\n",
       "   CP_Type_3  \n",
       "0        1.0  \n",
       "1        0.0  \n",
       "2        0.0  \n",
       "3        0.0  \n",
       "4        0.0  "
      ]
     },
     "execution_count": 286,
     "metadata": {},
     "output_type": "execute_result"
    }
   ],
   "source": [
    "import scipy\n",
    "import numpy\n",
    "import sklearn\n",
    "from sklearn.preprocessing import MinMaxScaler\n",
    "\n",
    "# initialising the MinMaxScaler\n",
    "scaler = MinMaxScaler(feature_range=(0, 1))\n",
    "\n",
    "# Normalization using min-max normalization\n",
    "scaled_features = scaler.fit_transform(heart_condition.values)\n",
    "heart_condition = pd.DataFrame(scaled_features, index=heart_condition.index, columns=heart_condition.columns)\n",
    "heart_condition.head()"
   ]
  },
  {
   "cell_type": "code",
   "execution_count": 287,
   "id": "84d4b87b",
   "metadata": {},
   "outputs": [],
   "source": [
    "from sklearn.model_selection import train_test_split\n",
    "# separate array into input and output components\n",
    "X = heart_condition.iloc[:, [0,2,6,7,10]].values\n",
    "y = heart_condition.iloc[:, 9].values\n",
    "\n",
    "# Splitting the dataset into the Training set and Test set\n",
    "X_train, X_test, y_train, y_test = train_test_split(X, y, test_size = 0.20, random_state = 0)"
   ]
  },
  {
   "cell_type": "code",
   "execution_count": 288,
   "id": "e63615ed",
   "metadata": {},
   "outputs": [
    {
     "data": {
      "text/plain": [
       "242"
      ]
     },
     "execution_count": 288,
     "metadata": {},
     "output_type": "execute_result"
    }
   ],
   "source": [
    "len(X_train)"
   ]
  },
  {
   "cell_type": "code",
   "execution_count": 289,
   "id": "5396e421",
   "metadata": {},
   "outputs": [
    {
     "data": {
      "text/plain": [
       "61"
      ]
     },
     "execution_count": 289,
     "metadata": {},
     "output_type": "execute_result"
    }
   ],
   "source": [
    "len(X_test)"
   ]
  },
  {
   "cell_type": "code",
   "execution_count": 290,
   "id": "a5cc559a",
   "metadata": {},
   "outputs": [
    {
     "data": {
      "text/plain": [
       "GaussianNB()"
      ]
     },
     "execution_count": 290,
     "metadata": {},
     "output_type": "execute_result"
    }
   ],
   "source": [
    "from sklearn.naive_bayes import GaussianNB\n",
    "\n",
    "clf = GaussianNB()\n",
    "clf.fit(X_train, y_train)"
   ]
  },
  {
   "cell_type": "code",
   "execution_count": 242,
   "id": "50ccac81",
   "metadata": {},
   "outputs": [
    {
     "name": "stdout",
     "output_type": "stream",
     "text": [
      "[[0.992 0.008]\n",
      " [0.175 0.825]\n",
      " [0.174 0.826]\n",
      " [0.995 0.005]\n",
      " [0.171 0.829]\n",
      " [0.329 0.671]\n",
      " [0.971 0.029]\n",
      " [0.716 0.284]\n",
      " [0.999 0.001]\n",
      " [0.996 0.004]\n",
      " [0.103 0.897]\n",
      " [0.049 0.951]\n",
      " [0.869 0.131]\n",
      " [0.128 0.872]\n",
      " [0.013 0.987]\n",
      " [0.763 0.237]\n",
      " [0.738 0.262]\n",
      " [0.094 0.906]\n",
      " [0.998 0.002]\n",
      " [0.029 0.971]\n",
      " [0.135 0.865]\n",
      " [0.224 0.776]\n",
      " [0.91  0.09 ]\n",
      " [0.996 0.004]\n",
      " [0.092 0.908]\n",
      " [0.314 0.686]\n",
      " [0.295 0.705]\n",
      " [0.472 0.528]\n",
      " [0.003 0.997]\n",
      " [0.19  0.81 ]\n",
      " [0.148 0.852]\n",
      " [0.956 0.044]\n",
      " [0.006 0.994]\n",
      " [0.428 0.572]\n",
      " [0.014 0.986]\n",
      " [0.953 0.047]\n",
      " [0.986 0.014]\n",
      " [0.107 0.893]\n",
      " [0.991 0.009]\n",
      " [0.136 0.864]\n",
      " [0.568 0.432]\n",
      " [0.101 0.899]\n",
      " [0.069 0.931]\n",
      " [0.99  0.01 ]\n",
      " [0.734 0.266]\n",
      " [0.675 0.325]\n",
      " [0.023 0.977]\n",
      " [0.07  0.93 ]\n",
      " [0.602 0.398]\n",
      " [0.069 0.931]\n",
      " [0.125 0.875]\n",
      " [0.823 0.177]\n",
      " [0.05  0.95 ]\n",
      " [0.198 0.802]\n",
      " [0.001 0.999]\n",
      " [0.831 0.169]\n",
      " [0.007 0.993]\n",
      " [0.027 0.973]\n",
      " [0.414 0.586]\n",
      " [0.017 0.983]\n",
      " [0.443 0.557]]\n"
     ]
    }
   ],
   "source": [
    "probs_log1=clf.predict_proba(X_test)\n",
    "print(probs_log1)"
   ]
  },
  {
   "cell_type": "code",
   "execution_count": 292,
   "id": "0b78513a",
   "metadata": {},
   "outputs": [
    {
     "name": "stdout",
     "output_type": "stream",
     "text": [
      "No Skill: ROC AUC=0.500\n",
      "Gaussian Naive Bayes: ROC AUC=0.852\n"
     ]
    },
    {
     "data": {
      "image/png": "[encoded data removed]",
      "text/plain": [
       "<Figure size 432x288 with 1 Axes>"
      ]
     },
     "metadata": {
      "needs_background": "light"
     },
     "output_type": "display_data"
    }
   ],
   "source": [
    "# roc curve and auc\n",
    "from sklearn.datasets import make_classification\n",
    "from sklearn.linear_model import LogisticRegression\n",
    "from sklearn.model_selection import train_test_split\n",
    "from sklearn.metrics import roc_curve\n",
    "from sklearn.metrics import roc_auc_score\n",
    "from matplotlib import pyplot\n",
    "\n",
    "# generate a no skill prediction (majority class)\n",
    "ns_probs = [0 for _ in range(len(y_test))]\n",
    "\n",
    "# keep probabilities for the positive outcome only\n",
    "GNB_probs = probs_log1[:, 1]\n",
    "\n",
    "# calculate scores\n",
    "ns_auc = roc_auc_score(y_test, ns_probs)\n",
    "GNB_auc = roc_auc_score(y_test, GNB_probs)\n",
    "\n",
    "# summarize scores\n",
    "print('No Skill: ROC AUC=%.3f' % (ns_auc))\n",
    "print('Gaussian Naive Bayes: ROC AUC=%.3f' % (GNB_auc))\n",
    "\n",
    "# calculate roc curves\n",
    "ns_fpr, ns_tpr, _ = roc_curve(y_test, ns_probs)\n",
    "GNB_fpr, GNB_tpr, _ = roc_curve(y_test, GNB_probs)\n",
    "\n",
    "# plot the roc curve for the model\n",
    "pyplot.plot(ns_fpr, ns_tpr, linestyle='--', label='No Skill')\n",
    "pyplot.plot(GNB_fpr, GNB_tpr, marker='.', label='Gaussian NB')\n",
    "\n",
    "# axis labels\n",
    "pyplot.xlabel('False Positive Rate')\n",
    "pyplot.ylabel('True Positive Rate')\n",
    "\n",
    "# show the legend\n",
    "\n",
    "pyplot.legend()\n",
    "\n",
    "# show the plot\n",
    "pyplot.show()"
   ]
  },
  {
   "cell_type": "code",
   "execution_count": 293,
   "id": "2288dee9",
   "metadata": {},
   "outputs": [
    {
     "name": "stdout",
     "output_type": "stream",
     "text": [
      "Accuracy Score: 0.7704918032786885\n"
     ]
    }
   ],
   "source": [
    "print(\"Accuracy Score:\", clf.score(X_test,y_test))"
   ]
  },
  {
   "cell_type": "code",
   "execution_count": 294,
   "id": "05a60033",
   "metadata": {},
   "outputs": [
    {
     "name": "stdout",
     "output_type": "stream",
     "text": [
      "[0. 1. 1. 0. 1. 1. 0. 0. 0. 0. 1. 1. 0. 1. 1. 0. 0. 1. 0. 1. 1. 1. 0. 0.\n",
      " 1. 0. 1. 1. 1. 1. 1. 0. 1. 1. 1. 0. 0. 1. 0. 0. 0. 1. 1. 0. 0. 1. 1. 1.\n",
      " 0. 1. 1. 0. 1. 1. 1. 0. 1. 1. 1. 1. 0.]\n"
     ]
    }
   ],
   "source": [
    "from sklearn.metrics import precision_recall_fscore_support\n",
    "\n",
    "y_pred=clf.predict(X_test)\n",
    "print(y_pred)"
   ]
  },
  {
   "cell_type": "code",
   "execution_count": 295,
   "id": "1e3be3a4",
   "metadata": {},
   "outputs": [
    {
     "data": {
      "text/plain": [
       "(0.768888888888889, 0.7636165577342048, 0.7653846153846153, None)"
      ]
     },
     "execution_count": 295,
     "metadata": {},
     "output_type": "execute_result"
    }
   ],
   "source": [
    "precision_recall_fscore_support(y_test, y_pred, average='macro')"
   ]
  },
  {
   "cell_type": "markdown",
   "id": "cebcaf11",
   "metadata": {},
   "source": [
    "# Analysis Results\n",
    "1. AUC-ROC curve is presented above with ROC AUC=0.852 for Gaussian Naive Bayes:\n",
    "2. Accuracy Score: 0.77\n",
    "3. Precision: 0.77\n",
    "4. Recall: 0.76\n",
    "5. F-score: 0.77"
   ]
  },
  {
   "cell_type": "markdown",
   "id": "858ed578",
   "metadata": {},
   "source": [
    "# Thank you!"
   ]
  },
  {
   "cell_type": "code",
   "execution_count": null,
   "id": "9ae9d711",
   "metadata": {},
   "outputs": [],
   "source": []
  }
 ],
 "metadata": {
  "celltoolbar": "Raw Cell Format",
  "kernelspec": {
   "display_name": "Python 3 (ipykernel)",
   "language": "python",
   "name": "python3"
  },
  "language_info": {
   "codemirror_mode": {
    "name": "ipython",
    "version": 3
   },
   "file_extension": ".py",
   "mimetype": "text/x-python",
   "name": "python",
   "nbconvert_exporter": "python",
   "pygments_lexer": "ipython3",
   "version": "3.9.6"
  }
 },
 "nbformat": 4,
 "nbformat_minor": 5
}
