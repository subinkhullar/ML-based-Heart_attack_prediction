{
 "cells": [
  {
   "cell_type": "markdown",
   "id": "de398813",
   "metadata": {},
   "source": [
    "# Setup\n",
    "\n",
    "First, let's import a few common modules, ensure MatplotLib plots figures inline and prepare a function to save the figures. We also check that Python 3.5 or later is installed (although Python 2.x may work, it is deprecated, so we use Python 3 instead), as well as Scikit-Learn ≥0.20."
   ]
  },
  {
   "cell_type": "code",
   "execution_count": 1,
   "id": "424502cd",
   "metadata": {},
   "outputs": [],
   "source": [
    "# Python ≥3.5 is required\n",
    "import sys\n",
    "assert sys.version_info >= (3, 5)\n",
    "\n",
    "# Scikit-Learn ≥0.20 is required\n",
    "import sklearn\n",
    "assert sklearn.__version__ >= \"0.20\"\n",
    "\n",
    "# Common imports\n",
    "import numpy as np\n",
    "import os\n",
    "\n",
    "# To plot pretty figures\n",
    "%matplotlib inline\n",
    "import matplotlib as mpl\n",
    "import matplotlib.pyplot as plt\n",
    "mpl.rc('axes', labelsize=14)\n",
    "mpl.rc('xtick', labelsize=12)\n",
    "mpl.rc('ytick', labelsize=12)\n",
    "\n",
    "# Where to save the figures\n",
    "PROJECT_ROOT_DIR = \".\"\n",
    "CHAPTER_ID = \"end_to_end_project\"\n",
    "IMAGES_PATH = os.path.join(PROJECT_ROOT_DIR, \"images\", CHAPTER_ID)\n",
    "os.makedirs(IMAGES_PATH, exist_ok=True)\n",
    "\n",
    "def save_fig(fig_id, tight_layout=True, fig_extension=\"png\", resolution=300):\n",
    "    path = os.path.join(IMAGES_PATH, fig_id + \".\" + fig_extension)\n",
    "    print(\"Saving figure\", fig_id)\n",
    "    if tight_layout:\n",
    "        plt.tight_layout()\n",
    "    plt.savefig(path, format=fig_extension, dpi=resolution)\n",
    "\n",
    "# Ignore useless warnings (see SciPy issue #5998)\n",
    "import warnings\n",
    "warnings.filterwarnings(action=\"ignore\", message=\"^internal gelsd\")"
   ]
  },
  {
   "cell_type": "markdown",
   "id": "36fbabfd",
   "metadata": {},
   "source": [
    "# Get the data"
   ]
  },
  {
   "cell_type": "code",
   "execution_count": 2,
   "id": "77ef15b5",
   "metadata": {},
   "outputs": [],
   "source": [
    "import os\n",
    "import pandas as pd\n",
    "\n",
    "DATASET_PATH = os.path.join(\"datasets\", \"heart_attack_ds\")\n",
    "\n",
    "def load_data(path=DATASET_PATH):\n",
    "    csv_path = os.path.join(path, \"Heart_Attack_Analysis_Data.csv\")\n",
    "    return pd.read_csv(csv_path)"
   ]
  },
  {
   "cell_type": "code",
   "execution_count": 4,
   "id": "5ee12c8c",
   "metadata": {},
   "outputs": [
    {
     "data": {
      "text/html": [
       "<div>\n",
       "<style scoped>\n",
       "    .dataframe tbody tr th:only-of-type {\n",
       "        vertical-align: middle;\n",
       "    }\n",
       "\n",
       "    .dataframe tbody tr th {\n",
       "        vertical-align: top;\n",
       "    }\n",
       "\n",
       "    .dataframe thead th {\n",
       "        text-align: right;\n",
       "    }\n",
       "</style>\n",
       "<table border=\"1\" class=\"dataframe\">\n",
       "  <thead>\n",
       "    <tr style=\"text-align: right;\">\n",
       "      <th></th>\n",
       "      <th>Age</th>\n",
       "      <th>Sex</th>\n",
       "      <th>CP_Type</th>\n",
       "      <th>BloodPressure</th>\n",
       "      <th>Cholestrol</th>\n",
       "      <th>BloodSugar</th>\n",
       "      <th>ECG</th>\n",
       "      <th>MaxHeartRate</th>\n",
       "      <th>ExerciseAngina</th>\n",
       "      <th>FamilyHistory</th>\n",
       "      <th>Target</th>\n",
       "    </tr>\n",
       "  </thead>\n",
       "  <tbody>\n",
       "    <tr>\n",
       "      <th>0</th>\n",
       "      <td>63</td>\n",
       "      <td>1</td>\n",
       "      <td>3</td>\n",
       "      <td>145</td>\n",
       "      <td>233</td>\n",
       "      <td>1</td>\n",
       "      <td>0</td>\n",
       "      <td>150</td>\n",
       "      <td>0</td>\n",
       "      <td>2</td>\n",
       "      <td>1</td>\n",
       "    </tr>\n",
       "    <tr>\n",
       "      <th>1</th>\n",
       "      <td>37</td>\n",
       "      <td>1</td>\n",
       "      <td>2</td>\n",
       "      <td>130</td>\n",
       "      <td>250</td>\n",
       "      <td>0</td>\n",
       "      <td>1</td>\n",
       "      <td>187</td>\n",
       "      <td>0</td>\n",
       "      <td>1</td>\n",
       "      <td>1</td>\n",
       "    </tr>\n",
       "    <tr>\n",
       "      <th>2</th>\n",
       "      <td>41</td>\n",
       "      <td>0</td>\n",
       "      <td>1</td>\n",
       "      <td>130</td>\n",
       "      <td>204</td>\n",
       "      <td>0</td>\n",
       "      <td>0</td>\n",
       "      <td>172</td>\n",
       "      <td>0</td>\n",
       "      <td>0</td>\n",
       "      <td>1</td>\n",
       "    </tr>\n",
       "    <tr>\n",
       "      <th>3</th>\n",
       "      <td>56</td>\n",
       "      <td>1</td>\n",
       "      <td>1</td>\n",
       "      <td>120</td>\n",
       "      <td>236</td>\n",
       "      <td>0</td>\n",
       "      <td>1</td>\n",
       "      <td>178</td>\n",
       "      <td>0</td>\n",
       "      <td>1</td>\n",
       "      <td>1</td>\n",
       "    </tr>\n",
       "    <tr>\n",
       "      <th>4</th>\n",
       "      <td>57</td>\n",
       "      <td>0</td>\n",
       "      <td>0</td>\n",
       "      <td>120</td>\n",
       "      <td>354</td>\n",
       "      <td>0</td>\n",
       "      <td>1</td>\n",
       "      <td>163</td>\n",
       "      <td>1</td>\n",
       "      <td>0</td>\n",
       "      <td>1</td>\n",
       "    </tr>\n",
       "  </tbody>\n",
       "</table>\n",
       "</div>"
      ],
      "text/plain": [
       "   Age  Sex  CP_Type  BloodPressure  Cholestrol  BloodSugar  ECG  \\\n",
       "0   63    1        3            145         233           1    0   \n",
       "1   37    1        2            130         250           0    1   \n",
       "2   41    0        1            130         204           0    0   \n",
       "3   56    1        1            120         236           0    1   \n",
       "4   57    0        0            120         354           0    1   \n",
       "\n",
       "   MaxHeartRate  ExerciseAngina  FamilyHistory  Target  \n",
       "0           150               0              2       1  \n",
       "1           187               0              1       1  \n",
       "2           172               0              0       1  \n",
       "3           178               0              1       1  \n",
       "4           163               1              0       1  "
      ]
     },
     "execution_count": 4,
     "metadata": {},
     "output_type": "execute_result"
    }
   ],
   "source": [
    "heart_condition = load_data()\n",
    "heart_condition.head()"
   ]
  },
  {
   "cell_type": "code",
   "execution_count": 5,
   "id": "d0a91f15",
   "metadata": {},
   "outputs": [
    {
     "name": "stdout",
     "output_type": "stream",
     "text": [
      "<class 'pandas.core.frame.DataFrame'>\n",
      "RangeIndex: 303 entries, 0 to 302\n",
      "Data columns (total 11 columns):\n",
      " #   Column          Non-Null Count  Dtype\n",
      "---  ------          --------------  -----\n",
      " 0   Age             303 non-null    int64\n",
      " 1   Sex             303 non-null    int64\n",
      " 2   CP_Type         303 non-null    int64\n",
      " 3   BloodPressure   303 non-null    int64\n",
      " 4   Cholestrol      303 non-null    int64\n",
      " 5   BloodSugar      303 non-null    int64\n",
      " 6   ECG             303 non-null    int64\n",
      " 7   MaxHeartRate    303 non-null    int64\n",
      " 8   ExerciseAngina  303 non-null    int64\n",
      " 9   FamilyHistory   303 non-null    int64\n",
      " 10  Target          303 non-null    int64\n",
      "dtypes: int64(11)\n",
      "memory usage: 26.2 KB\n"
     ]
    }
   ],
   "source": [
    "heart_condition.info()"
   ]
  },
  {
   "cell_type": "code",
   "execution_count": 6,
   "id": "1e7225ba",
   "metadata": {},
   "outputs": [
    {
     "data": {
      "text/html": [
       "<div>\n",
       "<style scoped>\n",
       "    .dataframe tbody tr th:only-of-type {\n",
       "        vertical-align: middle;\n",
       "    }\n",
       "\n",
       "    .dataframe tbody tr th {\n",
       "        vertical-align: top;\n",
       "    }\n",
       "\n",
       "    .dataframe thead th {\n",
       "        text-align: right;\n",
       "    }\n",
       "</style>\n",
       "<table border=\"1\" class=\"dataframe\">\n",
       "  <thead>\n",
       "    <tr style=\"text-align: right;\">\n",
       "      <th></th>\n",
       "      <th>Age</th>\n",
       "      <th>Sex</th>\n",
       "      <th>CP_Type</th>\n",
       "      <th>BloodPressure</th>\n",
       "      <th>Cholestrol</th>\n",
       "      <th>BloodSugar</th>\n",
       "      <th>ECG</th>\n",
       "      <th>MaxHeartRate</th>\n",
       "      <th>ExerciseAngina</th>\n",
       "      <th>FamilyHistory</th>\n",
       "      <th>Target</th>\n",
       "    </tr>\n",
       "  </thead>\n",
       "  <tbody>\n",
       "    <tr>\n",
       "      <th>count</th>\n",
       "      <td>303.000000</td>\n",
       "      <td>303.000000</td>\n",
       "      <td>303.000000</td>\n",
       "      <td>303.000000</td>\n",
       "      <td>303.000000</td>\n",
       "      <td>303.000000</td>\n",
       "      <td>303.000000</td>\n",
       "      <td>303.000000</td>\n",
       "      <td>303.000000</td>\n",
       "      <td>303.000000</td>\n",
       "      <td>303.000000</td>\n",
       "    </tr>\n",
       "    <tr>\n",
       "      <th>mean</th>\n",
       "      <td>54.366337</td>\n",
       "      <td>0.683168</td>\n",
       "      <td>0.966997</td>\n",
       "      <td>131.623762</td>\n",
       "      <td>246.264026</td>\n",
       "      <td>0.148515</td>\n",
       "      <td>0.528053</td>\n",
       "      <td>149.646865</td>\n",
       "      <td>0.326733</td>\n",
       "      <td>1.204620</td>\n",
       "      <td>0.544554</td>\n",
       "    </tr>\n",
       "    <tr>\n",
       "      <th>std</th>\n",
       "      <td>9.082101</td>\n",
       "      <td>0.466011</td>\n",
       "      <td>1.032052</td>\n",
       "      <td>17.538143</td>\n",
       "      <td>51.830751</td>\n",
       "      <td>0.356198</td>\n",
       "      <td>0.525860</td>\n",
       "      <td>22.905161</td>\n",
       "      <td>0.469794</td>\n",
       "      <td>1.096825</td>\n",
       "      <td>0.498835</td>\n",
       "    </tr>\n",
       "    <tr>\n",
       "      <th>min</th>\n",
       "      <td>29.000000</td>\n",
       "      <td>0.000000</td>\n",
       "      <td>0.000000</td>\n",
       "      <td>94.000000</td>\n",
       "      <td>126.000000</td>\n",
       "      <td>0.000000</td>\n",
       "      <td>0.000000</td>\n",
       "      <td>71.000000</td>\n",
       "      <td>0.000000</td>\n",
       "      <td>0.000000</td>\n",
       "      <td>0.000000</td>\n",
       "    </tr>\n",
       "    <tr>\n",
       "      <th>25%</th>\n",
       "      <td>47.500000</td>\n",
       "      <td>0.000000</td>\n",
       "      <td>0.000000</td>\n",
       "      <td>120.000000</td>\n",
       "      <td>211.000000</td>\n",
       "      <td>0.000000</td>\n",
       "      <td>0.000000</td>\n",
       "      <td>133.500000</td>\n",
       "      <td>0.000000</td>\n",
       "      <td>0.000000</td>\n",
       "      <td>0.000000</td>\n",
       "    </tr>\n",
       "    <tr>\n",
       "      <th>50%</th>\n",
       "      <td>55.000000</td>\n",
       "      <td>1.000000</td>\n",
       "      <td>1.000000</td>\n",
       "      <td>130.000000</td>\n",
       "      <td>240.000000</td>\n",
       "      <td>0.000000</td>\n",
       "      <td>1.000000</td>\n",
       "      <td>153.000000</td>\n",
       "      <td>0.000000</td>\n",
       "      <td>1.000000</td>\n",
       "      <td>1.000000</td>\n",
       "    </tr>\n",
       "    <tr>\n",
       "      <th>75%</th>\n",
       "      <td>61.000000</td>\n",
       "      <td>1.000000</td>\n",
       "      <td>2.000000</td>\n",
       "      <td>140.000000</td>\n",
       "      <td>274.500000</td>\n",
       "      <td>0.000000</td>\n",
       "      <td>1.000000</td>\n",
       "      <td>166.000000</td>\n",
       "      <td>1.000000</td>\n",
       "      <td>2.000000</td>\n",
       "      <td>1.000000</td>\n",
       "    </tr>\n",
       "    <tr>\n",
       "      <th>max</th>\n",
       "      <td>77.000000</td>\n",
       "      <td>1.000000</td>\n",
       "      <td>3.000000</td>\n",
       "      <td>200.000000</td>\n",
       "      <td>564.000000</td>\n",
       "      <td>1.000000</td>\n",
       "      <td>2.000000</td>\n",
       "      <td>202.000000</td>\n",
       "      <td>1.000000</td>\n",
       "      <td>5.000000</td>\n",
       "      <td>1.000000</td>\n",
       "    </tr>\n",
       "  </tbody>\n",
       "</table>\n",
       "</div>"
      ],
      "text/plain": [
       "              Age         Sex     CP_Type  BloodPressure  Cholestrol  \\\n",
       "count  303.000000  303.000000  303.000000     303.000000  303.000000   \n",
       "mean    54.366337    0.683168    0.966997     131.623762  246.264026   \n",
       "std      9.082101    0.466011    1.032052      17.538143   51.830751   \n",
       "min     29.000000    0.000000    0.000000      94.000000  126.000000   \n",
       "25%     47.500000    0.000000    0.000000     120.000000  211.000000   \n",
       "50%     55.000000    1.000000    1.000000     130.000000  240.000000   \n",
       "75%     61.000000    1.000000    2.000000     140.000000  274.500000   \n",
       "max     77.000000    1.000000    3.000000     200.000000  564.000000   \n",
       "\n",
       "       BloodSugar         ECG  MaxHeartRate  ExerciseAngina  FamilyHistory  \\\n",
       "count  303.000000  303.000000    303.000000      303.000000     303.000000   \n",
       "mean     0.148515    0.528053    149.646865        0.326733       1.204620   \n",
       "std      0.356198    0.525860     22.905161        0.469794       1.096825   \n",
       "min      0.000000    0.000000     71.000000        0.000000       0.000000   \n",
       "25%      0.000000    0.000000    133.500000        0.000000       0.000000   \n",
       "50%      0.000000    1.000000    153.000000        0.000000       1.000000   \n",
       "75%      0.000000    1.000000    166.000000        1.000000       2.000000   \n",
       "max      1.000000    2.000000    202.000000        1.000000       5.000000   \n",
       "\n",
       "           Target  \n",
       "count  303.000000  \n",
       "mean     0.544554  \n",
       "std      0.498835  \n",
       "min      0.000000  \n",
       "25%      0.000000  \n",
       "50%      1.000000  \n",
       "75%      1.000000  \n",
       "max      1.000000  "
      ]
     },
     "execution_count": 6,
     "metadata": {},
     "output_type": "execute_result"
    }
   ],
   "source": [
    "heart_condition.describe()"
   ]
  },
  {
   "cell_type": "markdown",
   "id": "e5ab3598",
   "metadata": {},
   "source": [
    "# Data Pre-processing\n",
    "We perform the following steps:\n",
    "1. Determine number of null values in the dataset.\n",
    "2. Convert Sex, CP_Type, BloodSugar, ECG, ExerciseAngina into categorical type from int type.\n",
    "3. Perform One Hot Encoding on the column CP_Type and ECG\n",
    "4. Remove duplicate rows"
   ]
  },
  {
   "cell_type": "code",
   "execution_count": 8,
   "id": "e1b0edbb",
   "metadata": {},
   "outputs": [
    {
     "data": {
      "text/plain": [
       "Age               0\n",
       "Sex               0\n",
       "CP_Type           0\n",
       "BloodPressure     0\n",
       "Cholestrol        0\n",
       "BloodSugar        0\n",
       "ECG               0\n",
       "MaxHeartRate      0\n",
       "ExerciseAngina    0\n",
       "FamilyHistory     0\n",
       "Target            0\n",
       "dtype: int64"
      ]
     },
     "execution_count": 8,
     "metadata": {},
     "output_type": "execute_result"
    }
   ],
   "source": [
    "# 1. Count of null values in dataset\n",
    "heart_condition.isnull().sum()"
   ]
  },
  {
   "cell_type": "code",
   "execution_count": 9,
   "id": "418dbfaf",
   "metadata": {},
   "outputs": [
    {
     "data": {
      "text/plain": [
       "Age                  int64\n",
       "Sex               category\n",
       "CP_Type           category\n",
       "BloodPressure        int64\n",
       "Cholestrol           int64\n",
       "BloodSugar        category\n",
       "ECG               category\n",
       "MaxHeartRate         int64\n",
       "ExerciseAngina    category\n",
       "FamilyHistory        int64\n",
       "Target               int64\n",
       "dtype: object"
      ]
     },
     "execution_count": 9,
     "metadata": {},
     "output_type": "execute_result"
    }
   ],
   "source": [
    "# 2. Typecast to Categorical columns in pandas\n",
    "heart_condition['Sex'] = pd.Categorical(heart_condition.Sex)\n",
    "heart_condition['CP_Type'] = pd.Categorical(heart_condition.CP_Type)\n",
    "heart_condition['BloodSugar'] = pd.Categorical(heart_condition.BloodSugar)\n",
    "heart_condition['ECG'] = pd.Categorical(heart_condition.ECG)\n",
    "heart_condition['ExerciseAngina'] = pd.Categorical(heart_condition.ExerciseAngina)\n",
    "heart_condition.dtypes"
   ]
  },
  {
   "cell_type": "code",
   "execution_count": 10,
   "id": "7c3bae84",
   "metadata": {},
   "outputs": [
    {
     "name": "stdout",
     "output_type": "stream",
     "text": [
      "     Age Sex  BloodPressure  Cholestrol BloodSugar  MaxHeartRate  \\\n",
      "0     63   1            145         233          1           150   \n",
      "1     37   1            130         250          0           187   \n",
      "2     41   0            130         204          0           172   \n",
      "3     56   1            120         236          0           178   \n",
      "4     57   0            120         354          0           163   \n",
      "..   ...  ..            ...         ...        ...           ...   \n",
      "298   57   0            140         241          0           123   \n",
      "299   45   1            110         264          0           132   \n",
      "300   68   1            144         193          1           141   \n",
      "301   57   1            130         131          0           115   \n",
      "302   57   0            130         236          0           174   \n",
      "\n",
      "    ExerciseAngina  FamilyHistory  Target  CP_Type_0  CP_Type_1  CP_Type_2  \\\n",
      "0                0              2       1          0          0          0   \n",
      "1                0              1       1          0          0          1   \n",
      "2                0              0       1          0          1          0   \n",
      "3                0              1       1          0          1          0   \n",
      "4                1              0       1          1          0          0   \n",
      "..             ...            ...     ...        ...        ...        ...   \n",
      "298              1              0       0          1          0          0   \n",
      "299              0              0       0          0          0          0   \n",
      "300              0              0       0          1          0          0   \n",
      "301              1              0       0          1          0          0   \n",
      "302              0              0       0          0          1          0   \n",
      "\n",
      "     CP_Type_3  ECG_0  ECG_1  ECG_2  \n",
      "0            1      1      0      0  \n",
      "1            0      0      1      0  \n",
      "2            0      1      0      0  \n",
      "3            0      0      1      0  \n",
      "4            0      0      1      0  \n",
      "..         ...    ...    ...    ...  \n",
      "298          0      0      1      0  \n",
      "299          1      0      1      0  \n",
      "300          0      0      1      0  \n",
      "301          0      0      1      0  \n",
      "302          0      1      0      0  \n",
      "\n",
      "[303 rows x 16 columns]\n"
     ]
    }
   ],
   "source": [
    "# 3. One hot encoding of CP_Type\n",
    "one_hot_encoded_data=pd.get_dummies(heart_condition, columns=['CP_Type', 'ECG'])\n",
    "print(one_hot_encoded_data)\n",
    "heart_condition=one_hot_encoded_data"
   ]
  },
  {
   "cell_type": "code",
   "execution_count": 11,
   "id": "62f67433",
   "metadata": {},
   "outputs": [
    {
     "name": "stdout",
     "output_type": "stream",
     "text": [
      "<class 'pandas.core.frame.DataFrame'>\n",
      "RangeIndex: 303 entries, 0 to 302\n",
      "Data columns (total 16 columns):\n",
      " #   Column          Non-Null Count  Dtype   \n",
      "---  ------          --------------  -----   \n",
      " 0   Age             303 non-null    int64   \n",
      " 1   Sex             303 non-null    category\n",
      " 2   BloodPressure   303 non-null    int64   \n",
      " 3   Cholestrol      303 non-null    int64   \n",
      " 4   BloodSugar      303 non-null    category\n",
      " 5   MaxHeartRate    303 non-null    int64   \n",
      " 6   ExerciseAngina  303 non-null    category\n",
      " 7   FamilyHistory   303 non-null    int64   \n",
      " 8   Target          303 non-null    category\n",
      " 9   CP_Type_0       303 non-null    category\n",
      " 10  CP_Type_1       303 non-null    category\n",
      " 11  CP_Type_2       303 non-null    category\n",
      " 12  CP_Type_3       303 non-null    category\n",
      " 13  ECG_0           303 non-null    category\n",
      " 14  ECG_1           303 non-null    category\n",
      " 15  ECG_2           303 non-null    category\n",
      "dtypes: category(11), int64(5)\n",
      "memory usage: 16.5 KB\n"
     ]
    }
   ],
   "source": [
    "heart_condition['CP_Type_0'] = pd.Categorical(heart_condition.CP_Type_0)\n",
    "heart_condition['CP_Type_1'] = pd.Categorical(heart_condition.CP_Type_1)\n",
    "heart_condition['CP_Type_2'] = pd.Categorical(heart_condition.CP_Type_2)\n",
    "heart_condition['CP_Type_3'] = pd.Categorical(heart_condition.CP_Type_3)\n",
    "heart_condition['ECG_0'] = pd.Categorical(heart_condition.ECG_0)\n",
    "heart_condition['ECG_1'] = pd.Categorical(heart_condition.ECG_1)\n",
    "heart_condition['ECG_2'] = pd.Categorical(heart_condition.ECG_2)\n",
    "heart_condition['Target'] = pd.Categorical(heart_condition.Target)\n",
    "heart_condition.drop_duplicates()\n",
    "heart_condition.info()"
   ]
  },
  {
   "cell_type": "markdown",
   "id": "57e45473",
   "metadata": {},
   "source": [
    "# Data Summarization\n",
    "We summarize the normalized data for insights using describe() function, outlier determination, and data aggregation functions"
   ]
  },
  {
   "cell_type": "code",
   "execution_count": 12,
   "id": "aacd7cbb",
   "metadata": {},
   "outputs": [
    {
     "data": {
      "text/html": [
       "<div>\n",
       "<style scoped>\n",
       "    .dataframe tbody tr th:only-of-type {\n",
       "        vertical-align: middle;\n",
       "    }\n",
       "\n",
       "    .dataframe tbody tr th {\n",
       "        vertical-align: top;\n",
       "    }\n",
       "\n",
       "    .dataframe thead th {\n",
       "        text-align: right;\n",
       "    }\n",
       "</style>\n",
       "<table border=\"1\" class=\"dataframe\">\n",
       "  <thead>\n",
       "    <tr style=\"text-align: right;\">\n",
       "      <th></th>\n",
       "      <th>Age</th>\n",
       "      <th>BloodPressure</th>\n",
       "      <th>Cholestrol</th>\n",
       "      <th>MaxHeartRate</th>\n",
       "      <th>FamilyHistory</th>\n",
       "    </tr>\n",
       "  </thead>\n",
       "  <tbody>\n",
       "    <tr>\n",
       "      <th>count</th>\n",
       "      <td>303.000000</td>\n",
       "      <td>303.000000</td>\n",
       "      <td>303.000000</td>\n",
       "      <td>303.000000</td>\n",
       "      <td>303.000000</td>\n",
       "    </tr>\n",
       "    <tr>\n",
       "      <th>mean</th>\n",
       "      <td>54.366337</td>\n",
       "      <td>131.623762</td>\n",
       "      <td>246.264026</td>\n",
       "      <td>149.646865</td>\n",
       "      <td>1.204620</td>\n",
       "    </tr>\n",
       "    <tr>\n",
       "      <th>std</th>\n",
       "      <td>9.082101</td>\n",
       "      <td>17.538143</td>\n",
       "      <td>51.830751</td>\n",
       "      <td>22.905161</td>\n",
       "      <td>1.096825</td>\n",
       "    </tr>\n",
       "    <tr>\n",
       "      <th>min</th>\n",
       "      <td>29.000000</td>\n",
       "      <td>94.000000</td>\n",
       "      <td>126.000000</td>\n",
       "      <td>71.000000</td>\n",
       "      <td>0.000000</td>\n",
       "    </tr>\n",
       "    <tr>\n",
       "      <th>25%</th>\n",
       "      <td>47.500000</td>\n",
       "      <td>120.000000</td>\n",
       "      <td>211.000000</td>\n",
       "      <td>133.500000</td>\n",
       "      <td>0.000000</td>\n",
       "    </tr>\n",
       "    <tr>\n",
       "      <th>50%</th>\n",
       "      <td>55.000000</td>\n",
       "      <td>130.000000</td>\n",
       "      <td>240.000000</td>\n",
       "      <td>153.000000</td>\n",
       "      <td>1.000000</td>\n",
       "    </tr>\n",
       "    <tr>\n",
       "      <th>75%</th>\n",
       "      <td>61.000000</td>\n",
       "      <td>140.000000</td>\n",
       "      <td>274.500000</td>\n",
       "      <td>166.000000</td>\n",
       "      <td>2.000000</td>\n",
       "    </tr>\n",
       "    <tr>\n",
       "      <th>max</th>\n",
       "      <td>77.000000</td>\n",
       "      <td>200.000000</td>\n",
       "      <td>564.000000</td>\n",
       "      <td>202.000000</td>\n",
       "      <td>5.000000</td>\n",
       "    </tr>\n",
       "  </tbody>\n",
       "</table>\n",
       "</div>"
      ],
      "text/plain": [
       "              Age  BloodPressure  Cholestrol  MaxHeartRate  FamilyHistory\n",
       "count  303.000000     303.000000  303.000000    303.000000     303.000000\n",
       "mean    54.366337     131.623762  246.264026    149.646865       1.204620\n",
       "std      9.082101      17.538143   51.830751     22.905161       1.096825\n",
       "min     29.000000      94.000000  126.000000     71.000000       0.000000\n",
       "25%     47.500000     120.000000  211.000000    133.500000       0.000000\n",
       "50%     55.000000     130.000000  240.000000    153.000000       1.000000\n",
       "75%     61.000000     140.000000  274.500000    166.000000       2.000000\n",
       "max     77.000000     200.000000  564.000000    202.000000       5.000000"
      ]
     },
     "execution_count": 12,
     "metadata": {},
     "output_type": "execute_result"
    }
   ],
   "source": [
    "# Summarization of normalized data\n",
    "heart_condition.describe()"
   ]
  },
  {
   "cell_type": "code",
   "execution_count": 13,
   "id": "e5648356",
   "metadata": {},
   "outputs": [
    {
     "name": "stdout",
     "output_type": "stream",
     "text": [
      "Cholestrol IQR = 63.5\n",
      "Values of Cholestrol outside the range ( 115.75 , 306.25 ) are outliers\n",
      "MaxHeartRate IQR = 32.5\n",
      "Values of MaxHeartRate outside the range ( 84.75 , 182.25 ) are outliers\n"
     ]
    }
   ],
   "source": [
    "#Cholestrol Outliers\n",
    "Chol_Q1=heart_condition['Cholestrol'].quantile(0.25)\n",
    "Chol_Q3=heart_condition['Cholestrol'].quantile(0.75)\n",
    "Chol_IQR=Chol_Q3-Chol_Q1\n",
    "print(\"Cholestrol IQR =\",Chol_IQR)\n",
    "Outlier_Low=Chol_Q1-1.5*Chol_IQR\n",
    "Outlier_High=Chol_Q1+1.5*Chol_IQR                                                \n",
    "print(\"Values of Cholestrol outside the range (\",Outlier_Low,\",\",Outlier_High,\") are outliers\")                                                \n",
    "\n",
    "#MaxHeartRate Outliers\n",
    "MHR_Q1=heart_condition['MaxHeartRate'].quantile(0.25)\n",
    "MHR_Q3=heart_condition['MaxHeartRate'].quantile(0.75)\n",
    "MHR_IQR=MHR_Q3-MHR_Q1\n",
    "print(\"MaxHeartRate IQR =\",MHR_IQR)\n",
    "Outlier_Low=MHR_Q1-1.5*MHR_IQR\n",
    "Outlier_High=MHR_Q1+1.5*MHR_IQR                                                \n",
    "print(\"Values of MaxHeartRate outside the range (\",Outlier_Low,\",\",Outlier_High,\") are outliers\")                                 "
   ]
  },
  {
   "cell_type": "code",
   "execution_count": 14,
   "id": "f50145ab",
   "metadata": {},
   "outputs": [
    {
     "data": {
      "text/html": [
       "<div>\n",
       "<style scoped>\n",
       "    .dataframe tbody tr th:only-of-type {\n",
       "        vertical-align: middle;\n",
       "    }\n",
       "\n",
       "    .dataframe tbody tr th {\n",
       "        vertical-align: top;\n",
       "    }\n",
       "\n",
       "    .dataframe thead th {\n",
       "        text-align: right;\n",
       "    }\n",
       "</style>\n",
       "<table border=\"1\" class=\"dataframe\">\n",
       "  <thead>\n",
       "    <tr style=\"text-align: right;\">\n",
       "      <th></th>\n",
       "      <th></th>\n",
       "      <th>Age</th>\n",
       "      <th>BloodPressure</th>\n",
       "      <th>Cholestrol</th>\n",
       "      <th>FamilyHistory</th>\n",
       "      <th>MaxHeartRate</th>\n",
       "    </tr>\n",
       "    <tr>\n",
       "      <th>Sex</th>\n",
       "      <th>Target</th>\n",
       "      <th></th>\n",
       "      <th></th>\n",
       "      <th></th>\n",
       "      <th></th>\n",
       "      <th></th>\n",
       "    </tr>\n",
       "  </thead>\n",
       "  <tbody>\n",
       "    <tr>\n",
       "      <th rowspan=\"2\" valign=\"top\">0</th>\n",
       "      <th>0</th>\n",
       "      <td>59.041667</td>\n",
       "      <td>146.125000</td>\n",
       "      <td>274.958333</td>\n",
       "      <td>1.041667</td>\n",
       "      <td>142.416667</td>\n",
       "    </tr>\n",
       "    <tr>\n",
       "      <th>1</th>\n",
       "      <td>54.555556</td>\n",
       "      <td>128.736111</td>\n",
       "      <td>256.750000</td>\n",
       "      <td>1.277778</td>\n",
       "      <td>154.027778</td>\n",
       "    </tr>\n",
       "    <tr>\n",
       "      <th rowspan=\"2\" valign=\"top\">1</th>\n",
       "      <th>0</th>\n",
       "      <td>56.087719</td>\n",
       "      <td>131.929825</td>\n",
       "      <td>246.061404</td>\n",
       "      <td>1.280702</td>\n",
       "      <td>138.403509</td>\n",
       "    </tr>\n",
       "    <tr>\n",
       "      <th>1</th>\n",
       "      <td>50.903226</td>\n",
       "      <td>129.741935</td>\n",
       "      <td>230.989247</td>\n",
       "      <td>1.096774</td>\n",
       "      <td>161.903226</td>\n",
       "    </tr>\n",
       "  </tbody>\n",
       "</table>\n",
       "</div>"
      ],
      "text/plain": [
       "                  Age  BloodPressure  Cholestrol  FamilyHistory  MaxHeartRate\n",
       "Sex Target                                                                   \n",
       "0   0       59.041667     146.125000  274.958333       1.041667    142.416667\n",
       "    1       54.555556     128.736111  256.750000       1.277778    154.027778\n",
       "1   0       56.087719     131.929825  246.061404       1.280702    138.403509\n",
       "    1       50.903226     129.741935  230.989247       1.096774    161.903226"
      ]
     },
     "execution_count": 14,
     "metadata": {},
     "output_type": "execute_result"
    }
   ],
   "source": [
    "# Multi-index pivot table\n",
    "table=pd.pivot_table(heart_condition,index=['Sex', 'Target'])\n",
    "table"
   ]
  },
  {
   "cell_type": "markdown",
   "id": "d327678c",
   "metadata": {},
   "source": [
    "## Observations from summarized data\n",
    "1. There are no null values in the dataset.\n",
    "2. The average age of subjects is 54 years, minimum age is 29 years and maximum age is 77 years.\n",
    "3. There is a large variance of Cholestrol values of subjects, as maximum is 564 and minimum is 126. \n",
    "4. The mean Cholestrol value is 246.26 units, while the standard deviation Cholestrol value is 51.83 units.\n",
    "5. IQR for Cholestrol is 63.5 units. Values of Cholestrol outside the range (115.75, 306.25) are outliers.\n",
    "6. IQR for MaxHeartRate is 32.5 bpm. Values of MaxHeartRate outside the range (84.75, 182.25) are outliers."
   ]
  },
  {
   "cell_type": "markdown",
   "id": "aaf952c5",
   "metadata": {},
   "source": [
    "# Attribute selection for model building\n",
    "Identification of relevant, irrelevant attributes for building model"
   ]
  },
  {
   "cell_type": "code",
   "execution_count": 15,
   "id": "26bf32b8",
   "metadata": {},
   "outputs": [
    {
     "name": "stdout",
     "output_type": "stream",
     "text": [
      "<class 'pandas.core.frame.DataFrame'>\n",
      "RangeIndex: 303 entries, 0 to 302\n",
      "Data columns (total 16 columns):\n",
      " #   Column          Non-Null Count  Dtype   \n",
      "---  ------          --------------  -----   \n",
      " 0   Age             303 non-null    int64   \n",
      " 1   Sex             303 non-null    category\n",
      " 2   BloodPressure   303 non-null    int64   \n",
      " 3   Cholestrol      303 non-null    int64   \n",
      " 4   BloodSugar      303 non-null    category\n",
      " 5   MaxHeartRate    303 non-null    int64   \n",
      " 6   ExerciseAngina  303 non-null    category\n",
      " 7   FamilyHistory   303 non-null    int64   \n",
      " 8   Target          303 non-null    category\n",
      " 9   CP_Type_0       303 non-null    category\n",
      " 10  CP_Type_1       303 non-null    category\n",
      " 11  CP_Type_2       303 non-null    category\n",
      " 12  CP_Type_3       303 non-null    category\n",
      " 13  ECG_0           303 non-null    category\n",
      " 14  ECG_1           303 non-null    category\n",
      " 15  ECG_2           303 non-null    category\n",
      "dtypes: category(11), int64(5)\n",
      "memory usage: 16.5 KB\n"
     ]
    }
   ],
   "source": [
    "heart_condition.info()"
   ]
  },
  {
   "cell_type": "markdown",
   "id": "1c434ec3",
   "metadata": {},
   "source": [
    "## For numerical features and categorical output (Target), we use ANOVA. \n",
    "The numerical features include:\n",
    "1. Age\n",
    "2. BloodPressure\n",
    "3. Cholestrol\n",
    "4. MaxHeartRate\n",
    "5. FamilyHistory"
   ]
  },
  {
   "cell_type": "code",
   "execution_count": 16,
   "id": "414aec9f",
   "metadata": {},
   "outputs": [
    {
     "name": "stdout",
     "output_type": "stream",
     "text": [
      "<class 'pandas.core.frame.DataFrame'>\n",
      "RangeIndex: 303 entries, 0 to 302\n",
      "Data columns (total 16 columns):\n",
      " #   Column          Non-Null Count  Dtype   \n",
      "---  ------          --------------  -----   \n",
      " 0   Age             303 non-null    int64   \n",
      " 1   Sex             303 non-null    category\n",
      " 2   BloodPressure   303 non-null    int64   \n",
      " 3   Cholestrol      303 non-null    int64   \n",
      " 4   BloodSugar      303 non-null    category\n",
      " 5   MaxHeartRate    303 non-null    int64   \n",
      " 6   ExerciseAngina  303 non-null    category\n",
      " 7   FamilyHistory   303 non-null    int64   \n",
      " 8   Target          303 non-null    object  \n",
      " 9   CP_Type_0       303 non-null    category\n",
      " 10  CP_Type_1       303 non-null    category\n",
      " 11  CP_Type_2       303 non-null    category\n",
      " 12  CP_Type_3       303 non-null    category\n",
      " 13  ECG_0           303 non-null    category\n",
      " 14  ECG_1           303 non-null    category\n",
      " 15  ECG_2           303 non-null    category\n",
      "dtypes: category(10), int64(5), object(1)\n",
      "memory usage: 18.5+ KB\n"
     ]
    }
   ],
   "source": [
    "#ANOVA for numerical features vs Target:\n",
    "import researchpy as rp\n",
    "heart_condition['Target'].replace({0: 'LESS CHANCE', 1: 'MORE CHANCE'}, inplace= True)\n",
    "heart_condition.info()"
   ]
  },
  {
   "cell_type": "code",
   "execution_count": 17,
   "id": "9d0ab536",
   "metadata": {},
   "outputs": [
    {
     "name": "stdout",
     "output_type": "stream",
     "text": [
      "\n",
      "\n"
     ]
    },
    {
     "data": {
      "text/html": [
       "<div>\n",
       "<style scoped>\n",
       "    .dataframe tbody tr th:only-of-type {\n",
       "        vertical-align: middle;\n",
       "    }\n",
       "\n",
       "    .dataframe tbody tr th {\n",
       "        vertical-align: top;\n",
       "    }\n",
       "\n",
       "    .dataframe thead th {\n",
       "        text-align: right;\n",
       "    }\n",
       "</style>\n",
       "<table border=\"1\" class=\"dataframe\">\n",
       "  <thead>\n",
       "    <tr style=\"text-align: right;\">\n",
       "      <th></th>\n",
       "      <th>Variable</th>\n",
       "      <th>N</th>\n",
       "      <th>Mean</th>\n",
       "      <th>SD</th>\n",
       "      <th>SE</th>\n",
       "      <th>95% Conf.</th>\n",
       "      <th>Interval</th>\n",
       "    </tr>\n",
       "  </thead>\n",
       "  <tbody>\n",
       "    <tr>\n",
       "      <th>0</th>\n",
       "      <td>Age</td>\n",
       "      <td>303.0</td>\n",
       "      <td>54.3663</td>\n",
       "      <td>9.0821</td>\n",
       "      <td>0.5218</td>\n",
       "      <td>53.3396</td>\n",
       "      <td>55.3931</td>\n",
       "    </tr>\n",
       "  </tbody>\n",
       "</table>\n",
       "</div>"
      ],
      "text/plain": [
       "  Variable      N     Mean      SD      SE  95% Conf.  Interval\n",
       "0      Age  303.0  54.3663  9.0821  0.5218    53.3396   55.3931"
      ]
     },
     "execution_count": 17,
     "metadata": {},
     "output_type": "execute_result"
    }
   ],
   "source": [
    "rp.summary_cont(heart_condition['Age'])"
   ]
  },
  {
   "cell_type": "code",
   "execution_count": 18,
   "id": "1c73d8fa",
   "metadata": {},
   "outputs": [
    {
     "name": "stdout",
     "output_type": "stream",
     "text": [
      "\n",
      "\n"
     ]
    },
    {
     "data": {
      "text/html": [
       "<div>\n",
       "<style scoped>\n",
       "    .dataframe tbody tr th:only-of-type {\n",
       "        vertical-align: middle;\n",
       "    }\n",
       "\n",
       "    .dataframe tbody tr th {\n",
       "        vertical-align: top;\n",
       "    }\n",
       "\n",
       "    .dataframe thead th {\n",
       "        text-align: right;\n",
       "    }\n",
       "</style>\n",
       "<table border=\"1\" class=\"dataframe\">\n",
       "  <thead>\n",
       "    <tr style=\"text-align: right;\">\n",
       "      <th></th>\n",
       "      <th>N</th>\n",
       "      <th>Mean</th>\n",
       "      <th>SD</th>\n",
       "      <th>SE</th>\n",
       "      <th>95% Conf.</th>\n",
       "      <th>Interval</th>\n",
       "    </tr>\n",
       "    <tr>\n",
       "      <th>Target</th>\n",
       "      <th></th>\n",
       "      <th></th>\n",
       "      <th></th>\n",
       "      <th></th>\n",
       "      <th></th>\n",
       "      <th></th>\n",
       "    </tr>\n",
       "  </thead>\n",
       "  <tbody>\n",
       "    <tr>\n",
       "      <th>LESS CHANCE</th>\n",
       "      <td>138</td>\n",
       "      <td>56.6014</td>\n",
       "      <td>7.9621</td>\n",
       "      <td>0.6778</td>\n",
       "      <td>55.2612</td>\n",
       "      <td>57.9417</td>\n",
       "    </tr>\n",
       "    <tr>\n",
       "      <th>MORE CHANCE</th>\n",
       "      <td>165</td>\n",
       "      <td>52.4970</td>\n",
       "      <td>9.5507</td>\n",
       "      <td>0.7435</td>\n",
       "      <td>51.0289</td>\n",
       "      <td>53.9651</td>\n",
       "    </tr>\n",
       "  </tbody>\n",
       "</table>\n",
       "</div>"
      ],
      "text/plain": [
       "               N     Mean      SD      SE  95% Conf.  Interval\n",
       "Target                                                        \n",
       "LESS CHANCE  138  56.6014  7.9621  0.6778    55.2612   57.9417\n",
       "MORE CHANCE  165  52.4970  9.5507  0.7435    51.0289   53.9651"
      ]
     },
     "execution_count": 18,
     "metadata": {},
     "output_type": "execute_result"
    }
   ],
   "source": [
    "rp.summary_cont(heart_condition['Age'].groupby(heart_condition['Target']))"
   ]
  },
  {
   "cell_type": "code",
   "execution_count": 19,
   "id": "4aa4e88d",
   "metadata": {},
   "outputs": [
    {
     "data": {
      "text/plain": [
       "F_onewayResult(statistic=16.116699823188288, pvalue=7.524801303442268e-05)"
      ]
     },
     "execution_count": 19,
     "metadata": {},
     "output_type": "execute_result"
    }
   ],
   "source": [
    "import scipy.stats as stats\n",
    "\n",
    "stats.f_oneway(heart_condition['Age'][heart_condition['Target'] == 'LESS CHANCE'],\n",
    "               heart_condition['Age'][heart_condition['Target'] == 'MORE CHANCE'])"
   ]
  },
  {
   "cell_type": "markdown",
   "id": "b39040cf",
   "metadata": {},
   "source": [
    "### Age is a relevant attribute\n",
    "Hypothesis\n",
    "H0: Means of both distributions (less chance/more chance of heart attack) are same; \n",
    "H1: Means of both distributions (less chance/more chance of heart attack) are significantly different\n",
    "\n",
    "As p-value is less than 0.05 (for 95% confidence), H0 is rejected and H1 is accepted.\n",
    "There is a statistically significant difference between the groups (less chance/more chance of heart attack) and their effects due to the variable age as, F= 16.116699823188288, pvalue=7.524801303442268e-05.\n",
    "\n",
    "Thus, age is a relevant attribute."
   ]
  },
  {
   "cell_type": "code",
   "execution_count": 20,
   "id": "fe655bb2",
   "metadata": {},
   "outputs": [
    {
     "name": "stdout",
     "output_type": "stream",
     "text": [
      "\n",
      "\n"
     ]
    },
    {
     "data": {
      "text/html": [
       "<div>\n",
       "<style scoped>\n",
       "    .dataframe tbody tr th:only-of-type {\n",
       "        vertical-align: middle;\n",
       "    }\n",
       "\n",
       "    .dataframe tbody tr th {\n",
       "        vertical-align: top;\n",
       "    }\n",
       "\n",
       "    .dataframe thead th {\n",
       "        text-align: right;\n",
       "    }\n",
       "</style>\n",
       "<table border=\"1\" class=\"dataframe\">\n",
       "  <thead>\n",
       "    <tr style=\"text-align: right;\">\n",
       "      <th></th>\n",
       "      <th>Variable</th>\n",
       "      <th>N</th>\n",
       "      <th>Mean</th>\n",
       "      <th>SD</th>\n",
       "      <th>SE</th>\n",
       "      <th>95% Conf.</th>\n",
       "      <th>Interval</th>\n",
       "    </tr>\n",
       "  </thead>\n",
       "  <tbody>\n",
       "    <tr>\n",
       "      <th>0</th>\n",
       "      <td>BloodPressure</td>\n",
       "      <td>303.0</td>\n",
       "      <td>131.6238</td>\n",
       "      <td>17.5381</td>\n",
       "      <td>1.0075</td>\n",
       "      <td>129.6411</td>\n",
       "      <td>133.6065</td>\n",
       "    </tr>\n",
       "  </tbody>\n",
       "</table>\n",
       "</div>"
      ],
      "text/plain": [
       "        Variable      N      Mean       SD      SE  95% Conf.  Interval\n",
       "0  BloodPressure  303.0  131.6238  17.5381  1.0075   129.6411  133.6065"
      ]
     },
     "execution_count": 20,
     "metadata": {},
     "output_type": "execute_result"
    }
   ],
   "source": [
    "rp.summary_cont(heart_condition['BloodPressure'])"
   ]
  },
  {
   "cell_type": "code",
   "execution_count": 23,
   "id": "3a620fbe",
   "metadata": {},
   "outputs": [
    {
     "name": "stdout",
     "output_type": "stream",
     "text": [
      "\n",
      "\n"
     ]
    },
    {
     "data": {
      "text/html": [
       "<div>\n",
       "<style scoped>\n",
       "    .dataframe tbody tr th:only-of-type {\n",
       "        vertical-align: middle;\n",
       "    }\n",
       "\n",
       "    .dataframe tbody tr th {\n",
       "        vertical-align: top;\n",
       "    }\n",
       "\n",
       "    .dataframe thead th {\n",
       "        text-align: right;\n",
       "    }\n",
       "</style>\n",
       "<table border=\"1\" class=\"dataframe\">\n",
       "  <thead>\n",
       "    <tr style=\"text-align: right;\">\n",
       "      <th></th>\n",
       "      <th>N</th>\n",
       "      <th>Mean</th>\n",
       "      <th>SD</th>\n",
       "      <th>SE</th>\n",
       "      <th>95% Conf.</th>\n",
       "      <th>Interval</th>\n",
       "    </tr>\n",
       "    <tr>\n",
       "      <th>Target</th>\n",
       "      <th></th>\n",
       "      <th></th>\n",
       "      <th></th>\n",
       "      <th></th>\n",
       "      <th></th>\n",
       "      <th></th>\n",
       "    </tr>\n",
       "  </thead>\n",
       "  <tbody>\n",
       "    <tr>\n",
       "      <th>LESS CHANCE</th>\n",
       "      <td>138</td>\n",
       "      <td>134.3986</td>\n",
       "      <td>18.7299</td>\n",
       "      <td>1.5944</td>\n",
       "      <td>131.2457</td>\n",
       "      <td>137.5514</td>\n",
       "    </tr>\n",
       "    <tr>\n",
       "      <th>MORE CHANCE</th>\n",
       "      <td>165</td>\n",
       "      <td>129.3030</td>\n",
       "      <td>16.1696</td>\n",
       "      <td>1.2588</td>\n",
       "      <td>126.8175</td>\n",
       "      <td>131.7886</td>\n",
       "    </tr>\n",
       "  </tbody>\n",
       "</table>\n",
       "</div>"
      ],
      "text/plain": [
       "               N      Mean       SD      SE  95% Conf.  Interval\n",
       "Target                                                          \n",
       "LESS CHANCE  138  134.3986  18.7299  1.5944   131.2457  137.5514\n",
       "MORE CHANCE  165  129.3030  16.1696  1.2588   126.8175  131.7886"
      ]
     },
     "execution_count": 23,
     "metadata": {},
     "output_type": "execute_result"
    }
   ],
   "source": [
    "rp.summary_cont(heart_condition['BloodPressure'].groupby(heart_condition['Target']))"
   ]
  },
  {
   "cell_type": "code",
   "execution_count": 21,
   "id": "66b6c3f2",
   "metadata": {},
   "outputs": [
    {
     "data": {
      "text/plain": [
       "F_onewayResult(statistic=6.458168674005333, pvalue=0.011546059200233376)"
      ]
     },
     "execution_count": 21,
     "metadata": {},
     "output_type": "execute_result"
    }
   ],
   "source": [
    "stats.f_oneway(heart_condition['BloodPressure'][heart_condition['Target'] == 'LESS CHANCE'],\n",
    "               heart_condition['BloodPressure'][heart_condition['Target'] == 'MORE CHANCE'])"
   ]
  },
  {
   "cell_type": "markdown",
   "id": "0e95815a",
   "metadata": {},
   "source": [
    "### BloodPressure is a relevant attribute\n",
    "Hypothesis H0: Means of both distributions (less chance/more chance of heart attack) are same; \n",
    "H1: Means of both distributions (less chance/more chance of heart attack) are significantly different\n",
    "\n",
    "As p-value is less than 0.05 (for 95% confidence), H0 is rejected and H1 is accepted.\n",
    "There is a statistically significant difference between the groups (less chance/more chance of heart attack) and their effects due to the variable BloodPressure as, F= 6.458168674005333, pvalue=0.011546059200233376.\n",
    "\n",
    "Thus, BloodPressure is a relevant attribute."
   ]
  },
  {
   "cell_type": "code",
   "execution_count": 22,
   "id": "4eebe74d",
   "metadata": {},
   "outputs": [
    {
     "name": "stdout",
     "output_type": "stream",
     "text": [
      "\n",
      "\n"
     ]
    },
    {
     "data": {
      "text/html": [
       "<div>\n",
       "<style scoped>\n",
       "    .dataframe tbody tr th:only-of-type {\n",
       "        vertical-align: middle;\n",
       "    }\n",
       "\n",
       "    .dataframe tbody tr th {\n",
       "        vertical-align: top;\n",
       "    }\n",
       "\n",
       "    .dataframe thead th {\n",
       "        text-align: right;\n",
       "    }\n",
       "</style>\n",
       "<table border=\"1\" class=\"dataframe\">\n",
       "  <thead>\n",
       "    <tr style=\"text-align: right;\">\n",
       "      <th></th>\n",
       "      <th>Variable</th>\n",
       "      <th>N</th>\n",
       "      <th>Mean</th>\n",
       "      <th>SD</th>\n",
       "      <th>SE</th>\n",
       "      <th>95% Conf.</th>\n",
       "      <th>Interval</th>\n",
       "    </tr>\n",
       "  </thead>\n",
       "  <tbody>\n",
       "    <tr>\n",
       "      <th>0</th>\n",
       "      <td>Cholestrol</td>\n",
       "      <td>303.0</td>\n",
       "      <td>246.264</td>\n",
       "      <td>51.8308</td>\n",
       "      <td>2.9776</td>\n",
       "      <td>240.4046</td>\n",
       "      <td>252.1235</td>\n",
       "    </tr>\n",
       "  </tbody>\n",
       "</table>\n",
       "</div>"
      ],
      "text/plain": [
       "     Variable      N     Mean       SD      SE  95% Conf.  Interval\n",
       "0  Cholestrol  303.0  246.264  51.8308  2.9776   240.4046  252.1235"
      ]
     },
     "execution_count": 22,
     "metadata": {},
     "output_type": "execute_result"
    }
   ],
   "source": [
    "rp.summary_cont(heart_condition['Cholestrol'])"
   ]
  },
  {
   "cell_type": "code",
   "execution_count": 24,
   "id": "b0a21ef4",
   "metadata": {},
   "outputs": [
    {
     "name": "stdout",
     "output_type": "stream",
     "text": [
      "\n",
      "\n"
     ]
    },
    {
     "data": {
      "text/html": [
       "<div>\n",
       "<style scoped>\n",
       "    .dataframe tbody tr th:only-of-type {\n",
       "        vertical-align: middle;\n",
       "    }\n",
       "\n",
       "    .dataframe tbody tr th {\n",
       "        vertical-align: top;\n",
       "    }\n",
       "\n",
       "    .dataframe thead th {\n",
       "        text-align: right;\n",
       "    }\n",
       "</style>\n",
       "<table border=\"1\" class=\"dataframe\">\n",
       "  <thead>\n",
       "    <tr style=\"text-align: right;\">\n",
       "      <th></th>\n",
       "      <th>N</th>\n",
       "      <th>Mean</th>\n",
       "      <th>SD</th>\n",
       "      <th>SE</th>\n",
       "      <th>95% Conf.</th>\n",
       "      <th>Interval</th>\n",
       "    </tr>\n",
       "    <tr>\n",
       "      <th>Target</th>\n",
       "      <th></th>\n",
       "      <th></th>\n",
       "      <th></th>\n",
       "      <th></th>\n",
       "      <th></th>\n",
       "      <th></th>\n",
       "    </tr>\n",
       "  </thead>\n",
       "  <tbody>\n",
       "    <tr>\n",
       "      <th>LESS CHANCE</th>\n",
       "      <td>138</td>\n",
       "      <td>251.0870</td>\n",
       "      <td>49.4546</td>\n",
       "      <td>4.2099</td>\n",
       "      <td>242.7623</td>\n",
       "      <td>259.4117</td>\n",
       "    </tr>\n",
       "    <tr>\n",
       "      <th>MORE CHANCE</th>\n",
       "      <td>165</td>\n",
       "      <td>242.2303</td>\n",
       "      <td>53.5529</td>\n",
       "      <td>4.1691</td>\n",
       "      <td>233.9983</td>\n",
       "      <td>250.4623</td>\n",
       "    </tr>\n",
       "  </tbody>\n",
       "</table>\n",
       "</div>"
      ],
      "text/plain": [
       "               N      Mean       SD      SE  95% Conf.  Interval\n",
       "Target                                                          \n",
       "LESS CHANCE  138  251.0870  49.4546  4.2099   242.7623  259.4117\n",
       "MORE CHANCE  165  242.2303  53.5529  4.1691   233.9983  250.4623"
      ]
     },
     "execution_count": 24,
     "metadata": {},
     "output_type": "execute_result"
    }
   ],
   "source": [
    "rp.summary_cont(heart_condition['Cholestrol'].groupby(heart_condition['Target']))"
   ]
  },
  {
   "cell_type": "code",
   "execution_count": 25,
   "id": "e50fbe4e",
   "metadata": {},
   "outputs": [
    {
     "data": {
      "text/plain": [
       "F_onewayResult(statistic=2.2029834463803746, pvalue=0.1387903269560108)"
      ]
     },
     "execution_count": 25,
     "metadata": {},
     "output_type": "execute_result"
    }
   ],
   "source": [
    "stats.f_oneway(heart_condition['Cholestrol'][heart_condition['Target'] == 'LESS CHANCE'],\n",
    "               heart_condition['Cholestrol'][heart_condition['Target'] == 'MORE CHANCE'])"
   ]
  },
  {
   "cell_type": "markdown",
   "id": "0bc29a28",
   "metadata": {},
   "source": [
    "### Cholestrol is an irrelevant attribute\n",
    "Hypothesis \n",
    "H0: Means of both distributions (less chance/more chance of heart attack) are same; \n",
    "H1: Means of both distributions (less chance/more chance of heart attack) are significantly different\n",
    "\n",
    "As p-value is greater than 0.05 (for 95% confidence), H0 is accepted and H1 is rejected. There is no statistically significant difference between the groups (less chance/more chance of heart attack) and their effects due to the variable cholestrol as, F= 2.2029834463803746, pvalue=0.1387903269560108.\n",
    "\n",
    "Thus, Cholestrol is an irrelevant attribute."
   ]
  },
  {
   "cell_type": "code",
   "execution_count": 189,
   "id": "3752a885",
   "metadata": {},
   "outputs": [
    {
     "name": "stdout",
     "output_type": "stream",
     "text": [
      "\n",
      "\n"
     ]
    },
    {
     "data": {
      "text/html": [
       "<div>\n",
       "<style scoped>\n",
       "    .dataframe tbody tr th:only-of-type {\n",
       "        vertical-align: middle;\n",
       "    }\n",
       "\n",
       "    .dataframe tbody tr th {\n",
       "        vertical-align: top;\n",
       "    }\n",
       "\n",
       "    .dataframe thead th {\n",
       "        text-align: right;\n",
       "    }\n",
       "</style>\n",
       "<table border=\"1\" class=\"dataframe\">\n",
       "  <thead>\n",
       "    <tr style=\"text-align: right;\">\n",
       "      <th></th>\n",
       "      <th>Variable</th>\n",
       "      <th>N</th>\n",
       "      <th>Mean</th>\n",
       "      <th>SD</th>\n",
       "      <th>SE</th>\n",
       "      <th>95% Conf.</th>\n",
       "      <th>Interval</th>\n",
       "    </tr>\n",
       "  </thead>\n",
       "  <tbody>\n",
       "    <tr>\n",
       "      <th>0</th>\n",
       "      <td>MaxHeartRate</td>\n",
       "      <td>303.0</td>\n",
       "      <td>149.6469</td>\n",
       "      <td>22.9052</td>\n",
       "      <td>1.3159</td>\n",
       "      <td>147.0574</td>\n",
       "      <td>152.2363</td>\n",
       "    </tr>\n",
       "  </tbody>\n",
       "</table>\n",
       "</div>"
      ],
      "text/plain": [
       "       Variable      N      Mean       SD      SE  95% Conf.  Interval\n",
       "0  MaxHeartRate  303.0  149.6469  22.9052  1.3159   147.0574  152.2363"
      ]
     },
     "execution_count": 189,
     "metadata": {},
     "output_type": "execute_result"
    }
   ],
   "source": [
    "rp.summary_cont(heart_condition['MaxHeartRate'])"
   ]
  },
  {
   "cell_type": "code",
   "execution_count": 26,
   "id": "e3e78e90",
   "metadata": {},
   "outputs": [
    {
     "name": "stdout",
     "output_type": "stream",
     "text": [
      "\n",
      "\n"
     ]
    },
    {
     "data": {
      "text/html": [
       "<div>\n",
       "<style scoped>\n",
       "    .dataframe tbody tr th:only-of-type {\n",
       "        vertical-align: middle;\n",
       "    }\n",
       "\n",
       "    .dataframe tbody tr th {\n",
       "        vertical-align: top;\n",
       "    }\n",
       "\n",
       "    .dataframe thead th {\n",
       "        text-align: right;\n",
       "    }\n",
       "</style>\n",
       "<table border=\"1\" class=\"dataframe\">\n",
       "  <thead>\n",
       "    <tr style=\"text-align: right;\">\n",
       "      <th></th>\n",
       "      <th>N</th>\n",
       "      <th>Mean</th>\n",
       "      <th>SD</th>\n",
       "      <th>SE</th>\n",
       "      <th>95% Conf.</th>\n",
       "      <th>Interval</th>\n",
       "    </tr>\n",
       "    <tr>\n",
       "      <th>Target</th>\n",
       "      <th></th>\n",
       "      <th></th>\n",
       "      <th></th>\n",
       "      <th></th>\n",
       "      <th></th>\n",
       "      <th></th>\n",
       "    </tr>\n",
       "  </thead>\n",
       "  <tbody>\n",
       "    <tr>\n",
       "      <th>LESS CHANCE</th>\n",
       "      <td>138</td>\n",
       "      <td>139.1014</td>\n",
       "      <td>22.5988</td>\n",
       "      <td>1.9237</td>\n",
       "      <td>135.2974</td>\n",
       "      <td>142.9055</td>\n",
       "    </tr>\n",
       "    <tr>\n",
       "      <th>MORE CHANCE</th>\n",
       "      <td>165</td>\n",
       "      <td>158.4667</td>\n",
       "      <td>19.1743</td>\n",
       "      <td>1.4927</td>\n",
       "      <td>155.5192</td>\n",
       "      <td>161.4141</td>\n",
       "    </tr>\n",
       "  </tbody>\n",
       "</table>\n",
       "</div>"
      ],
      "text/plain": [
       "               N      Mean       SD      SE  95% Conf.  Interval\n",
       "Target                                                          \n",
       "LESS CHANCE  138  139.1014  22.5988  1.9237   135.2974  142.9055\n",
       "MORE CHANCE  165  158.4667  19.1743  1.4927   155.5192  161.4141"
      ]
     },
     "execution_count": 26,
     "metadata": {},
     "output_type": "execute_result"
    }
   ],
   "source": [
    "rp.summary_cont(heart_condition['MaxHeartRate'].groupby(heart_condition['Target']))"
   ]
  },
  {
   "cell_type": "code",
   "execution_count": 190,
   "id": "df8224ca",
   "metadata": {},
   "outputs": [
    {
     "data": {
      "text/plain": [
       "F_onewayResult(statistic=65.12010440125097, pvalue=1.6973376386560805e-14)"
      ]
     },
     "execution_count": 190,
     "metadata": {},
     "output_type": "execute_result"
    }
   ],
   "source": [
    "stats.f_oneway(heart_condition['MaxHeartRate'][heart_condition['Target'] == 'LESS CHANCE'],\n",
    "               heart_condition['MaxHeartRate'][heart_condition['Target'] == 'MORE CHANCE'])"
   ]
  },
  {
   "cell_type": "markdown",
   "id": "76ea841d",
   "metadata": {},
   "source": [
    "### MaxHeartRate is a relevant attribute\n",
    "Hypothesis \n",
    "H0: Means of both distributions (less chance/more chance of heart attack) are same; \n",
    "H1: Means of both distributions (less chance/more chance of heart attack) are significantly different\n",
    "\n",
    "As p-value is less than 0.05 (for 95% confidence), H0 is accepted and H1 is rejected. There is statistically significant difference between the groups (less chance/more chance of heart attack) and their effects due to the variable MaxHeartRate as, F= 65.12010440125097, pvalue=1.6973376386560805e-14.\n",
    "\n",
    "Thus, MaxHeartRate is a relevant attribute."
   ]
  },
  {
   "cell_type": "code",
   "execution_count": 191,
   "id": "6ead7094",
   "metadata": {},
   "outputs": [
    {
     "name": "stdout",
     "output_type": "stream",
     "text": [
      "\n",
      "\n"
     ]
    },
    {
     "data": {
      "text/html": [
       "<div>\n",
       "<style scoped>\n",
       "    .dataframe tbody tr th:only-of-type {\n",
       "        vertical-align: middle;\n",
       "    }\n",
       "\n",
       "    .dataframe tbody tr th {\n",
       "        vertical-align: top;\n",
       "    }\n",
       "\n",
       "    .dataframe thead th {\n",
       "        text-align: right;\n",
       "    }\n",
       "</style>\n",
       "<table border=\"1\" class=\"dataframe\">\n",
       "  <thead>\n",
       "    <tr style=\"text-align: right;\">\n",
       "      <th></th>\n",
       "      <th>Variable</th>\n",
       "      <th>N</th>\n",
       "      <th>Mean</th>\n",
       "      <th>SD</th>\n",
       "      <th>SE</th>\n",
       "      <th>95% Conf.</th>\n",
       "      <th>Interval</th>\n",
       "    </tr>\n",
       "  </thead>\n",
       "  <tbody>\n",
       "    <tr>\n",
       "      <th>0</th>\n",
       "      <td>FamilyHistory</td>\n",
       "      <td>303.0</td>\n",
       "      <td>1.2046</td>\n",
       "      <td>1.0968</td>\n",
       "      <td>0.063</td>\n",
       "      <td>1.0806</td>\n",
       "      <td>1.3286</td>\n",
       "    </tr>\n",
       "  </tbody>\n",
       "</table>\n",
       "</div>"
      ],
      "text/plain": [
       "        Variable      N    Mean      SD     SE  95% Conf.  Interval\n",
       "0  FamilyHistory  303.0  1.2046  1.0968  0.063     1.0806    1.3286"
      ]
     },
     "execution_count": 191,
     "metadata": {},
     "output_type": "execute_result"
    }
   ],
   "source": [
    "rp.summary_cont(heart_condition['FamilyHistory'])"
   ]
  },
  {
   "cell_type": "code",
   "execution_count": 27,
   "id": "a442715c",
   "metadata": {},
   "outputs": [
    {
     "name": "stdout",
     "output_type": "stream",
     "text": [
      "\n",
      "\n"
     ]
    },
    {
     "data": {
      "text/html": [
       "<div>\n",
       "<style scoped>\n",
       "    .dataframe tbody tr th:only-of-type {\n",
       "        vertical-align: middle;\n",
       "    }\n",
       "\n",
       "    .dataframe tbody tr th {\n",
       "        vertical-align: top;\n",
       "    }\n",
       "\n",
       "    .dataframe thead th {\n",
       "        text-align: right;\n",
       "    }\n",
       "</style>\n",
       "<table border=\"1\" class=\"dataframe\">\n",
       "  <thead>\n",
       "    <tr style=\"text-align: right;\">\n",
       "      <th></th>\n",
       "      <th>N</th>\n",
       "      <th>Mean</th>\n",
       "      <th>SD</th>\n",
       "      <th>SE</th>\n",
       "      <th>95% Conf.</th>\n",
       "      <th>Interval</th>\n",
       "    </tr>\n",
       "    <tr>\n",
       "      <th>Target</th>\n",
       "      <th></th>\n",
       "      <th></th>\n",
       "      <th></th>\n",
       "      <th></th>\n",
       "      <th></th>\n",
       "      <th></th>\n",
       "    </tr>\n",
       "  </thead>\n",
       "  <tbody>\n",
       "    <tr>\n",
       "      <th>LESS CHANCE</th>\n",
       "      <td>138</td>\n",
       "      <td>1.2391</td>\n",
       "      <td>1.1498</td>\n",
       "      <td>0.0979</td>\n",
       "      <td>1.0456</td>\n",
       "      <td>1.4327</td>\n",
       "    </tr>\n",
       "    <tr>\n",
       "      <th>MORE CHANCE</th>\n",
       "      <td>165</td>\n",
       "      <td>1.1758</td>\n",
       "      <td>1.0532</td>\n",
       "      <td>0.0820</td>\n",
       "      <td>1.0139</td>\n",
       "      <td>1.3376</td>\n",
       "    </tr>\n",
       "  </tbody>\n",
       "</table>\n",
       "</div>"
      ],
      "text/plain": [
       "               N    Mean      SD      SE  95% Conf.  Interval\n",
       "Target                                                       \n",
       "LESS CHANCE  138  1.2391  1.1498  0.0979     1.0456    1.4327\n",
       "MORE CHANCE  165  1.1758  1.0532  0.0820     1.0139    1.3376"
      ]
     },
     "execution_count": 27,
     "metadata": {},
     "output_type": "execute_result"
    }
   ],
   "source": [
    "rp.summary_cont(heart_condition['FamilyHistory'].groupby(heart_condition['Target']))"
   ]
  },
  {
   "cell_type": "code",
   "execution_count": 192,
   "id": "53d75313",
   "metadata": {},
   "outputs": [
    {
     "data": {
      "text/plain": [
       "F_onewayResult(statistic=0.25024928475305025, pvalue=0.6172651404419242)"
      ]
     },
     "execution_count": 192,
     "metadata": {},
     "output_type": "execute_result"
    }
   ],
   "source": [
    "stats.f_oneway(heart_condition['FamilyHistory'][heart_condition['Target'] == 'LESS CHANCE'],\n",
    "               heart_condition['FamilyHistory'][heart_condition['Target'] == 'MORE CHANCE'])"
   ]
  },
  {
   "cell_type": "markdown",
   "id": "0b677502",
   "metadata": {},
   "source": [
    "### FamilyHistory is an irrelevant attribute\n",
    "Hypothesis\n",
    "H0: Means of both distributions (less chance/more chance of heart attack) are same;\n",
    "H1: Means of both distributions (less chance/more chance of heart attack) are significantly different\n",
    "\n",
    "As p-value is greater than 0.05 (for 95% confidence), H0 is accepted and H1 is rejected. There is no statistically significant difference between the groups (less chance/more chance of heart attack) and their effects due to the variable familyhistory as, F= 0.25024928475305025, pvalue=0.6172651404419242.\n",
    "\n",
    "Thus, FamilyHistory is an irrelevant attribute."
   ]
  },
  {
   "cell_type": "markdown",
   "id": "dfb304e2",
   "metadata": {},
   "source": [
    "## For categorical features and categorical output (Target), we  to convert the categorical features into numerical features and find correlation using Pearson's correlation. \n",
    "The categorical features** include:\n",
    "1. Sex\n",
    "2. BloodSugar\n",
    "3. ExerciseAngina\n",
    "4. CP_Type_0\n",
    "5. CP_Type_1\n",
    "6. CP_Type_2\n",
    "7. CP_Type_3\n",
    "8. ECG_0\n",
    "9. ECG_1\n",
    "10. ECG_2\n",
    "\n",
    "**All these features are binary categorical features with 0 or 1 values."
   ]
  },
  {
   "cell_type": "code",
   "execution_count": 29,
   "id": "f2624289",
   "metadata": {},
   "outputs": [
    {
     "name": "stdout",
     "output_type": "stream",
     "text": [
      "Pearson's Correlation for Sex and Target: -0.2809365755017673\n"
     ]
    }
   ],
   "source": [
    "import numpy as np\n",
    "from scipy.stats import pearsonr\n",
    "\n",
    "heart_condition['Target'].replace({'LESS CHANCE':0, 'MORE CHANCE':1}, inplace= True)\n",
    "heart_condition['Sex'].replace({'0':0, '1':1}, inplace= True)\n",
    "corr,_=pearsonr(heart_condition['Target'],heart_condition['Sex'])\n",
    "print(\"Pearson's Correlation for Sex and Target:\", corr)"
   ]
  },
  {
   "cell_type": "code",
   "execution_count": 30,
   "id": "ba8938cc",
   "metadata": {},
   "outputs": [
    {
     "name": "stdout",
     "output_type": "stream",
     "text": [
      "Pearson's Correlation for BloodSugar and Target: -0.02804576027271287\n"
     ]
    }
   ],
   "source": [
    "heart_condition['BloodSugar'].replace({'0':0, '1':1}, inplace= True)\n",
    "corr,_=pearsonr(heart_condition['Target'],heart_condition['BloodSugar'])\n",
    "print(\"Pearson's Correlation for BloodSugar and Target:\", corr)"
   ]
  },
  {
   "cell_type": "code",
   "execution_count": 31,
   "id": "a241bb8e",
   "metadata": {},
   "outputs": [
    {
     "name": "stdout",
     "output_type": "stream",
     "text": [
      "Pearson's Correlation for ExerciseAngina and Target: -0.4367570833533035\n"
     ]
    }
   ],
   "source": [
    "heart_condition['ExerciseAngina'].replace({'0':0, '1':1}, inplace= True)\n",
    "corr,_=pearsonr(heart_condition['Target'],heart_condition['ExerciseAngina'])\n",
    "print(\"Pearson's Correlation for ExerciseAngina and Target:\", corr)"
   ]
  },
  {
   "cell_type": "code",
   "execution_count": 32,
   "id": "a51f3f5f",
   "metadata": {},
   "outputs": [
    {
     "name": "stdout",
     "output_type": "stream",
     "text": [
      "Pearson's Correlation for CP_Type_0 and Target: -0.5160146415680599\n"
     ]
    }
   ],
   "source": [
    "heart_condition['CP_Type_0'].replace({'0':0, '1':1}, inplace= True)\n",
    "corr,_=pearsonr(heart_condition['Target'],heart_condition['CP_Type_0'])\n",
    "print(\"Pearson's Correlation for CP_Type_0 and Target:\", corr)"
   ]
  },
  {
   "cell_type": "code",
   "execution_count": 33,
   "id": "7d295eff",
   "metadata": {},
   "outputs": [
    {
     "name": "stdout",
     "output_type": "stream",
     "text": [
      "Pearson's Correlation for CP_Type_1 and Target: 0.24587909539147906\n"
     ]
    }
   ],
   "source": [
    "heart_condition['CP_Type_1'].replace({'0':0, '1':1}, inplace= True)\n",
    "corr,_=pearsonr(heart_condition['Target'],heart_condition['CP_Type_1'])\n",
    "print(\"Pearson's Correlation for CP_Type_1 and Target:\", corr)"
   ]
  },
  {
   "cell_type": "code",
   "execution_count": 34,
   "id": "90ab8d6e",
   "metadata": {},
   "outputs": [
    {
     "name": "stdout",
     "output_type": "stream",
     "text": [
      "Pearson's Correlation for CP_Type_0 and Target: 0.3167421581955403\n"
     ]
    }
   ],
   "source": [
    "heart_condition['CP_Type_2'].replace({'0':0, '1':1}, inplace= True)\n",
    "corr,_=pearsonr(heart_condition['Target'],heart_condition['CP_Type_2'])\n",
    "print(\"Pearson's Correlation for CP_Type_0 and Target:\", corr)"
   ]
  },
  {
   "cell_type": "code",
   "execution_count": 35,
   "id": "faf14bf9",
   "metadata": {},
   "outputs": [
    {
     "name": "stdout",
     "output_type": "stream",
     "text": [
      "Pearson's Correlation for CP_Type_0 and Target: 0.08695687464637601\n"
     ]
    }
   ],
   "source": [
    "heart_condition['CP_Type_3'].replace({'0':0, '1':1}, inplace= True)\n",
    "corr,_=pearsonr(heart_condition['Target'],heart_condition['CP_Type_3'])\n",
    "print(\"Pearson's Correlation for CP_Type_0 and Target:\", corr)"
   ]
  },
  {
   "cell_type": "code",
   "execution_count": 36,
   "id": "e93a8796",
   "metadata": {},
   "outputs": [
    {
     "name": "stdout",
     "output_type": "stream",
     "text": [
      "Pearson's Correlation for ECG_0 and Target: -0.15977519309753516\n"
     ]
    }
   ],
   "source": [
    "heart_condition['ECG_0'].replace({'0':0, '1':1}, inplace= True)\n",
    "corr,_=pearsonr(heart_condition['Target'],heart_condition['ECG_0'])\n",
    "print(\"Pearson's Correlation for ECG_0 and Target:\", corr)"
   ]
  },
  {
   "cell_type": "code",
   "execution_count": 37,
   "id": "fc3554d2",
   "metadata": {},
   "outputs": [
    {
     "name": "stdout",
     "output_type": "stream",
     "text": [
      "Pearson's Correlation for ECG_1 and Target: 0.17532180367281475\n"
     ]
    }
   ],
   "source": [
    "heart_condition['ECG_1'].replace({'0':0, '1':1}, inplace= True)\n",
    "corr,_=pearsonr(heart_condition['Target'],heart_condition['ECG_1'])\n",
    "print(\"Pearson's Correlation for ECG_1 and Target:\", corr)"
   ]
  },
  {
   "cell_type": "code",
   "execution_count": 38,
   "id": "f7899dcb",
   "metadata": {},
   "outputs": [
    {
     "name": "stdout",
     "output_type": "stream",
     "text": [
      "Pearson's Correlation for ECG_2 and Target: -0.06841023951783204\n"
     ]
    }
   ],
   "source": [
    "heart_condition['ECG_2'].replace({'0':0, '1':1}, inplace= True)\n",
    "corr,_=pearsonr(heart_condition['Target'],heart_condition['ECG_2'])\n",
    "print(\"Pearson's Correlation for ECG_2 and Target:\", corr)"
   ]
  },
  {
   "cell_type": "markdown",
   "id": "c44bf36a",
   "metadata": {},
   "source": [
    "### Based on the Pearson's correlation scores the following categorical feature(s) is/are selected:\n",
    "Sex, ExerciseAngina, CP_Type_0, CP_Type_1, and CP_Type_2 (as their absolute score is close to or greater than 0.25)\n",
    "\n",
    "The following features are not relevant:\n",
    "BloodSugar, ECG_0, ECG_1, ECG_2, and CP_Type_3"
   ]
  },
  {
   "cell_type": "markdown",
   "id": "b349e390",
   "metadata": {},
   "source": [
    "# List of selected features\n",
    "1. Age\n",
    "2. BloodPressure\n",
    "3. MaxHeartRate\n",
    "4. Sex\n",
    "5. ExerciseAngina\n",
    "6. CP_Type_0\n",
    "7. CP_Type_1\n",
    "8. CP_Type_2"
   ]
  },
  {
   "cell_type": "markdown",
   "id": "9f0a96ee",
   "metadata": {},
   "source": [
    "# Data Visualization "
   ]
  },
  {
   "cell_type": "code",
   "execution_count": 39,
   "id": "9a3913d9",
   "metadata": {},
   "outputs": [
    {
     "name": "stdout",
     "output_type": "stream",
     "text": [
      "Saving figure attribute_histogram_plots\n"
     ]
    },
    {
     "data": {
      "image/png": "[encoded data removed]",
      "text/plain": [
       "<Figure size 1440x1080 with 6 Axes>"
      ]
     },
     "metadata": {
      "needs_background": "light"
     },
     "output_type": "display_data"
    }
   ],
   "source": [
    "%matplotlib inline\n",
    "import matplotlib.pyplot as plt\n",
    "heart_condition.hist(bins=50, figsize=(20,15))\n",
    "save_fig(\"attribute_histogram_plots\")\n",
    "plt.show()"
   ]
  },
  {
   "cell_type": "code",
   "execution_count": 40,
   "id": "bd524a39",
   "metadata": {},
   "outputs": [
    {
     "data": {
      "image/png": "[encoded data removed]",
      "text/plain": [
       "<Figure size 432x288 with 1 Axes>"
      ]
     },
     "metadata": {
      "needs_background": "light"
     },
     "output_type": "display_data"
    }
   ],
   "source": [
    "H = heart_condition[heart_condition.Target == 1]\n",
    "L = heart_condition[heart_condition.Target == 0]\n",
    "plt.title(\"High Risk vs Low Risk of Heart Attack\")\n",
    "plt.xlabel(\"Age\")\n",
    "plt.ylabel(\"Blood Pressure\")\n",
    "plt.scatter(H.Age, H.BloodPressure, color = \"red\", label = \"High Risk\", alpha = 0.3)\n",
    "plt.scatter(L.Age, L.BloodPressure, color = \"lime\", label = \"Low Risk\", alpha = 0.3)\n",
    "plt.legend()\n",
    "plt.show()"
   ]
  },
  {
   "cell_type": "code",
   "execution_count": 41,
   "id": "61b02fad",
   "metadata": {},
   "outputs": [
    {
     "data": {
      "image/png": "[encoded data removed]",
      "text/plain": [
       "<Figure size 432x288 with 1 Axes>"
      ]
     },
     "metadata": {
      "needs_background": "light"
     },
     "output_type": "display_data"
    }
   ],
   "source": [
    "plt.title(\"High Risk vs Low Risk of Heart Attack\")\n",
    "plt.xlabel(\"Age\")\n",
    "plt.ylabel(\"Max Heart Rate\")\n",
    "plt.scatter(H.Age, H.MaxHeartRate, color = \"red\", label = \"High Risk\", alpha = 0.3)\n",
    "plt.scatter(L.Age, L.MaxHeartRate, color = \"lime\", label = \"Low Risk\", alpha = 0.3)\n",
    "plt.legend()\n",
    "plt.show()"
   ]
  },
  {
   "cell_type": "code",
   "execution_count": 42,
   "id": "b428de4b",
   "metadata": {},
   "outputs": [
    {
     "data": {
      "image/png": "[encoded data removed]",
      "text/plain": [
       "<Figure size 432x288 with 1 Axes>"
      ]
     },
     "metadata": {
      "needs_background": "light"
     },
     "output_type": "display_data"
    }
   ],
   "source": [
    "plt.title(\"High Risk vs Low Risk of Heart Attack\")\n",
    "plt.xlabel(\"Blood Pressure\")\n",
    "plt.ylabel(\"Max Heart Rate\")\n",
    "plt.scatter(H.BloodPressure, H.MaxHeartRate, color = \"red\", label = \"High Risk\", alpha = 0.3)\n",
    "plt.scatter(L.BloodPressure, L.MaxHeartRate, color = \"lime\", label = \"Low Risk\", alpha = 0.3)\n",
    "plt.legend()\n",
    "plt.show()"
   ]
  },
  {
   "cell_type": "markdown",
   "id": "13712ddc",
   "metadata": {},
   "source": [
    "## Observations\n",
    "1. Age, Cholestrol, and MaxHeartRate appear to be normally distributed.\n",
    "2. Age appears to be a symmetric distribution with a mean of approximately 55 years.\n",
    "3. Cholestrol also appears to be symmetrically distributed.\n",
    "4. Outliers of Cholestrol appear to lie 350 units and beyond.\n",
    "5. MaxHeartRate appears to be left tailed with outliers less than 120 units.\n",
    "6. BloodPressure appears to have outliers beyond 160 units.\n",
    "7. Scatter-plots for high risk vs low risk of heart attack are shown for various groups of selected variables. Some observations from the scatter-plots include:\n",
    "\n",
    "    a. High risk in subjects of 40-50 age group with blood pressure of 120-140.\n",
    "    \n",
    "    b. Higher the max heart rate higher the risk.\n",
    "    \n",
    "    c. Aged subjects have a high risk even for lower values of max heart rate.\n",
    "    \n",
    "    d. Higher blood pressure combined with high max heart rate increases the risk."
   ]
  },
  {
   "cell_type": "markdown",
   "id": "5b7913b2",
   "metadata": {},
   "source": [
    "# Model Building and Analytics"
   ]
  },
  {
   "cell_type": "code",
   "execution_count": 43,
   "id": "5e5603d0",
   "metadata": {},
   "outputs": [
    {
     "data": {
      "text/html": [
       "<div>\n",
       "<style scoped>\n",
       "    .dataframe tbody tr th:only-of-type {\n",
       "        vertical-align: middle;\n",
       "    }\n",
       "\n",
       "    .dataframe tbody tr th {\n",
       "        vertical-align: top;\n",
       "    }\n",
       "\n",
       "    .dataframe thead th {\n",
       "        text-align: right;\n",
       "    }\n",
       "</style>\n",
       "<table border=\"1\" class=\"dataframe\">\n",
       "  <thead>\n",
       "    <tr style=\"text-align: right;\">\n",
       "      <th></th>\n",
       "      <th>Age</th>\n",
       "      <th>Sex</th>\n",
       "      <th>BloodPressure</th>\n",
       "      <th>Cholestrol</th>\n",
       "      <th>BloodSugar</th>\n",
       "      <th>MaxHeartRate</th>\n",
       "      <th>ExerciseAngina</th>\n",
       "      <th>FamilyHistory</th>\n",
       "      <th>Target</th>\n",
       "      <th>CP_Type_0</th>\n",
       "      <th>CP_Type_1</th>\n",
       "      <th>CP_Type_2</th>\n",
       "      <th>CP_Type_3</th>\n",
       "      <th>ECG_0</th>\n",
       "      <th>ECG_1</th>\n",
       "      <th>ECG_2</th>\n",
       "    </tr>\n",
       "  </thead>\n",
       "  <tbody>\n",
       "    <tr>\n",
       "      <th>0</th>\n",
       "      <td>0.708333</td>\n",
       "      <td>1.0</td>\n",
       "      <td>0.481132</td>\n",
       "      <td>0.244292</td>\n",
       "      <td>1.0</td>\n",
       "      <td>0.603053</td>\n",
       "      <td>0.0</td>\n",
       "      <td>0.4</td>\n",
       "      <td>1.0</td>\n",
       "      <td>0.0</td>\n",
       "      <td>0.0</td>\n",
       "      <td>0.0</td>\n",
       "      <td>1.0</td>\n",
       "      <td>1.0</td>\n",
       "      <td>0.0</td>\n",
       "      <td>0.0</td>\n",
       "    </tr>\n",
       "    <tr>\n",
       "      <th>1</th>\n",
       "      <td>0.166667</td>\n",
       "      <td>1.0</td>\n",
       "      <td>0.339623</td>\n",
       "      <td>0.283105</td>\n",
       "      <td>0.0</td>\n",
       "      <td>0.885496</td>\n",
       "      <td>0.0</td>\n",
       "      <td>0.2</td>\n",
       "      <td>1.0</td>\n",
       "      <td>0.0</td>\n",
       "      <td>0.0</td>\n",
       "      <td>1.0</td>\n",
       "      <td>0.0</td>\n",
       "      <td>0.0</td>\n",
       "      <td>1.0</td>\n",
       "      <td>0.0</td>\n",
       "    </tr>\n",
       "    <tr>\n",
       "      <th>2</th>\n",
       "      <td>0.250000</td>\n",
       "      <td>0.0</td>\n",
       "      <td>0.339623</td>\n",
       "      <td>0.178082</td>\n",
       "      <td>0.0</td>\n",
       "      <td>0.770992</td>\n",
       "      <td>0.0</td>\n",
       "      <td>0.0</td>\n",
       "      <td>1.0</td>\n",
       "      <td>0.0</td>\n",
       "      <td>1.0</td>\n",
       "      <td>0.0</td>\n",
       "      <td>0.0</td>\n",
       "      <td>1.0</td>\n",
       "      <td>0.0</td>\n",
       "      <td>0.0</td>\n",
       "    </tr>\n",
       "    <tr>\n",
       "      <th>3</th>\n",
       "      <td>0.562500</td>\n",
       "      <td>1.0</td>\n",
       "      <td>0.245283</td>\n",
       "      <td>0.251142</td>\n",
       "      <td>0.0</td>\n",
       "      <td>0.816794</td>\n",
       "      <td>0.0</td>\n",
       "      <td>0.2</td>\n",
       "      <td>1.0</td>\n",
       "      <td>0.0</td>\n",
       "      <td>1.0</td>\n",
       "      <td>0.0</td>\n",
       "      <td>0.0</td>\n",
       "      <td>0.0</td>\n",
       "      <td>1.0</td>\n",
       "      <td>0.0</td>\n",
       "    </tr>\n",
       "    <tr>\n",
       "      <th>4</th>\n",
       "      <td>0.583333</td>\n",
       "      <td>0.0</td>\n",
       "      <td>0.245283</td>\n",
       "      <td>0.520548</td>\n",
       "      <td>0.0</td>\n",
       "      <td>0.702290</td>\n",
       "      <td>1.0</td>\n",
       "      <td>0.0</td>\n",
       "      <td>1.0</td>\n",
       "      <td>1.0</td>\n",
       "      <td>0.0</td>\n",
       "      <td>0.0</td>\n",
       "      <td>0.0</td>\n",
       "      <td>0.0</td>\n",
       "      <td>1.0</td>\n",
       "      <td>0.0</td>\n",
       "    </tr>\n",
       "  </tbody>\n",
       "</table>\n",
       "</div>"
      ],
      "text/plain": [
       "        Age  Sex  BloodPressure  Cholestrol  BloodSugar  MaxHeartRate  \\\n",
       "0  0.708333  1.0       0.481132    0.244292         1.0      0.603053   \n",
       "1  0.166667  1.0       0.339623    0.283105         0.0      0.885496   \n",
       "2  0.250000  0.0       0.339623    0.178082         0.0      0.770992   \n",
       "3  0.562500  1.0       0.245283    0.251142         0.0      0.816794   \n",
       "4  0.583333  0.0       0.245283    0.520548         0.0      0.702290   \n",
       "\n",
       "   ExerciseAngina  FamilyHistory  Target  CP_Type_0  CP_Type_1  CP_Type_2  \\\n",
       "0             0.0            0.4     1.0        0.0        0.0        0.0   \n",
       "1             0.0            0.2     1.0        0.0        0.0        1.0   \n",
       "2             0.0            0.0     1.0        0.0        1.0        0.0   \n",
       "3             0.0            0.2     1.0        0.0        1.0        0.0   \n",
       "4             1.0            0.0     1.0        1.0        0.0        0.0   \n",
       "\n",
       "   CP_Type_3  ECG_0  ECG_1  ECG_2  \n",
       "0        1.0    1.0    0.0    0.0  \n",
       "1        0.0    0.0    1.0    0.0  \n",
       "2        0.0    1.0    0.0    0.0  \n",
       "3        0.0    0.0    1.0    0.0  \n",
       "4        0.0    0.0    1.0    0.0  "
      ]
     },
     "execution_count": 43,
     "metadata": {},
     "output_type": "execute_result"
    }
   ],
   "source": [
    "import scipy\n",
    "import numpy\n",
    "import sklearn\n",
    "from sklearn.preprocessing import MinMaxScaler\n",
    "\n",
    "# initialising the MinMaxScaler\n",
    "scaler = MinMaxScaler(feature_range=(0, 1))\n",
    "\n",
    "# Normalization using min-max normalization\n",
    "scaled_features = scaler.fit_transform(heart_condition.values)\n",
    "heart_condition = pd.DataFrame(scaled_features, index=heart_condition.index, columns=heart_condition.columns)\n",
    "heart_condition.head()"
   ]
  },
  {
   "cell_type": "code",
   "execution_count": 44,
   "id": "84d4b87b",
   "metadata": {},
   "outputs": [],
   "source": [
    "from sklearn.model_selection import train_test_split\n",
    "# separate array into input and output components\n",
    "X = heart_condition.iloc[:, [0,1,2,5,6,9,10,11]].values\n",
    "y = heart_condition.iloc[:, 8].values\n",
    "\n",
    "# Splitting the dataset into the Training set and Test set\n",
    "X_train, X_test, y_train, y_test = train_test_split(X, y, test_size = 0.20, random_state = 0)"
   ]
  },
  {
   "cell_type": "code",
   "execution_count": 45,
   "id": "e63615ed",
   "metadata": {},
   "outputs": [
    {
     "data": {
      "text/plain": [
       "242"
      ]
     },
     "execution_count": 45,
     "metadata": {},
     "output_type": "execute_result"
    }
   ],
   "source": [
    "len(X_train)"
   ]
  },
  {
   "cell_type": "code",
   "execution_count": 46,
   "id": "5396e421",
   "metadata": {},
   "outputs": [
    {
     "data": {
      "text/plain": [
       "61"
      ]
     },
     "execution_count": 46,
     "metadata": {},
     "output_type": "execute_result"
    }
   ],
   "source": [
    "len(X_test)"
   ]
  },
  {
   "cell_type": "markdown",
   "id": "36b0004e",
   "metadata": {},
   "source": [
    "## 1. Gaussian NB"
   ]
  },
  {
   "cell_type": "code",
   "execution_count": 84,
   "id": "a5cc559a",
   "metadata": {},
   "outputs": [
    {
     "data": {
      "text/plain": [
       "GaussianNB()"
      ]
     },
     "execution_count": 84,
     "metadata": {},
     "output_type": "execute_result"
    }
   ],
   "source": [
    "from sklearn.naive_bayes import GaussianNB\n",
    "\n",
    "clf = GaussianNB()\n",
    "clf.fit(X_train, y_train)"
   ]
  },
  {
   "cell_type": "code",
   "execution_count": 85,
   "id": "50ccac81",
   "metadata": {},
   "outputs": [
    {
     "name": "stdout",
     "output_type": "stream",
     "text": [
      "[[9.99009620e-01 9.90379626e-04]\n",
      " [6.99418083e-01 3.00581917e-01]\n",
      " [6.53167392e-01 3.46832608e-01]\n",
      " [9.96870709e-01 3.12929067e-03]\n",
      " [3.73837114e-02 9.62616289e-01]\n",
      " [7.22116211e-01 2.77883789e-01]\n",
      " [9.96246170e-01 3.75382998e-03]\n",
      " [9.23278557e-01 7.67214425e-02]\n",
      " [9.99285705e-01 7.14294882e-04]\n",
      " [9.98201951e-01 1.79804855e-03]\n",
      " [2.09882803e-02 9.79011720e-01]\n",
      " [2.44058372e-01 7.55941628e-01]\n",
      " [9.72777169e-01 2.72228308e-02]\n",
      " [5.41294210e-04 9.99458706e-01]\n",
      " [1.17917345e-03 9.98820827e-01]\n",
      " [3.80577262e-01 6.19422738e-01]\n",
      " [8.80005031e-01 1.19994969e-01]\n",
      " [6.18430889e-03 9.93815691e-01]\n",
      " [9.99758846e-01 2.41153519e-04]\n",
      " [2.08094830e-03 9.97919052e-01]\n",
      " [5.51067122e-01 4.48932878e-01]\n",
      " [7.00276757e-01 2.99723243e-01]\n",
      " [2.78224933e-02 9.72177507e-01]\n",
      " [9.99396359e-01 6.03640961e-04]\n",
      " [3.63987040e-04 9.99636013e-01]\n",
      " [6.64568413e-02 9.33543159e-01]\n",
      " [7.74875837e-01 2.25124163e-01]\n",
      " [8.28818710e-01 1.71181290e-01]\n",
      " [5.26045917e-04 9.99473954e-01]\n",
      " [1.12798516e-03 9.98872015e-01]\n",
      " [3.06293041e-02 9.69370696e-01]\n",
      " [9.91699121e-01 8.30087895e-03]\n",
      " [2.52237481e-05 9.99974776e-01]\n",
      " [5.89704621e-02 9.41029538e-01]\n",
      " [7.09254809e-05 9.99929075e-01]\n",
      " [9.93214160e-01 6.78584001e-03]\n",
      " [9.25058030e-01 7.49419699e-02]\n",
      " [3.60286001e-04 9.99639714e-01]\n",
      " [9.95879073e-01 4.12092722e-03]\n",
      " [4.54064726e-01 5.45935274e-01]\n",
      " [9.25166372e-01 7.48336283e-02]\n",
      " [3.77671941e-01 6.22328059e-01]\n",
      " [1.26907022e-02 9.87309298e-01]\n",
      " [9.97958282e-01 2.04171759e-03]\n",
      " [9.69368764e-01 3.06312355e-02]\n",
      " [5.35565446e-03 9.94644346e-01]\n",
      " [3.56733642e-03 9.96432664e-01]\n",
      " [1.37895344e-02 9.86210466e-01]\n",
      " [9.52832016e-01 4.71679836e-02]\n",
      " [2.73885909e-04 9.99726114e-01]\n",
      " [6.05951626e-04 9.99394048e-01]\n",
      " [1.29607385e-02 9.87039262e-01]\n",
      " [6.02580894e-03 9.93974191e-01]\n",
      " [1.17308416e-03 9.98826916e-01]\n",
      " [2.11635798e-04 9.99788364e-01]\n",
      " [9.78485890e-01 2.15141105e-02]\n",
      " [9.07560189e-04 9.99092440e-01]\n",
      " [8.00129953e-05 9.99919987e-01]\n",
      " [3.71169952e-02 9.62883005e-01]\n",
      " [6.77453235e-05 9.99932255e-01]\n",
      " [7.93506875e-01 2.06493125e-01]]\n"
     ]
    }
   ],
   "source": [
    "probs_log1=clf.predict_proba(X_test)\n",
    "print(probs_log1)"
   ]
  },
  {
   "cell_type": "code",
   "execution_count": 86,
   "id": "0b78513a",
   "metadata": {},
   "outputs": [
    {
     "name": "stdout",
     "output_type": "stream",
     "text": [
      "No Skill: ROC AUC=0.500\n",
      "Gaussian NB: ROC AUC=0.882\n"
     ]
    },
    {
     "data": {
      "image/png": "[encoded data removed]",
      "text/plain": [
       "<Figure size 432x288 with 1 Axes>"
      ]
     },
     "metadata": {
      "needs_background": "light"
     },
     "output_type": "display_data"
    }
   ],
   "source": [
    "# roc curve and auc\n",
    "from sklearn.datasets import make_classification\n",
    "from sklearn.model_selection import train_test_split\n",
    "from sklearn.metrics import roc_curve\n",
    "from sklearn.metrics import roc_auc_score\n",
    "from matplotlib import pyplot\n",
    "\n",
    "# generate a no skill prediction (majority class)\n",
    "ns_probs = [0 for _ in range(len(y_test))]\n",
    "\n",
    "# keep probabilities for the positive outcome only\n",
    "positive_probs = probs_log1[:, 1]\n",
    "\n",
    "# calculate scores\n",
    "ns_auc = roc_auc_score(y_test, ns_probs)\n",
    "positive_auc = roc_auc_score(y_test, positive_probs)\n",
    "\n",
    "# summarize scores\n",
    "print('No Skill: ROC AUC=%.3f' % (ns_auc))\n",
    "print('Gaussian NB: ROC AUC=%.3f' % (positive_auc))\n",
    "\n",
    "# calculate roc curves\n",
    "ns_fpr, ns_tpr, _ = roc_curve(y_test, ns_probs)\n",
    "positive_fpr, positive_tpr, _ = roc_curve(y_test, positive_probs)\n",
    "\n",
    "# plot the roc curve for the model\n",
    "pyplot.plot(ns_fpr, ns_tpr, linestyle='--', label='No Skill')\n",
    "pyplot.plot(positive_fpr, positive_tpr, marker='.', label='Gaussian NB')\n",
    "\n",
    "# axis labels\n",
    "pyplot.xlabel('False Positive Rate')\n",
    "pyplot.ylabel('True Positive Rate')\n",
    "\n",
    "# show the legend\n",
    "\n",
    "pyplot.legend()\n",
    "\n",
    "# show the plot\n",
    "pyplot.show()"
   ]
  },
  {
   "cell_type": "code",
   "execution_count": 87,
   "id": "2288dee9",
   "metadata": {},
   "outputs": [
    {
     "name": "stdout",
     "output_type": "stream",
     "text": [
      "Accuracy Score: 0.8032786885245902\n"
     ]
    }
   ],
   "source": [
    "print(\"Accuracy Score:\", clf.score(X_test,y_test))"
   ]
  },
  {
   "cell_type": "code",
   "execution_count": 88,
   "id": "05a60033",
   "metadata": {},
   "outputs": [
    {
     "name": "stdout",
     "output_type": "stream",
     "text": [
      "[0. 0. 0. 0. 1. 0. 0. 0. 0. 0. 1. 1. 0. 1. 1. 1. 0. 1. 0. 1. 0. 0. 1. 0.\n",
      " 1. 1. 0. 0. 1. 1. 1. 0. 1. 1. 1. 0. 0. 1. 0. 1. 0. 1. 1. 0. 0. 1. 1. 1.\n",
      " 0. 1. 1. 1. 1. 1. 1. 0. 1. 1. 1. 1. 0.]\n"
     ]
    }
   ],
   "source": [
    "from sklearn.metrics import precision_recall_fscore_support\n",
    "\n",
    "y_pred=clf.predict(X_test)\n",
    "print(y_pred)"
   ]
  },
  {
   "cell_type": "code",
   "execution_count": 89,
   "id": "1e3be3a4",
   "metadata": {},
   "outputs": [
    {
     "data": {
      "text/plain": [
       "(0.8006535947712419, 0.8006535947712419, 0.8006535947712419, None)"
      ]
     },
     "execution_count": 89,
     "metadata": {},
     "output_type": "execute_result"
    }
   ],
   "source": [
    "precision_recall_fscore_support(y_test, y_pred, average='macro')"
   ]
  },
  {
   "cell_type": "markdown",
   "id": "cebcaf11",
   "metadata": {},
   "source": [
    "## Analysis Results: Gaussian NB\n",
    "1. AUC-ROC curve is presented above with ROC AUC=0.882 for Gaussian Naive Bayes:\n",
    "2. Accuracy Score: 0.80\n",
    "3. Precision: 0.80\n",
    "4. Recall: 0.80\n",
    "5. F-score: 0.80"
   ]
  },
  {
   "cell_type": "markdown",
   "id": "7cbad46b",
   "metadata": {},
   "source": [
    "## 2. Logistic Regression"
   ]
  },
  {
   "cell_type": "code",
   "execution_count": 90,
   "id": "59b3e7b4",
   "metadata": {},
   "outputs": [
    {
     "data": {
      "text/plain": [
       "LogisticRegression()"
      ]
     },
     "execution_count": 90,
     "metadata": {},
     "output_type": "execute_result"
    }
   ],
   "source": [
    "from sklearn.linear_model import LogisticRegression\n",
    "\n",
    "clf = LogisticRegression()\n",
    "clf.fit(X_train, y_train)"
   ]
  },
  {
   "cell_type": "code",
   "execution_count": 91,
   "id": "bbd8b979",
   "metadata": {},
   "outputs": [
    {
     "name": "stdout",
     "output_type": "stream",
     "text": [
      "[[0.92689335 0.07310665]\n",
      " [0.4832319  0.5167681 ]\n",
      " [0.44036443 0.55963557]\n",
      " [0.87027075 0.12972925]\n",
      " [0.32711172 0.67288828]\n",
      " [0.57845267 0.42154733]\n",
      " [0.83689711 0.16310289]\n",
      " [0.72745753 0.27254247]\n",
      " [0.75016747 0.24983253]\n",
      " [0.89472271 0.10527729]\n",
      " [0.2673896  0.7326104 ]\n",
      " [0.25409632 0.74590368]\n",
      " [0.79218276 0.20781724]\n",
      " [0.22481819 0.77518181]\n",
      " [0.05880735 0.94119265]\n",
      " [0.43418194 0.56581806]\n",
      " [0.62521054 0.37478946]\n",
      " [0.18342004 0.81657996]\n",
      " [0.92085889 0.07914111]\n",
      " [0.12746977 0.87253023]\n",
      " [0.54104921 0.45895079]\n",
      " [0.59482582 0.40517418]\n",
      " [0.46776069 0.53223931]\n",
      " [0.88600326 0.11399674]\n",
      " [0.20075402 0.79924598]\n",
      " [0.16895491 0.83104509]\n",
      " [0.59768357 0.40231643]\n",
      " [0.62684212 0.37315788]\n",
      " [0.05781694 0.94218306]\n",
      " [0.27722512 0.72277488]\n",
      " [0.31137229 0.68862771]\n",
      " [0.83518358 0.16481642]\n",
      " [0.0533735  0.9466265 ]\n",
      " [0.31456286 0.68543714]\n",
      " [0.15597239 0.84402761]\n",
      " [0.68956546 0.31043454]\n",
      " [0.76096027 0.23903973]\n",
      " [0.20757252 0.79242748]\n",
      " [0.85419657 0.14580343]\n",
      " [0.34715686 0.65284314]\n",
      " [0.71458125 0.28541875]\n",
      " [0.29926271 0.70073729]\n",
      " [0.23363071 0.76636929]\n",
      " [0.85212741 0.14787259]\n",
      " [0.63513549 0.36486451]\n",
      " [0.46912138 0.53087862]\n",
      " [0.18032517 0.81967483]\n",
      " [0.24252555 0.75747445]\n",
      " [0.5648445  0.4351555 ]\n",
      " [0.18578777 0.81421223]\n",
      " [0.21889736 0.78110264]\n",
      " [0.34829267 0.65170733]\n",
      " [0.09235615 0.90764385]\n",
      " [0.29453029 0.70546971]\n",
      " [0.02778929 0.97221071]\n",
      " [0.80205262 0.19794738]\n",
      " [0.05634989 0.94365011]\n",
      " [0.0693166  0.9306834 ]\n",
      " [0.32070346 0.67929654]\n",
      " [0.06285233 0.93714767]\n",
      " [0.35335645 0.64664355]]\n"
     ]
    }
   ],
   "source": [
    "probs_log1=clf.predict_proba(X_test)\n",
    "print(probs_log1)"
   ]
  },
  {
   "cell_type": "code",
   "execution_count": 92,
   "id": "f6f5cb4f",
   "metadata": {},
   "outputs": [
    {
     "name": "stdout",
     "output_type": "stream",
     "text": [
      "No Skill: ROC AUC=0.500\n",
      "Logistic Regression: ROC AUC=0.871\n"
     ]
    },
    {
     "data": {
      "image/png": "[encoded data removed]",
      "text/plain": [
       "<Figure size 432x288 with 1 Axes>"
      ]
     },
     "metadata": {
      "needs_background": "light"
     },
     "output_type": "display_data"
    }
   ],
   "source": [
    "# roc curve and auc\n",
    "from sklearn.datasets import make_classification\n",
    "from sklearn.model_selection import train_test_split\n",
    "from sklearn.metrics import roc_curve\n",
    "from sklearn.metrics import roc_auc_score\n",
    "from matplotlib import pyplot\n",
    "\n",
    "# generate a no skill prediction (majority class)\n",
    "ns_probs = [0 for _ in range(len(y_test))]\n",
    "\n",
    "# keep probabilities for the positive outcome only\n",
    "positive_probs = probs_log1[:, 1]\n",
    "\n",
    "# calculate scores\n",
    "ns_auc = roc_auc_score(y_test, ns_probs)\n",
    "positive_auc = roc_auc_score(y_test, positive_probs)\n",
    "\n",
    "# summarize scores\n",
    "print('No Skill: ROC AUC=%.3f' % (ns_auc))\n",
    "print('Logistic Regression: ROC AUC=%.3f' % (positive_auc))\n",
    "\n",
    "# calculate roc curves\n",
    "ns_fpr, ns_tpr, _ = roc_curve(y_test, ns_probs)\n",
    "positive_fpr, positive_tpr, _ = roc_curve(y_test, positive_probs)\n",
    "\n",
    "# plot the roc curve for the model\n",
    "pyplot.plot(ns_fpr, ns_tpr, linestyle='--', label='No Skill')\n",
    "pyplot.plot(positive_fpr, positive_tpr, marker='.', label='Logistic Regression')\n",
    "\n",
    "# axis labels\n",
    "pyplot.xlabel('False Positive Rate')\n",
    "pyplot.ylabel('True Positive Rate')\n",
    "\n",
    "# show the legend\n",
    "\n",
    "pyplot.legend()\n",
    "\n",
    "# show the plot\n",
    "pyplot.show()"
   ]
  },
  {
   "cell_type": "code",
   "execution_count": 93,
   "id": "7cc76835",
   "metadata": {},
   "outputs": [
    {
     "name": "stdout",
     "output_type": "stream",
     "text": [
      "Accuracy Score: 0.819672131147541\n"
     ]
    }
   ],
   "source": [
    "print(\"Accuracy Score:\", clf.score(X_test,y_test))"
   ]
  },
  {
   "cell_type": "code",
   "execution_count": 94,
   "id": "32dcbc81",
   "metadata": {},
   "outputs": [
    {
     "name": "stdout",
     "output_type": "stream",
     "text": [
      "[0. 1. 1. 0. 1. 0. 0. 0. 0. 0. 1. 1. 0. 1. 1. 1. 0. 1. 0. 1. 0. 0. 1. 0.\n",
      " 1. 1. 0. 0. 1. 1. 1. 0. 1. 1. 1. 0. 0. 1. 0. 1. 0. 1. 1. 0. 0. 1. 1. 1.\n",
      " 0. 1. 1. 1. 1. 1. 1. 0. 1. 1. 1. 1. 1.]\n"
     ]
    }
   ],
   "source": [
    "y_pred=clf.predict(X_test)\n",
    "print(y_pred)"
   ]
  },
  {
   "cell_type": "code",
   "execution_count": 95,
   "id": "11116177",
   "metadata": {},
   "outputs": [
    {
     "data": {
      "text/plain": [
       "(0.8220720720720721, 0.8115468409586056, 0.8146920740127037, None)"
      ]
     },
     "execution_count": 95,
     "metadata": {},
     "output_type": "execute_result"
    }
   ],
   "source": [
    "precision_recall_fscore_support(y_test, y_pred, average='macro')"
   ]
  },
  {
   "cell_type": "markdown",
   "id": "de44a3d4",
   "metadata": {},
   "source": [
    "## Analysis Results: Logistic Regression\n",
    "1. AUC-ROC curve is presented above with ROC AUC=0.871 for Logistic Regression:\n",
    "2. Accuracy Score: 0.82\n",
    "3. Precision: 0.82\n",
    "4. Recall: 0.81\n",
    "5. F-score: 0.81"
   ]
  },
  {
   "cell_type": "markdown",
   "id": "27aab0ed",
   "metadata": {},
   "source": [
    "## 3. Decision Tree Classifier "
   ]
  },
  {
   "cell_type": "code",
   "execution_count": 96,
   "id": "f4c6acae",
   "metadata": {},
   "outputs": [
    {
     "data": {
      "text/plain": [
       "DecisionTreeClassifier()"
      ]
     },
     "execution_count": 96,
     "metadata": {},
     "output_type": "execute_result"
    }
   ],
   "source": [
    "from sklearn.tree import DecisionTreeClassifier\n",
    "\n",
    "clf = DecisionTreeClassifier()\n",
    "clf.fit(X_train, y_train)"
   ]
  },
  {
   "cell_type": "code",
   "execution_count": 97,
   "id": "8d2260a8",
   "metadata": {},
   "outputs": [
    {
     "name": "stdout",
     "output_type": "stream",
     "text": [
      "[[1. 0.]\n",
      " [0. 1.]\n",
      " [0. 1.]\n",
      " [1. 0.]\n",
      " [1. 0.]\n",
      " [1. 0.]\n",
      " [1. 0.]\n",
      " [1. 0.]\n",
      " [1. 0.]\n",
      " [1. 0.]\n",
      " [0. 1.]\n",
      " [0. 1.]\n",
      " [1. 0.]\n",
      " [0. 1.]\n",
      " [0. 1.]\n",
      " [1. 0.]\n",
      " [1. 0.]\n",
      " [0. 1.]\n",
      " [1. 0.]\n",
      " [0. 1.]\n",
      " [0. 1.]\n",
      " [0. 1.]\n",
      " [1. 0.]\n",
      " [1. 0.]\n",
      " [0. 1.]\n",
      " [0. 1.]\n",
      " [1. 0.]\n",
      " [0. 1.]\n",
      " [0. 1.]\n",
      " [0. 1.]\n",
      " [0. 1.]\n",
      " [0. 1.]\n",
      " [0. 1.]\n",
      " [1. 0.]\n",
      " [0. 1.]\n",
      " [1. 0.]\n",
      " [1. 0.]\n",
      " [0. 1.]\n",
      " [1. 0.]\n",
      " [0. 1.]\n",
      " [0. 1.]\n",
      " [0. 1.]\n",
      " [0. 1.]\n",
      " [1. 0.]\n",
      " [1. 0.]\n",
      " [0. 1.]\n",
      " [0. 1.]\n",
      " [0. 1.]\n",
      " [1. 0.]\n",
      " [0. 1.]\n",
      " [0. 1.]\n",
      " [0. 1.]\n",
      " [0. 1.]\n",
      " [1. 0.]\n",
      " [0. 1.]\n",
      " [1. 0.]\n",
      " [0. 1.]\n",
      " [0. 1.]\n",
      " [0. 1.]\n",
      " [0. 1.]\n",
      " [0. 1.]]\n"
     ]
    }
   ],
   "source": [
    "probs_log1=clf.predict_proba(X_test)\n",
    "print(probs_log1)"
   ]
  },
  {
   "cell_type": "code",
   "execution_count": 98,
   "id": "f5a2606b",
   "metadata": {},
   "outputs": [
    {
     "name": "stdout",
     "output_type": "stream",
     "text": [
      "No Skill: ROC AUC=0.500\n",
      "Decision Tree Classifier: ROC AUC=0.745\n"
     ]
    },
    {
     "data": {
      "image/png": "[encoded data removed]",
      "text/plain": [
       "<Figure size 432x288 with 1 Axes>"
      ]
     },
     "metadata": {
      "needs_background": "light"
     },
     "output_type": "display_data"
    }
   ],
   "source": [
    "# roc curve and auc\n",
    "from sklearn.datasets import make_classification\n",
    "from sklearn.model_selection import train_test_split\n",
    "from sklearn.metrics import roc_curve\n",
    "from sklearn.metrics import roc_auc_score\n",
    "from matplotlib import pyplot\n",
    "\n",
    "# generate a no skill prediction (majority class)\n",
    "ns_probs = [0 for _ in range(len(y_test))]\n",
    "\n",
    "# keep probabilities for the positive outcome only\n",
    "positive_probs = probs_log1[:, 1]\n",
    "\n",
    "# calculate scores\n",
    "ns_auc = roc_auc_score(y_test, ns_probs)\n",
    "positive_auc = roc_auc_score(y_test, positive_probs)\n",
    "\n",
    "# summarize scores\n",
    "print('No Skill: ROC AUC=%.3f' % (ns_auc))\n",
    "print('Decision Tree Classifier: ROC AUC=%.3f' % (positive_auc))\n",
    "\n",
    "# calculate roc curves\n",
    "ns_fpr, ns_tpr, _ = roc_curve(y_test, ns_probs)\n",
    "positive_fpr, positive_tpr, _ = roc_curve(y_test, positive_probs)\n",
    "\n",
    "# plot the roc curve for the model\n",
    "pyplot.plot(ns_fpr, ns_tpr, linestyle='--', label='No Skill')\n",
    "pyplot.plot(positive_fpr, positive_tpr, marker='.', label='Decision Tree Classifier')\n",
    "\n",
    "# axis labels\n",
    "pyplot.xlabel('False Positive Rate')\n",
    "pyplot.ylabel('True Positive Rate')\n",
    "\n",
    "# show the legend\n",
    "\n",
    "pyplot.legend()\n",
    "\n",
    "# show the plot\n",
    "pyplot.show()"
   ]
  },
  {
   "cell_type": "code",
   "execution_count": 99,
   "id": "1b9d4f5b",
   "metadata": {},
   "outputs": [
    {
     "name": "stdout",
     "output_type": "stream",
     "text": [
      "Accuracy Score: 0.7540983606557377\n"
     ]
    }
   ],
   "source": [
    "print(\"Accuracy Score:\", clf.score(X_test,y_test))"
   ]
  },
  {
   "cell_type": "code",
   "execution_count": 100,
   "id": "84955eab",
   "metadata": {},
   "outputs": [
    {
     "name": "stdout",
     "output_type": "stream",
     "text": [
      "[0. 1. 1. 0. 0. 0. 0. 0. 0. 0. 1. 1. 0. 1. 1. 0. 0. 1. 0. 1. 1. 1. 0. 0.\n",
      " 1. 1. 0. 1. 1. 1. 1. 1. 1. 0. 1. 0. 0. 1. 0. 1. 1. 1. 1. 0. 0. 1. 1. 1.\n",
      " 0. 1. 1. 1. 1. 0. 1. 0. 1. 1. 1. 1. 1.]\n"
     ]
    }
   ],
   "source": [
    "y_pred=clf.predict(X_test)\n",
    "print(y_pred)"
   ]
  },
  {
   "cell_type": "code",
   "execution_count": 101,
   "id": "a34769d0",
   "metadata": {},
   "outputs": [
    {
     "data": {
      "text/plain": [
       "(0.7533783783783784, 0.7450980392156863, 0.7473073736536868, None)"
      ]
     },
     "execution_count": 101,
     "metadata": {},
     "output_type": "execute_result"
    }
   ],
   "source": [
    "precision_recall_fscore_support(y_test, y_pred, average='macro')"
   ]
  },
  {
   "cell_type": "markdown",
   "id": "1f32ba3f",
   "metadata": {},
   "source": [
    "## Analysis Results: Decision Tree Classifier\n",
    "1. AUC-ROC curve is presented above with ROC AUC=0.745 for Decision Tree Classifier\n",
    "2. Accuracy Score: 0.75\n",
    "3. Precision: 0.75\n",
    "4. Recall: 0.74\n",
    "5. F-score: 0.75"
   ]
  },
  {
   "cell_type": "markdown",
   "id": "fead2bf4",
   "metadata": {},
   "source": [
    "# 4. Random Forest (Ensemble) Classifier"
   ]
  },
  {
   "cell_type": "code",
   "execution_count": 102,
   "id": "4ee92825",
   "metadata": {},
   "outputs": [
    {
     "data": {
      "text/plain": [
       "RandomForestClassifier()"
      ]
     },
     "execution_count": 102,
     "metadata": {},
     "output_type": "execute_result"
    }
   ],
   "source": [
    "from sklearn.ensemble import RandomForestClassifier\n",
    "\n",
    "clf = RandomForestClassifier()\n",
    "clf.fit(X_train, y_train)"
   ]
  },
  {
   "cell_type": "code",
   "execution_count": 103,
   "id": "67677085",
   "metadata": {},
   "outputs": [
    {
     "name": "stdout",
     "output_type": "stream",
     "text": [
      "[[0.96 0.04]\n",
      " [0.43 0.57]\n",
      " [0.49 0.51]\n",
      " [1.   0.  ]\n",
      " [0.79 0.21]\n",
      " [0.42 0.58]\n",
      " [0.84 0.16]\n",
      " [0.57 0.43]\n",
      " [0.91 0.09]\n",
      " [0.9  0.1 ]\n",
      " [0.16 0.84]\n",
      " [0.13 0.87]\n",
      " [0.53 0.47]\n",
      " [0.09 0.91]\n",
      " [0.05 0.95]\n",
      " [0.5  0.5 ]\n",
      " [0.51 0.49]\n",
      " [0.09 0.91]\n",
      " [0.92 0.08]\n",
      " [0.1  0.9 ]\n",
      " [0.28 0.72]\n",
      " [0.62 0.38]\n",
      " [0.56 0.44]\n",
      " [0.94 0.06]\n",
      " [0.25 0.75]\n",
      " [0.11 0.89]\n",
      " [0.59 0.41]\n",
      " [0.41 0.59]\n",
      " [0.02 0.98]\n",
      " [0.18 0.82]\n",
      " [0.48 0.52]\n",
      " [0.65 0.35]\n",
      " [0.01 0.99]\n",
      " [0.22 0.78]\n",
      " [0.07 0.93]\n",
      " [1.   0.  ]\n",
      " [0.66 0.34]\n",
      " [0.04 0.96]\n",
      " [0.98 0.02]\n",
      " [0.2  0.8 ]\n",
      " [0.6  0.4 ]\n",
      " [0.29 0.71]\n",
      " [0.01 0.99]\n",
      " [0.79 0.21]\n",
      " [0.67 0.33]\n",
      " [0.31 0.69]\n",
      " [0.01 0.99]\n",
      " [0.03 0.97]\n",
      " [0.66 0.34]\n",
      " [0.   1.  ]\n",
      " [0.06 0.94]\n",
      " [0.42 0.58]\n",
      " [0.08 0.92]\n",
      " [0.37 0.63]\n",
      " [0.02 0.98]\n",
      " [0.95 0.05]\n",
      " [0.05 0.95]\n",
      " [0.17 0.83]\n",
      " [0.4  0.6 ]\n",
      " [0.02 0.98]\n",
      " [0.22 0.78]]\n"
     ]
    }
   ],
   "source": [
    "probs_log1=clf.predict_proba(X_test)\n",
    "print(probs_log1)"
   ]
  },
  {
   "cell_type": "code",
   "execution_count": 104,
   "id": "d39bff2a",
   "metadata": {},
   "outputs": [
    {
     "name": "stdout",
     "output_type": "stream",
     "text": [
      "No Skill: ROC AUC=0.500\n",
      "Random Forest (Ensemble) Classifier: ROC AUC=0.869\n"
     ]
    },
    {
     "data": {
      "image/png": "[encoded data removed]",
      "text/plain": [
       "<Figure size 432x288 with 1 Axes>"
      ]
     },
     "metadata": {
      "needs_background": "light"
     },
     "output_type": "display_data"
    }
   ],
   "source": [
    "# roc curve and auc\n",
    "from sklearn.datasets import make_classification\n",
    "from sklearn.model_selection import train_test_split\n",
    "from sklearn.metrics import roc_curve\n",
    "from sklearn.metrics import roc_auc_score\n",
    "from matplotlib import pyplot\n",
    "\n",
    "# generate a no skill prediction (majority class)\n",
    "ns_probs = [0 for _ in range(len(y_test))]\n",
    "\n",
    "# keep probabilities for the positive outcome only\n",
    "positive_probs = probs_log1[:, 1]\n",
    "\n",
    "# calculate scores\n",
    "ns_auc = roc_auc_score(y_test, ns_probs)\n",
    "positive_auc = roc_auc_score(y_test, positive_probs)\n",
    "\n",
    "# summarize scores\n",
    "print('No Skill: ROC AUC=%.3f' % (ns_auc))\n",
    "print('Random Forest (Ensemble) Classifier: ROC AUC=%.3f' % (positive_auc))\n",
    "\n",
    "# calculate roc curves\n",
    "ns_fpr, ns_tpr, _ = roc_curve(y_test, ns_probs)\n",
    "positive_fpr, positive_tpr, _ = roc_curve(y_test, positive_probs)\n",
    "\n",
    "# plot the roc curve for the model\n",
    "pyplot.plot(ns_fpr, ns_tpr, linestyle='--', label='No Skill')\n",
    "pyplot.plot(positive_fpr, positive_tpr, marker='.', label='Random Forest (Ensemble) Classifier')\n",
    "\n",
    "# axis labels\n",
    "pyplot.xlabel('False Positive Rate')\n",
    "pyplot.ylabel('True Positive Rate')\n",
    "\n",
    "# show the legend\n",
    "\n",
    "pyplot.legend()\n",
    "\n",
    "# show the plot\n",
    "pyplot.show()"
   ]
  },
  {
   "cell_type": "code",
   "execution_count": 105,
   "id": "377e2fd4",
   "metadata": {},
   "outputs": [
    {
     "name": "stdout",
     "output_type": "stream",
     "text": [
      "Accuracy Score: 0.7868852459016393\n"
     ]
    }
   ],
   "source": [
    "print(\"Accuracy Score:\", clf.score(X_test,y_test))"
   ]
  },
  {
   "cell_type": "code",
   "execution_count": 106,
   "id": "87242682",
   "metadata": {},
   "outputs": [
    {
     "name": "stdout",
     "output_type": "stream",
     "text": [
      "[0. 1. 1. 0. 0. 1. 0. 0. 0. 0. 1. 1. 0. 1. 1. 0. 0. 1. 0. 1. 1. 0. 0. 0.\n",
      " 1. 1. 0. 1. 1. 1. 1. 0. 1. 1. 1. 0. 0. 1. 0. 1. 0. 1. 1. 0. 0. 1. 1. 1.\n",
      " 0. 1. 1. 1. 1. 1. 1. 0. 1. 1. 1. 1. 1.]\n"
     ]
    }
   ],
   "source": [
    "y_pred=clf.predict(X_test)\n",
    "print(y_pred)"
   ]
  },
  {
   "cell_type": "code",
   "execution_count": 107,
   "id": "e57ff5e9",
   "metadata": {},
   "outputs": [
    {
     "data": {
      "text/plain": [
       "(0.7877252252252251, 0.778322440087146, 0.7809997238331953, None)"
      ]
     },
     "execution_count": 107,
     "metadata": {},
     "output_type": "execute_result"
    }
   ],
   "source": [
    "precision_recall_fscore_support(y_test, y_pred, average='macro')"
   ]
  },
  {
   "cell_type": "markdown",
   "id": "a877ac18",
   "metadata": {},
   "source": [
    "## Analysis Results: Random Forest (Ensemble) Classifier\n",
    "1. AUC-ROC curve is presented above with ROC AUC=0.869 for Random Forest (Ensemble) Classifier\n",
    "2. Accuracy Score: 0.79\n",
    "3. Precision: 0.79\n",
    "4. Recall: 0.78\n",
    "5. F-score: 0.78"
   ]
  },
  {
   "cell_type": "markdown",
   "id": "6c0dcec9",
   "metadata": {},
   "source": [
    "# 5. K-Nearest Neighbor (KNN) Classifier"
   ]
  },
  {
   "cell_type": "code",
   "execution_count": 108,
   "id": "1777945f",
   "metadata": {},
   "outputs": [
    {
     "data": {
      "text/plain": [
       "KNeighborsClassifier()"
      ]
     },
     "execution_count": 108,
     "metadata": {},
     "output_type": "execute_result"
    }
   ],
   "source": [
    "from sklearn.neighbors import KNeighborsClassifier\n",
    "\n",
    "clf=KNeighborsClassifier()\n",
    "clf.fit(X_train, y_train)"
   ]
  },
  {
   "cell_type": "code",
   "execution_count": 109,
   "id": "61c8b836",
   "metadata": {},
   "outputs": [
    {
     "name": "stdout",
     "output_type": "stream",
     "text": [
      "[[1.  0. ]\n",
      " [0.4 0.6]\n",
      " [0.2 0.8]\n",
      " [1.  0. ]\n",
      " [0.8 0.2]\n",
      " [0.4 0.6]\n",
      " [0.8 0.2]\n",
      " [0.4 0.6]\n",
      " [0.8 0.2]\n",
      " [1.  0. ]\n",
      " [0.2 0.8]\n",
      " [0.2 0.8]\n",
      " [0.6 0.4]\n",
      " [0.  1. ]\n",
      " [0.  1. ]\n",
      " [0.4 0.6]\n",
      " [0.8 0.2]\n",
      " [0.  1. ]\n",
      " [0.8 0.2]\n",
      " [0.  1. ]\n",
      " [0.2 0.8]\n",
      " [0.6 0.4]\n",
      " [0.4 0.6]\n",
      " [0.8 0.2]\n",
      " [0.2 0.8]\n",
      " [0.  1. ]\n",
      " [0.4 0.6]\n",
      " [0.6 0.4]\n",
      " [0.  1. ]\n",
      " [0.2 0.8]\n",
      " [0.6 0.4]\n",
      " [1.  0. ]\n",
      " [0.  1. ]\n",
      " [0.2 0.8]\n",
      " [0.  1. ]\n",
      " [0.8 0.2]\n",
      " [0.6 0.4]\n",
      " [0.  1. ]\n",
      " [1.  0. ]\n",
      " [0.6 0.4]\n",
      " [0.6 0.4]\n",
      " [0.2 0.8]\n",
      " [0.  1. ]\n",
      " [0.8 0.2]\n",
      " [0.6 0.4]\n",
      " [0.4 0.6]\n",
      " [0.  1. ]\n",
      " [0.  1. ]\n",
      " [0.8 0.2]\n",
      " [0.2 0.8]\n",
      " [0.2 0.8]\n",
      " [0.4 0.6]\n",
      " [0.  1. ]\n",
      " [0.2 0.8]\n",
      " [0.  1. ]\n",
      " [1.  0. ]\n",
      " [0.  1. ]\n",
      " [0.2 0.8]\n",
      " [0.4 0.6]\n",
      " [0.  1. ]\n",
      " [0.  1. ]]\n"
     ]
    }
   ],
   "source": [
    "probs_log1=clf.predict_proba(X_test)\n",
    "print(probs_log1)"
   ]
  },
  {
   "cell_type": "code",
   "execution_count": 110,
   "id": "af739db8",
   "metadata": {},
   "outputs": [
    {
     "name": "stdout",
     "output_type": "stream",
     "text": [
      "No Skill: ROC AUC=0.500\n",
      "K-Nearest Neighbor Classifier: ROC AUC=0.856\n"
     ]
    },
    {
     "data": {
      "image/png": "[encoded data removed]",
      "text/plain": [
       "<Figure size 432x288 with 1 Axes>"
      ]
     },
     "metadata": {
      "needs_background": "light"
     },
     "output_type": "display_data"
    }
   ],
   "source": [
    "# roc curve and auc\n",
    "from sklearn.datasets import make_classification\n",
    "from sklearn.model_selection import train_test_split\n",
    "from sklearn.metrics import roc_curve\n",
    "from sklearn.metrics import roc_auc_score\n",
    "from matplotlib import pyplot\n",
    "\n",
    "# generate a no skill prediction (majority class)\n",
    "ns_probs = [0 for _ in range(len(y_test))]\n",
    "\n",
    "# keep probabilities for the positive outcome only\n",
    "positive_probs = probs_log1[:, 1]\n",
    "\n",
    "# calculate scores\n",
    "ns_auc = roc_auc_score(y_test, ns_probs)\n",
    "positive_auc = roc_auc_score(y_test, positive_probs)\n",
    "\n",
    "# summarize scores\n",
    "print('No Skill: ROC AUC=%.3f' % (ns_auc))\n",
    "print('K-Nearest Neighbor Classifier: ROC AUC=%.3f' % (positive_auc))\n",
    "\n",
    "# calculate roc curves\n",
    "ns_fpr, ns_tpr, _ = roc_curve(y_test, ns_probs)\n",
    "positive_fpr, positive_tpr, _ = roc_curve(y_test, positive_probs)\n",
    "\n",
    "# plot the roc curve for the model\n",
    "pyplot.plot(ns_fpr, ns_tpr, linestyle='--', label='No Skill')\n",
    "pyplot.plot(positive_fpr, positive_tpr, marker='.', label='K-Nearest Neighbor Classifier')\n",
    "\n",
    "# axis labels\n",
    "pyplot.xlabel('False Positive Rate')\n",
    "pyplot.ylabel('True Positive Rate')\n",
    "\n",
    "# show the legend\n",
    "\n",
    "pyplot.legend()\n",
    "\n",
    "# show the plot\n",
    "pyplot.show()"
   ]
  },
  {
   "cell_type": "code",
   "execution_count": 111,
   "id": "5e73427e",
   "metadata": {},
   "outputs": [
    {
     "name": "stdout",
     "output_type": "stream",
     "text": [
      "Accuracy Score: 0.8032786885245902\n"
     ]
    }
   ],
   "source": [
    "print(\"Accuracy Score:\", clf.score(X_test,y_test))"
   ]
  },
  {
   "cell_type": "code",
   "execution_count": 112,
   "id": "54ccffa0",
   "metadata": {},
   "outputs": [
    {
     "name": "stdout",
     "output_type": "stream",
     "text": [
      "[0. 1. 1. 0. 0. 1. 0. 1. 0. 0. 1. 1. 0. 1. 1. 1. 0. 1. 0. 1. 1. 0. 1. 0.\n",
      " 1. 1. 1. 0. 1. 1. 0. 0. 1. 1. 1. 0. 0. 1. 0. 0. 0. 1. 1. 0. 0. 1. 1. 1.\n",
      " 0. 1. 1. 1. 1. 1. 1. 0. 1. 1. 1. 1. 1.]\n"
     ]
    }
   ],
   "source": [
    "y_pred=clf.predict(X_test)\n",
    "print(y_pred)"
   ]
  },
  {
   "cell_type": "code",
   "execution_count": 113,
   "id": "314e6570",
   "metadata": {},
   "outputs": [
    {
     "data": {
      "text/plain": [
       "(0.8077803203661327, 0.7930283224400871, 0.7966666666666666, None)"
      ]
     },
     "execution_count": 113,
     "metadata": {},
     "output_type": "execute_result"
    }
   ],
   "source": [
    "precision_recall_fscore_support(y_test, y_pred, average='macro')"
   ]
  },
  {
   "cell_type": "markdown",
   "id": "ab51d3ca",
   "metadata": {},
   "source": [
    "## Analysis Results: K-Nearest Neighbor Classifier\n",
    "1. AUC-ROC curve is presented above with ROC AUC=0.856 for K-Nearest Neighbor Classifier\n",
    "2. Accuracy Score: 0.80\n",
    "3. Precision: 0.81\n",
    "4. Recall: 0.79\n",
    "5. F-score: 0.80"
   ]
  },
  {
   "cell_type": "markdown",
   "id": "75b92fcd",
   "metadata": {},
   "source": [
    "# Summary of Performances of various models\n",
    "## 1. Gaussian NB\n",
    "1. AUC-ROC curve is presented above with ROC AUC=0.882 for Gaussian Naive Bayes:\n",
    "2. Accuracy Score: 0.80\n",
    "3. Precision: 0.80\n",
    "4. Recall: 0.80\n",
    "5. F-score: 0.80\n",
    "\n",
    "## 2.Logistic Regression¶\n",
    "1. AUC-ROC curve is presented above with ROC AUC=0.871 for Logistic Regression:\n",
    "2. Accuracy Score: 0.82\n",
    "3. Precision: 0.82\n",
    "4. Recall: 0.81\n",
    "5. F-score: 0.81\n",
    "\n",
    "## 3. Decision Tree Classifier\n",
    "1. AUC-ROC curve is presented above with ROC AUC=0.745 for Decision Tree Classifier\n",
    "2. Accuracy Score: 0.75\n",
    "3. Precision: 0.75\n",
    "4. Recall: 0.74\n",
    "5. F-score: 0.75\n",
    "\n",
    "## 4. Random Forest (Ensemble) Classifier\n",
    "1. AUC-ROC curve is presented above with ROC AUC=0.869 for Random Forest (Ensemble) Classifier\n",
    "2. Accuracy Score: 0.79\n",
    "3. Precision: 0.79\n",
    "4. Recall: 0.78\n",
    "5. F-score: 0.78\n",
    "\n",
    "## 5. K-Nearest Neighbor Classifier¶\n",
    "1. AUC-ROC curve is presented above with ROC AUC=0.856 for K-Nearest Neighbor Classifier\n",
    "2. Accuracy Score: 0.80\n",
    "3. Precision: 0.81\n",
    "4. Recall: 0.79\n",
    "5. F-score: 0.80\n",
    "\n",
    "## Clearly, Logistic Regression outperforms all the other models with an accuracy score of 0.82 and a precision score of 0.82.\n",
    "This may be because  Logistic regression performs better when the number of noise variables is less than or equal to the number of explanatory variables and the random forest has a higher true and false positive rate as the number of explanatory variables increases in a dataset."
   ]
  },
  {
   "cell_type": "markdown",
   "id": "de1f01cc",
   "metadata": {},
   "source": [
    "# Thank You!!"
   ]
  },
  {
   "cell_type": "code",
   "execution_count": null,
   "id": "f7c1d1cb",
   "metadata": {},
   "outputs": [],
   "source": []
  }
 ],
 "metadata": {
  "celltoolbar": "Raw Cell Format",
  "kernelspec": {
   "display_name": "Python 3 (ipykernel)",
   "language": "python",
   "name": "python3"
  },
  "language_info": {
   "codemirror_mode": {
    "name": "ipython",
    "version": 3
   },
   "file_extension": ".py",
   "mimetype": "text/x-python",
   "name": "python",
   "nbconvert_exporter": "python",
   "pygments_lexer": "ipython3",
   "version": "3.9.6"
  }
 },
 "nbformat": 4,
 "nbformat_minor": 5
}
